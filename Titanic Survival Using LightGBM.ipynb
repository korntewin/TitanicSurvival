{
 "cells": [
  {
   "cell_type": "code",
   "execution_count": 24,
   "metadata": {},
   "outputs": [
    {
     "name": "stdout",
     "output_type": "stream",
     "text": [
      "Collecting lightgbm\n",
      "  Downloading lightgbm-2.0.6-py2.py3-none-win_amd64.whl (987kB)\n",
      "Requirement already satisfied: numpy in d:\\programdata\\anaconda3\\lib\\site-packages (from lightgbm)\n",
      "Requirement already satisfied: scipy in d:\\programdata\\anaconda3\\lib\\site-packages (from lightgbm)\n",
      "Requirement already satisfied: scikit-learn in d:\\programdata\\anaconda3\\lib\\site-packages (from lightgbm)\n",
      "Installing collected packages: lightgbm\n",
      "Successfully installed lightgbm-2.0.6\n"
     ]
    }
   ],
   "source": [
    "!pip install lightgbm"
   ]
  },
  {
   "cell_type": "code",
   "execution_count": 102,
   "metadata": {
    "collapsed": true
   },
   "outputs": [],
   "source": [
    "import lightgbm as lgb\n",
    "import seaborn as sns\n",
    "import numpy as np\n",
    "import pandas as pd\n",
    "import math\n",
    "import csv\n",
    "import matplotlib.pyplot as plt"
   ]
  },
  {
   "cell_type": "markdown",
   "metadata": {},
   "source": [
    "# Import Training set and Test set of Titanic Passengers"
   ]
  },
  {
   "cell_type": "code",
   "execution_count": 103,
   "metadata": {},
   "outputs": [
    {
     "name": "stdout",
     "output_type": "stream",
     "text": [
      "Shape of train set (891, 12)\n",
      "Shape of test set (418, 11)\n",
      "--- Null Data on train set ---\n",
      " PassengerId      0\n",
      "Survived         0\n",
      "Pclass           0\n",
      "Name             0\n",
      "Sex              0\n",
      "Age            177\n",
      "SibSp            0\n",
      "Parch            0\n",
      "Ticket           0\n",
      "Fare             0\n",
      "Cabin          687\n",
      "Embarked         2\n",
      "dtype: int64\n",
      "--- Null Data on test set ---\n",
      " PassengerId      0\n",
      "Pclass           0\n",
      "Name             0\n",
      "Sex              0\n",
      "Age             86\n",
      "SibSp            0\n",
      "Parch            0\n",
      "Ticket           0\n",
      "Fare             1\n",
      "Cabin          327\n",
      "Embarked         0\n",
      "dtype: int64\n"
     ]
    }
   ],
   "source": [
    "whole_train_set = pd.read_csv('train.csv')\n",
    "whole_test_set = pd.read_csv('test.csv')\n",
    "\n",
    "print('Shape of train set', whole_train_set.shape)\n",
    "print('Shape of test set', whole_test_set.shape)\n",
    "\n",
    "print('--- Null Data on train set ---\\n', whole_train_set.isnull().sum())\n",
    "print('--- Null Data on test set ---\\n', whole_test_set.isnull().sum())"
   ]
  },
  {
   "cell_type": "markdown",
   "metadata": {},
   "source": [
    "# Cleanse Data"
   ]
  },
  {
   "cell_type": "code",
   "execution_count": 104,
   "metadata": {},
   "outputs": [
    {
     "name": "stdout",
     "output_type": "stream",
     "text": [
      "     Survived  Pclass                                               Name  \\\n",
      "0           0       3                            Braund, Mr. Owen Harris   \n",
      "1           1       1  Cumings, Mrs. John Bradley (Florence Briggs Th...   \n",
      "2           1       3                             Heikkinen, Miss. Laina   \n",
      "3           1       1       Futrelle, Mrs. Jacques Heath (Lily May Peel)   \n",
      "4           0       3                           Allen, Mr. William Henry   \n",
      "5           0       3                                   Moran, Mr. James   \n",
      "6           0       1                            McCarthy, Mr. Timothy J   \n",
      "7           0       3                     Palsson, Master. Gosta Leonard   \n",
      "8           1       3  Johnson, Mrs. Oscar W (Elisabeth Vilhelmina Berg)   \n",
      "9           1       2                Nasser, Mrs. Nicholas (Adele Achem)   \n",
      "10          1       3                    Sandstrom, Miss. Marguerite Rut   \n",
      "11          1       1                           Bonnell, Miss. Elizabeth   \n",
      "12          0       3                     Saundercock, Mr. William Henry   \n",
      "13          0       3                        Andersson, Mr. Anders Johan   \n",
      "14          0       3               Vestrom, Miss. Hulda Amanda Adolfina   \n",
      "15          1       2                   Hewlett, Mrs. (Mary D Kingcome)    \n",
      "16          0       3                               Rice, Master. Eugene   \n",
      "17          1       2                       Williams, Mr. Charles Eugene   \n",
      "18          0       3  Vander Planke, Mrs. Julius (Emelia Maria Vande...   \n",
      "19          1       3                            Masselmani, Mrs. Fatima   \n",
      "20          0       2                               Fynney, Mr. Joseph J   \n",
      "21          1       2                              Beesley, Mr. Lawrence   \n",
      "22          1       3                        McGowan, Miss. Anna \"Annie\"   \n",
      "23          1       1                       Sloper, Mr. William Thompson   \n",
      "24          0       3                      Palsson, Miss. Torborg Danira   \n",
      "25          1       3  Asplund, Mrs. Carl Oscar (Selma Augusta Emilia...   \n",
      "26          0       3                            Emir, Mr. Farred Chehab   \n",
      "27          0       1                     Fortune, Mr. Charles Alexander   \n",
      "28          1       3                      O'Dwyer, Miss. Ellen \"Nellie\"   \n",
      "29          0       3                                Todoroff, Mr. Lalio   \n",
      "..        ...     ...                                                ...   \n",
      "861         0       2                        Giles, Mr. Frederick Edward   \n",
      "862         1       1  Swift, Mrs. Frederick Joel (Margaret Welles Ba...   \n",
      "863         0       3                  Sage, Miss. Dorothy Edith \"Dolly\"   \n",
      "864         0       2                             Gill, Mr. John William   \n",
      "865         1       2                           Bystrom, Mrs. (Karolina)   \n",
      "866         1       2                       Duran y More, Miss. Asuncion   \n",
      "867         0       1               Roebling, Mr. Washington Augustus II   \n",
      "868         0       3                        van Melkebeke, Mr. Philemon   \n",
      "869         1       3                    Johnson, Master. Harold Theodor   \n",
      "870         0       3                                  Balkic, Mr. Cerin   \n",
      "871         1       1   Beckwith, Mrs. Richard Leonard (Sallie Monypeny)   \n",
      "872         0       1                           Carlsson, Mr. Frans Olof   \n",
      "873         0       3                        Vander Cruyssen, Mr. Victor   \n",
      "874         1       2              Abelson, Mrs. Samuel (Hannah Wizosky)   \n",
      "875         1       3                   Najib, Miss. Adele Kiamie \"Jane\"   \n",
      "876         0       3                      Gustafsson, Mr. Alfred Ossian   \n",
      "877         0       3                               Petroff, Mr. Nedelio   \n",
      "878         0       3                                 Laleff, Mr. Kristo   \n",
      "879         1       1      Potter, Mrs. Thomas Jr (Lily Alexenia Wilson)   \n",
      "880         1       2       Shelley, Mrs. William (Imanita Parrish Hall)   \n",
      "881         0       3                                 Markun, Mr. Johann   \n",
      "882         0       3                       Dahlberg, Miss. Gerda Ulrika   \n",
      "883         0       2                      Banfield, Mr. Frederick James   \n",
      "884         0       3                             Sutehall, Mr. Henry Jr   \n",
      "885         0       3               Rice, Mrs. William (Margaret Norton)   \n",
      "886         0       2                              Montvila, Rev. Juozas   \n",
      "887         1       1                       Graham, Miss. Margaret Edith   \n",
      "888         0       3           Johnston, Miss. Catherine Helen \"Carrie\"   \n",
      "889         1       1                              Behr, Mr. Karl Howell   \n",
      "890         0       3                                Dooley, Mr. Patrick   \n",
      "\n",
      "        Sex   Age  SibSp  Parch      Fare        Cabin Embarked  \n",
      "0      male  22.0      1      0    7.2500          NaN        S  \n",
      "1    female  38.0      1      0   71.2833          C85        C  \n",
      "2    female  26.0      0      0    7.9250          NaN        S  \n",
      "3    female  35.0      1      0   53.1000         C123        S  \n",
      "4      male  35.0      0      0    8.0500          NaN        S  \n",
      "5      male   NaN      0      0    8.4583          NaN        Q  \n",
      "6      male  54.0      0      0   51.8625          E46        S  \n",
      "7      male   2.0      3      1   21.0750          NaN        S  \n",
      "8    female  27.0      0      2   11.1333          NaN        S  \n",
      "9    female  14.0      1      0   30.0708          NaN        C  \n",
      "10   female   4.0      1      1   16.7000           G6        S  \n",
      "11   female  58.0      0      0   26.5500         C103        S  \n",
      "12     male  20.0      0      0    8.0500          NaN        S  \n",
      "13     male  39.0      1      5   31.2750          NaN        S  \n",
      "14   female  14.0      0      0    7.8542          NaN        S  \n",
      "15   female  55.0      0      0   16.0000          NaN        S  \n",
      "16     male   2.0      4      1   29.1250          NaN        Q  \n",
      "17     male   NaN      0      0   13.0000          NaN        S  \n",
      "18   female  31.0      1      0   18.0000          NaN        S  \n",
      "19   female   NaN      0      0    7.2250          NaN        C  \n",
      "20     male  35.0      0      0   26.0000          NaN        S  \n",
      "21     male  34.0      0      0   13.0000          D56        S  \n",
      "22   female  15.0      0      0    8.0292          NaN        Q  \n",
      "23     male  28.0      0      0   35.5000           A6        S  \n",
      "24   female   8.0      3      1   21.0750          NaN        S  \n",
      "25   female  38.0      1      5   31.3875          NaN        S  \n",
      "26     male   NaN      0      0    7.2250          NaN        C  \n",
      "27     male  19.0      3      2  263.0000  C23 C25 C27        S  \n",
      "28   female   NaN      0      0    7.8792          NaN        Q  \n",
      "29     male   NaN      0      0    7.8958          NaN        S  \n",
      "..      ...   ...    ...    ...       ...          ...      ...  \n",
      "861    male  21.0      1      0   11.5000          NaN        S  \n",
      "862  female  48.0      0      0   25.9292          D17        S  \n",
      "863  female   NaN      8      2   69.5500          NaN        S  \n",
      "864    male  24.0      0      0   13.0000          NaN        S  \n",
      "865  female  42.0      0      0   13.0000          NaN        S  \n",
      "866  female  27.0      1      0   13.8583          NaN        C  \n",
      "867    male  31.0      0      0   50.4958          A24        S  \n",
      "868    male   NaN      0      0    9.5000          NaN        S  \n",
      "869    male   4.0      1      1   11.1333          NaN        S  \n",
      "870    male  26.0      0      0    7.8958          NaN        S  \n",
      "871  female  47.0      1      1   52.5542          D35        S  \n",
      "872    male  33.0      0      0    5.0000  B51 B53 B55        S  \n",
      "873    male  47.0      0      0    9.0000          NaN        S  \n",
      "874  female  28.0      1      0   24.0000          NaN        C  \n",
      "875  female  15.0      0      0    7.2250          NaN        C  \n",
      "876    male  20.0      0      0    9.8458          NaN        S  \n",
      "877    male  19.0      0      0    7.8958          NaN        S  \n",
      "878    male   NaN      0      0    7.8958          NaN        S  \n",
      "879  female  56.0      0      1   83.1583          C50        C  \n",
      "880  female  25.0      0      1   26.0000          NaN        S  \n",
      "881    male  33.0      0      0    7.8958          NaN        S  \n",
      "882  female  22.0      0      0   10.5167          NaN        S  \n",
      "883    male  28.0      0      0   10.5000          NaN        S  \n",
      "884    male  25.0      0      0    7.0500          NaN        S  \n",
      "885  female  39.0      0      5   29.1250          NaN        Q  \n",
      "886    male  27.0      0      0   13.0000          NaN        S  \n",
      "887  female  19.0      0      0   30.0000          B42        S  \n",
      "888  female   NaN      1      2   23.4500          NaN        S  \n",
      "889    male  26.0      0      0   30.0000         C148        C  \n",
      "890    male  32.0      0      0    7.7500          NaN        Q  \n",
      "\n",
      "[891 rows x 10 columns]\n"
     ]
    }
   ],
   "source": [
    "# drop passengers ID\n",
    "drop_col = ['PassengerId', 'Ticket']\n",
    "train_drop_set = whole_train_set.drop(drop_col, axis = 1)\n",
    "test_drop_set = whole_test_set.drop(drop_col, axis = 1)\n",
    "\n",
    "print(train_drop_set)"
   ]
  },
  {
   "cell_type": "code",
   "execution_count": 105,
   "metadata": {
    "scrolled": true
   },
   "outputs": [
    {
     "data": {
      "image/png": "[encoded data removed]",
      "text/plain": [
       "<matplotlib.figure.Figure at 0x20a48837080>"
      ]
     },
     "metadata": {},
     "output_type": "display_data"
    },
    {
     "data": {
      "image/png": "[encoded data removed]",
      "text/plain": [
       "<matplotlib.figure.Figure at 0x20a484b9588>"
      ]
     },
     "metadata": {},
     "output_type": "display_data"
    }
   ],
   "source": [
    "## plot age distribution\n",
    "%matplotlib inline\n",
    "age_train_data = train_drop_set.loc[np.logical_not(train_drop_set.Age.isnull()),'Age']\n",
    "age_test_data = test_drop_set.loc[np.logical_not(test_drop_set.Age.isnull()), 'Age']\n",
    "\n",
    "fig = plt.figure()\n",
    "age_train_data.plot.hist(bins = 30)\n",
    "plt.title('Age Distribution')\n",
    "\n",
    "fig = plt.figure()\n",
    "age_test_data.plot.hist(bins = 30)\n",
    "plt.title('Age Distribution')\n",
    "\n",
    "## drop age due to too many missing age\n",
    "train_drop_age_set = train_drop_set.drop(['Age'], axis = 1)\n",
    "test_drop_age_set = test_drop_set.drop(['Age'], axis = 1)"
   ]
  },
  {
   "cell_type": "code",
   "execution_count": 106,
   "metadata": {},
   "outputs": [
    {
     "name": "stdout",
     "output_type": "stream",
     "text": [
      "Survived    0\n",
      "Pclass      0\n",
      "Name        0\n",
      "Sex         0\n",
      "SibSp       0\n",
      "Parch       0\n",
      "Fare        0\n",
      "Cabin       0\n",
      "Embarked    2\n",
      "dtype: int64\n"
     ]
    }
   ],
   "source": [
    "## Deal with missing value of cabin\n",
    "## missing value mean that this person don't have cabin to stay.\n",
    "train_cabin_set = train_drop_age_set.copy()\n",
    "train_cabin_set.loc[train_cabin_set.Cabin.isnull(),'Cabin'] = 'N'\n",
    "\n",
    "test_cabin_set = test_drop_age_set.copy()\n",
    "test_cabin_set.loc[test_cabin_set.Cabin.isnull(), 'Cabin'] = 'N'\n",
    "\n",
    "## Deal with room number of categories A, B and the other\n",
    "train_cabin_set.Cabin = train_cabin_set.Cabin.apply(lambda x: x[0])\n",
    "test_cabin_set.Cabin = test_cabin_set.Cabin.apply(lambda x: x[0])\n",
    "\n",
    "print(train_cabin_set.isnull().sum())"
   ]
  },
  {
   "cell_type": "code",
   "execution_count": 107,
   "metadata": {},
   "outputs": [
    {
     "name": "stdout",
     "output_type": "stream",
     "text": [
      "S    644\n",
      "C    168\n",
      "Q     77\n",
      "Name: Embarked, dtype: int64\n",
      "Survived    0\n",
      "Pclass      0\n",
      "Name        0\n",
      "Sex         0\n",
      "SibSp       0\n",
      "Parch       0\n",
      "Fare        0\n",
      "Cabin       0\n",
      "Embarked    0\n",
      "dtype: int64\n",
      "Pclass      0\n",
      "Name        0\n",
      "Sex         0\n",
      "SibSp       0\n",
      "Parch       0\n",
      "Fare        0\n",
      "Cabin       0\n",
      "Embarked    0\n",
      "dtype: int64\n"
     ]
    }
   ],
   "source": [
    "## Deal with missing values of Embarked in training set and missing value of Fare in test set\n",
    "print(train_cabin_set.Embarked.value_counts())\n",
    "train_set_temp = train_cabin_set.copy()\n",
    "train_set_temp.loc[train_set_temp.Embarked.isnull(), 'Embarked'] = 'S'\n",
    "\n",
    "test_set_temp = test_cabin_set.copy()\n",
    "median = np.median(test_set_temp.loc[np.logical_not(test_set_temp.Fare.isnull()),'Fare'])\n",
    "test_set_temp.loc[test_set_temp.Fare.isnull(), 'Fare'] = median\n",
    "\n",
    "print(train_set_temp.isnull().sum())\n",
    "print(test_set_temp.isnull().sum())"
   ]
  },
  {
   "cell_type": "code",
   "execution_count": 113,
   "metadata": {},
   "outputs": [
    {
     "name": "stdout",
     "output_type": "stream",
     "text": [
      "{' Lady': 0, ' Don': 1, ' Dr': 2, ' Dona': 3, ' Miss': 4, ' Rev': 5, ' Col': 6, ' Mme': 7, ' Major': 8, ' Capt': 9, ' Mrs': 10, ' Mr': 11, ' Mlle': 12, ' Sir': 13, ' the Countess': 14, ' Master': 15, ' Jonkheer': 16, ' Ms': 17}\n",
      "Survived        0\n",
      "Pclass          0\n",
      "Sex             0\n",
      "SibSp           0\n",
      "Parch           0\n",
      "Fare            0\n",
      "Cabin           0\n",
      "Embarked        0\n",
      "Name_Numeric    0\n",
      "dtype: int64\n"
     ]
    }
   ],
   "source": [
    "## Convert name features into number feature\n",
    "\n",
    "# for train set\n",
    "name_split = train_set_temp['Name'].map(lambda x: x.split(','))\n",
    "name_split_temp = name_split.map(lambda x: x[1].split('.'))\n",
    "train_abb_name = name_split_temp.map(lambda x: x[0])\n",
    "train_abb_name_unique = train_abb_name.unique()\n",
    "\n",
    "# for test set\n",
    "name_split = test_set_temp['Name'].map(lambda x: x.split(','))\n",
    "name_split_temp = name_split.map(lambda x: x[1].split('.'))\n",
    "test_abb_name = name_split_temp.map(lambda x: x[0])\n",
    "test_abb_name_unique = test_abb_name.unique()\n",
    "\n",
    "union_unique = set(list(train_abb_name_unique)).union(set(list(test_abb_name_unique)))\n",
    "\n",
    "# create convert dict\n",
    "dict_mr = {}\n",
    "for i, col in enumerate(union_unique):\n",
    "    dict_mr[col] = int(i)\n",
    "print(dict_mr)\n",
    "\n",
    "train_abb_name_numeric = train_abb_name.map(dict_mr)\n",
    "test_abb_name_numeric = test_abb_name.map(dict_mr)\n",
    "\n",
    "train_set_temp['Name_Numeric'] = train_abb_name_numeric\n",
    "#test_abb_name_numeric[test_abb_name_numeric.isnull()] = 0 \n",
    "#test_abb_name_numeric = test_abb_name_numeric.map(lambda x : int(x))\n",
    "test_set_temp['Name_Numeric'] = test_abb_name_numeric\n",
    "\n",
    "train_drop_name_set = train_set_temp.drop(['Name'], axis = 1)\n",
    "test_drop_name_set = test_set_temp.drop(['Name'], axis = 1)\n",
    "\n",
    "print(train_drop_name_set.isnull().sum())"
   ]
  },
  {
   "cell_type": "code",
   "execution_count": 140,
   "metadata": {},
   "outputs": [
    {
     "name": "stdout",
     "output_type": "stream",
     "text": [
      "train features\n",
      " Cabin_A            0\n",
      "Cabin_B            0\n",
      "Cabin_C            0\n",
      "Cabin_D            0\n",
      "Cabin_E            0\n",
      "Cabin_F            0\n",
      "Cabin_G            0\n",
      "Cabin_N            0\n",
      "Cabin_T            0\n",
      "Embarked_C         0\n",
      "Embarked_Q         0\n",
      "Embarked_S         0\n",
      "Fare               0\n",
      "Name_Numeric_0     0\n",
      "Name_Numeric_1     0\n",
      "Name_Numeric_10    0\n",
      "Name_Numeric_11    0\n",
      "Name_Numeric_12    0\n",
      "Name_Numeric_13    0\n",
      "Name_Numeric_14    0\n",
      "Name_Numeric_15    0\n",
      "Name_Numeric_16    0\n",
      "Name_Numeric_17    0\n",
      "Name_Numeric_2     0\n",
      "Name_Numeric_3     0\n",
      "Name_Numeric_4     0\n",
      "Name_Numeric_5     0\n",
      "Name_Numeric_6     0\n",
      "Name_Numeric_7     0\n",
      "Name_Numeric_8     0\n",
      "Name_Numeric_9     0\n",
      "Parch_0            0\n",
      "Parch_1            0\n",
      "Parch_2            0\n",
      "Parch_3            0\n",
      "Parch_4            0\n",
      "Parch_5            0\n",
      "Parch_6            0\n",
      "Parch_9            0\n",
      "Pclass_1           0\n",
      "Pclass_2           0\n",
      "Pclass_3           0\n",
      "Sex_female         0\n",
      "Sex_male           0\n",
      "SibSp_0            0\n",
      "SibSp_1            0\n",
      "SibSp_2            0\n",
      "SibSp_3            0\n",
      "SibSp_4            0\n",
      "SibSp_5            0\n",
      "SibSp_8            0\n",
      "Survived           0\n",
      "dtype: int64\n",
      "test features\n",
      " Cabin_A            0\n",
      "Cabin_B            0\n",
      "Cabin_C            0\n",
      "Cabin_D            0\n",
      "Cabin_E            0\n",
      "Cabin_F            0\n",
      "Cabin_G            0\n",
      "Cabin_N            0\n",
      "Cabin_T            0\n",
      "Embarked_C         0\n",
      "Embarked_Q         0\n",
      "Embarked_S         0\n",
      "Fare               0\n",
      "Name_Numeric_0     0\n",
      "Name_Numeric_1     0\n",
      "Name_Numeric_10    0\n",
      "Name_Numeric_11    0\n",
      "Name_Numeric_12    0\n",
      "Name_Numeric_13    0\n",
      "Name_Numeric_14    0\n",
      "Name_Numeric_15    0\n",
      "Name_Numeric_16    0\n",
      "Name_Numeric_17    0\n",
      "Name_Numeric_2     0\n",
      "Name_Numeric_3     0\n",
      "Name_Numeric_4     0\n",
      "Name_Numeric_5     0\n",
      "Name_Numeric_6     0\n",
      "Name_Numeric_7     0\n",
      "Name_Numeric_8     0\n",
      "Name_Numeric_9     0\n",
      "Parch_0            0\n",
      "Parch_1            0\n",
      "Parch_2            0\n",
      "Parch_3            0\n",
      "Parch_4            0\n",
      "Parch_5            0\n",
      "Parch_6            0\n",
      "Parch_9            0\n",
      "Pclass_1           0\n",
      "Pclass_2           0\n",
      "Pclass_3           0\n",
      "Sex_female         0\n",
      "Sex_male           0\n",
      "SibSp_0            0\n",
      "SibSp_1            0\n",
      "SibSp_2            0\n",
      "SibSp_3            0\n",
      "SibSp_4            0\n",
      "SibSp_5            0\n",
      "SibSp_8            0\n",
      "Survived           0\n",
      "dtype: int64\n"
     ]
    }
   ],
   "source": [
    "## convert all category features into dummies feature\n",
    "train_set_copy = train_drop_name_set.copy()\n",
    "test_set_copy = test_drop_name_set.copy()\n",
    "\n",
    "col_indicator = ['Pclass', 'Name_Numeric', 'Sex', 'SibSp', 'Parch', 'Cabin', 'Embarked']\n",
    "\n",
    "for col in col_indicator:\n",
    "    train_set_copy = pd.get_dummies(train_set_copy, columns = [col])\n",
    "    test_set_copy = pd.get_dummies(test_set_copy, columns = [col])\n",
    "    \n",
    "## Number of headers in train and test set are not equal.\n",
    "## This has to be resolve\n",
    "\n",
    "all_header = set(list(train_set_copy)).union(set(list(test_set_copy)))\n",
    "\n",
    "for col in all_header:\n",
    "    \n",
    "    if col not in list(train_set_copy):\n",
    "        train_set_copy[col] = np.zeros(train_set_copy.loc[:,list(train_set_copy)[0]].shape)\n",
    "    elif col not in list(test_set_copy):\n",
    "        test_set_copy[col] = np.zeros(test_set_copy.loc[:,list(test_set_copy)[0]].shape)\n",
    "\n",
    "## sort index \n",
    "train_set_copy.sort_index(axis = 1, inplace = True)\n",
    "test_set_copy.sort_index(axis = 1, inplace = True)\n",
    "print('train features\\n',train_set_copy.isnull().sum())\n",
    "print('test features\\n',test_set_copy.isnull().sum())"
   ]
  },
  {
   "cell_type": "code",
   "execution_count": 196,
   "metadata": {},
   "outputs": [
    {
     "name": "stdout",
     "output_type": "stream",
     "text": [
      "mean test 0.05070003046569588\n",
      "std test 1.0180356352070383\n"
     ]
    },
    {
     "data": {
      "image/png": "[encoded data removed]",
      "text/plain": [
       "<matplotlib.figure.Figure at 0x20a48c15208>"
      ]
     },
     "metadata": {},
     "output_type": "display_data"
    }
   ],
   "source": [
    "## Normalize Fare feature\n",
    "train_set_normalize = train_set_copy.copy()\n",
    "test_set_normalize = test_set_copy.copy()\n",
    "\n",
    "min_no_zero = np.min(train_set_normalize.loc[train_set_normalize.Fare > 0, 'Fare'])\n",
    "\n",
    "lamb = min_no_zero/2\n",
    "\n",
    "train_set_normalize.Fare = train_set_normalize.Fare.apply(lambda x : np.log(x + lamb))\n",
    "test_set_normalize.Fare = test_set_normalize.Fare.apply(lambda x : np.log(x + lamb))\n",
    "\n",
    "'''\n",
    "lamb = 0.3\n",
    "train_set_normalize.Fare = train_set_normalize.Fare.apply(lambda x : (x**lamb - 1)/lamb)\n",
    "test_set_normalize.Fare = test_set_normalize.Fare.apply(lambda x : (x**lamb - 1)/lamb)\n",
    "'''\n",
    "mean_train = np.mean(train_set_normalize.Fare)\n",
    "std_train = np.std(train_set_normalize.Fare)\n",
    "\n",
    "fig = plt.figure()\n",
    "test_set_normalize.Fare.plot.hist(bins = 30)\n",
    "\n",
    "## Begin normalize features\n",
    "test_set_normalize.Fare = (test_set_normalize.Fare - mean_train)/std_train\n",
    "train_set_normalize.Fare = (train_set_normalize.Fare - mean_train)/std_train\n",
    "\n",
    "print('mean test', np.mean(test_set_normalize.Fare))\n",
    "print('std test', np.std(test_set_normalize.Fare))"
   ]
  },
  {
   "cell_type": "markdown",
   "metadata": {},
   "source": [
    "# Light Gradient Boost Tree Decision"
   ]
  },
  {
   "cell_type": "code",
   "execution_count": 193,
   "metadata": {},
   "outputs": [
    {
     "data": {
      "text/plain": [
       "1.0"
      ]
     },
     "execution_count": 193,
     "metadata": {},
     "output_type": "execute_result"
    }
   ],
   "source": [
    "from sklearn.metrics import accuracy_score"
   ]
  },
  {
   "cell_type": "code",
   "execution_count": 243,
   "metadata": {},
   "outputs": [
    {
     "name": "stdout",
     "output_type": "stream",
     "text": [
      "X_train shape (51, 891)\n",
      "X_test shape (51, 418)\n",
      "Y_train shape (891,)\n"
     ]
    }
   ],
   "source": [
    "## Extract survived featrue from train set\n",
    "train_set_extract = train_set_normalize.drop(['Survived'], axis = 1)\n",
    "test_set_extract = test_set_normalize.drop(['Survived'], axis = 1)\n",
    "\n",
    "X = train_set_extract.as_matrix().T\n",
    "X_test = test_set_extract.as_matrix().T\n",
    "Y = train_set_normalize.Survived.as_matrix()\n",
    "\n",
    "print('X_train shape', X.shape)\n",
    "print('X_test shape', X_test.shape)\n",
    "print('Y_train shape', Y.shape)\n"
   ]
  },
  {
   "cell_type": "code",
   "execution_count": 417,
   "metadata": {},
   "outputs": [
    {
     "name": "stdout",
     "output_type": "stream",
     "text": [
      "total samples of splited data 891\n"
     ]
    }
   ],
   "source": [
    "## simple split train data to 80/20\n",
    "ratio = 0.9\n",
    "\n",
    "m = X.shape[1]\n",
    "X_train = X[:, 0:round(ratio*m)]\n",
    "X_dev = X[:,round(ratio*m):]\n",
    "\n",
    "Y_train = Y[0:round(ratio*m)]\n",
    "Y_dev = Y[round(ratio*m):]\n",
    "\n",
    "print('total samples of splited data', X_train.shape[1] + X_dev.shape[1])"
   ]
  },
  {
   "cell_type": "code",
   "execution_count": 428,
   "metadata": {
    "collapsed": true
   },
   "outputs": [],
   "source": [
    "## specify lgb\n",
    "\n",
    "lgb_train = lgb.Dataset(X_train.T, Y_train.T)\n",
    "lgb_eval = lgb.Dataset(X_dev.T, Y_dev.T, reference=lgb_train)\n",
    "\n",
    "# specify your configurations as a dict\n",
    "params = {\n",
    "    'task': 'train',\n",
    "    'boosting_type': 'gbdt',\n",
    "    'objective': 'binary',\n",
    "    'metric': {'l2','binary_logloss'},\n",
    "    'num_leaves': 100,\n",
    "    'learning_rate': 0.02,\n",
    "    'feature_fraction': 0.9,\n",
    "    'bagging_fraction': 0.8,\n",
    "    'bagging_freq': 5,\n",
    "    'verbose': 0\n",
    "}"
   ]
  },
  {
   "cell_type": "code",
   "execution_count": 429,
   "metadata": {
    "scrolled": true
   },
   "outputs": [],
   "source": [
    "## Train lgb model\n",
    "gbm = lgb.train(params,\n",
    "                lgb_train,\n",
    "                num_boost_round=400,\n",
    "                valid_sets=lgb_eval,\n",
    "               verbose_eval = False)"
   ]
  },
  {
   "cell_type": "code",
   "execution_count": 430,
   "metadata": {},
   "outputs": [
    {
     "name": "stdout",
     "output_type": "stream",
     "text": [
      "{'Survived': array([ 0.,  0.,  0.,  0.,  1.,  0.,  1.,  0.,  1.,  0.,  0.,  0.,  1.,\n",
      "        0.,  1.,  1.,  0.,  0.,  1.,  1.,  0.,  0.,  1.,  0.,  1.,  0.,\n",
      "        1.,  0.,  1.,  0.,  0.,  0.,  1.,  0.,  1.,  0.,  0.,  0.,  0.,\n",
      "        1.,  0.,  1.,  0.,  1.,  1.,  0.,  0.,  0.,  1.,  1.,  0.,  0.,\n",
      "        1.,  1.,  0.,  0.,  0.,  0.,  0.,  1.,  0.,  0.,  0.,  1.,  1.,\n",
      "        1.,  1.,  0.,  0.,  1.,  1.,  0.,  1.,  0.,  1.,  0.,  0.,  1.,\n",
      "        0.,  1.,  1.,  0.,  0.,  0.,  0.,  0.,  1.,  0.,  1.,  1.,  0.,\n",
      "        0.,  1.,  0.,  0.,  0.,  1.,  0.,  1.,  0.,  1.,  0.,  0.,  0.,\n",
      "        0.,  0.,  0.,  0.,  0.,  0.,  0.,  1.,  1.,  1.,  1.,  0.,  0.,\n",
      "        1.,  0.,  1.,  1.,  0.,  1.,  0.,  0.,  1.,  0.,  1.,  0.,  0.,\n",
      "        0.,  0.,  0.,  0.,  0.,  0.,  0.,  0.,  0.,  0.,  0.,  1.,  1.,\n",
      "        0.,  0.,  0.,  0.,  0.,  0.,  0.,  1.,  0.,  0.,  1.,  0.,  0.,\n",
      "        1.,  1.,  1.,  0.,  1.,  1.,  1.,  0.,  0.,  0.,  0.,  0.,  1.,\n",
      "        0.,  0.,  0.,  0.,  0.,  0.,  1.,  1.,  1.,  1.,  1.,  0.,  1.,\n",
      "        1.,  0.,  1.,  0.,  1.,  0.,  0.,  0.,  0.,  0.,  1.,  0.,  1.,\n",
      "        0.,  1.,  1.,  0.,  0.,  1.,  1.,  1.,  1.,  0.,  0.,  1.,  0.,\n",
      "        1.,  0.,  0.,  0.,  0.,  1.,  0.,  0.,  1.,  0.,  1.,  0.,  1.,\n",
      "        0.,  1.,  0.,  1.,  1.,  0.,  1.,  0.,  0.,  0.,  1.,  0.,  0.,\n",
      "        0.,  0.,  1.,  0.,  1.,  1.,  1.,  1.,  1.,  0.,  1.,  0.,  1.,\n",
      "        0.,  1.,  0.,  1.,  0.,  0.,  0.,  0.,  0.,  0.,  0.,  1.,  0.,\n",
      "        0.,  0.,  1.,  1.,  0.,  0.,  0.,  0.,  0.,  0.,  0.,  0.,  1.,\n",
      "        1.,  0.,  1.,  0.,  0.,  0.,  0.,  0.,  1.,  1.,  1.,  1.,  0.,\n",
      "        0.,  0.,  0.,  0.,  0.,  0.,  0.,  0.,  0.,  0.,  1.,  0.,  0.,\n",
      "        0.,  0.,  0.,  0.,  0.,  1.,  1.,  0.,  0.,  1.,  0.,  0.,  0.,\n",
      "        0.,  1.,  1.,  1.,  1.,  0.,  0.,  0.,  0.,  0.,  0.,  0.,  1.,\n",
      "        0.,  1.,  0.,  0.,  0.,  1.,  0.,  0.,  1.,  0.,  0.,  0.,  0.,\n",
      "        0.,  1.,  0.,  0.,  0.,  1.,  1.,  1.,  0.,  1.,  0.,  1.,  1.,\n",
      "        0.,  0.,  0.,  1.,  0.,  1.,  0.,  0.,  1.,  0.,  1.,  1.,  0.,\n",
      "        1.,  0.,  0.,  0.,  1.,  0.,  0.,  1.,  0.,  0.,  1.,  1.,  0.,\n",
      "        0.,  0.,  0.,  0.,  0.,  0.,  1.,  0.,  1.,  0.,  0.,  0.,  0.,\n",
      "        1.,  1.,  1.,  0.,  0.,  1.,  0.,  1.,  0.,  0.,  1.,  0.,  1.,\n",
      "        0.,  0.,  0.,  0.,  0.,  1.,  0.,  1.,  1.,  1.,  0.,  1.,  0.,\n",
      "        0.,  1.])}\n"
     ]
    }
   ],
   "source": [
    "y_pred = gbm.predict(X_test.T, num_iteration=gbm.best_iteration)\n",
    "# eval\n",
    "Y_pred = np.array([round(x) for x in y_pred])\n",
    "dic = {'Survived':Y_pred}\n",
    "\n",
    "output = pd.DataFrame(dic)\n",
    "output.to_csv('Output.csv')\n",
    "\n",
    "print(dic)\n",
    "#print('The accuracy of prediction is:', accuracy_score(Y_dev, Y_pred))\n",
    "\n",
    "#print('Feature importances:', list(gbm.feature_importance()))"
   ]
  },
  {
   "cell_type": "markdown",
   "metadata": {},
   "source": [
    "# Random Split Test set"
   ]
  },
  {
   "cell_type": "code",
   "execution_count": 352,
   "metadata": {
    "collapsed": true
   },
   "outputs": [],
   "source": [
    "def random_split(X,Y, num_fold = 10):\n",
    "    \n",
    "    '''\n",
    "    Split X and Y to num_fold\n",
    "    \n",
    "    '''\n",
    "    \n",
    "    m = X.shape[1]\n",
    "    X_temp = X.copy()\n",
    "    Y_temp = Y.copy()\n",
    "    \n",
    "    permute_index = np.random.permutation(m)\n",
    "    \n",
    "    X_temp = X_temp[:, permute_index]\n",
    "    Y_temp = Y_temp[permute_index]\n",
    "    \n",
    "    X_fold = np.array_split(X_temp, num_fold, axis = 1)\n",
    "    Y_fold = np.array_split(Y_temp, num_fold)\n",
    "    \n",
    "    X_out = []\n",
    "    Y_out = []\n",
    "    \n",
    "    for i in range(num_fold):\n",
    "        X_dev_out = X_fold[i]\n",
    "        Y_dev_out = Y_fold[i]\n",
    "        \n",
    "        count = 0\n",
    "        for k in range(num_fold):\n",
    "            \n",
    "            if k != i:\n",
    "                count += 1\n",
    "                if count == 1:\n",
    "                    X_train_out = X_fold[k]\n",
    "                    Y_train_out = Y_fold[k]\n",
    "                else:\n",
    "                    X_train_out = np.concatenate((X_train_out, X_fold[k]), axis = 1)\n",
    "                    Y_train_out = np.concatenate((Y_train_out, Y_fold[k]))\n",
    "    \n",
    "        X_out.append((X_train_out, X_dev_out))\n",
    "        Y_out.append((Y_train_out.reshape(1, len(Y_train_out)), Y_dev_out.reshape(1, len(Y_dev_out))))\n",
    "    \n",
    "    return X_out, Y_out"
   ]
  },
  {
   "cell_type": "code",
   "execution_count": 353,
   "metadata": {},
   "outputs": [
    {
     "name": "stdout",
     "output_type": "stream",
     "text": [
      "(51, 801)\n",
      "(1, 90)\n"
     ]
    }
   ],
   "source": [
    "X_fold, Y_fold = random_split(X, Y)\n",
    "print(X_fold[0][0].shape)\n",
    "print(Y_fold[0][1].shape)"
   ]
  },
  {
   "cell_type": "code",
   "execution_count": 411,
   "metadata": {
    "collapsed": true
   },
   "outputs": [],
   "source": [
    "def cross_validate(X, Y, num_fold = 10, num_hyper = 10, print_cost = True):\n",
    "    \n",
    "    X_fold, Y_fold = random_split(X, Y, num_fold = num_fold)\n",
    "    \n",
    "    result_validate = pd.DataFrame({})\n",
    "    num_leaves = np.round(np.random.rand(num_hyper,1)*200 + 31)\n",
    "    print(num_leaves)\n",
    "    \n",
    "    for k in range(num_hyper):\n",
    "        \n",
    "        dev_acc = []\n",
    "        dic = {}\n",
    "        nn = int(num_leaves[k])\n",
    "        print(nn)\n",
    "        \n",
    "        for i in range(num_fold):\n",
    "\n",
    "            X_train = X_fold[i][0]\n",
    "            X_dev = X_fold[i][1]\n",
    "\n",
    "            Y_train = np.squeeze(Y_fold[i][0])\n",
    "            Y_dev = np.squeeze(Y_fold[i][1])\n",
    "\n",
    "            lgb_train = lgb.Dataset(X_train.T, Y_train.T)\n",
    "            lgb_eval = lgb.Dataset(X_dev.T, Y_dev.T, reference=lgb_train)\n",
    "\n",
    "            # specify your configurations as a dict\n",
    "            params = {\n",
    "                'task': 'train',\n",
    "                'boosting_type': 'gbdt',\n",
    "                'objective': 'binary',\n",
    "                'metric': {'l2','binary_logloss'},\n",
    "                'num_leaves': nn,\n",
    "                'learning_rate': 0.02,\n",
    "                'feature_fraction': 0.9,\n",
    "                'bagging_fraction': 0.8,\n",
    "                'bagging_freq': 5,\n",
    "                'verbose': 0\n",
    "            }\n",
    "\n",
    "            gbm = lgb.train(params,\n",
    "                            lgb_train,\n",
    "                            num_boost_round=400,\n",
    "                            valid_sets=lgb_eval,\n",
    "                            verbose_eval = False)\n",
    "\n",
    "            y_pred = gbm.predict(X_dev.T, num_iteration=gbm.best_iteration)\n",
    "            Y_pred = np.array([round(x) for x in y_pred])\n",
    "\n",
    "            dev_acc.append(accuracy_score(Y_dev, Y_pred))\n",
    "\n",
    "            if print_cost:\n",
    "                print('-- round ' + str(i) +' --')\n",
    "                print('The accuracy of prediction is:', accuracy_score(Y_dev, Y_pred))\n",
    "\n",
    "        mean = np.mean(dev_acc)\n",
    "        std = np.std(dev_acc)\n",
    "        dev_acc.append(mean)\n",
    "        dev_acc.append(std)\n",
    "\n",
    "        dic['model_' + str(k)] = dev_acc\n",
    "\n",
    "        result_validate = pd.concat([result_validate, pd.DataFrame(dic)], axis = 1, ignore_index = True)\n",
    "        print(result_validate)\n",
    "    \n",
    "    ## Create row index\n",
    "    row_dic = {}\n",
    "    row_index = []\n",
    "    for i in range(num_fold):\n",
    "        row_index.append('fold_'+str(i))\n",
    "    \n",
    "    row_index.append('mean')\n",
    "    row_index.append('std')\n",
    "    \n",
    "    row_dic['fold'] = row_index\n",
    "    \n",
    "    result_validate = pd.concat([pd.DataFrame(row_dic), result_validate], axis = 1)\n",
    "    result_validate.set_index('fold')\n",
    "    \n",
    "    print(result_validate)\n",
    "    \n",
    "    return result_validate"
   ]
  },
  {
   "cell_type": "code",
   "execution_count": 412,
   "metadata": {},
   "outputs": [
    {
     "name": "stdout",
     "output_type": "stream",
     "text": [
      "[[ 108.]\n",
      " [ 158.]\n",
      " [  32.]\n",
      " [ 147.]\n",
      " [ 178.]\n",
      " [ 219.]\n",
      " [ 161.]\n",
      " [ 133.]\n",
      " [ 102.]\n",
      " [  61.]]\n",
      "108\n",
      "           0\n",
      "0   0.877778\n",
      "1   0.764045\n",
      "2   0.853933\n",
      "3   0.820225\n",
      "4   0.764045\n",
      "5   0.853933\n",
      "6   0.764045\n",
      "7   0.853933\n",
      "8   0.853933\n",
      "9   0.820225\n",
      "10  0.822609\n",
      "11  0.041556\n",
      "158\n",
      "           0         1\n",
      "0   0.877778  0.877778\n",
      "1   0.764045  0.764045\n",
      "2   0.853933  0.853933\n",
      "3   0.820225  0.820225\n",
      "4   0.764045  0.764045\n",
      "5   0.853933  0.853933\n",
      "6   0.764045  0.764045\n",
      "7   0.853933  0.853933\n",
      "8   0.853933  0.853933\n",
      "9   0.820225  0.820225\n",
      "10  0.822609  0.822609\n",
      "11  0.041556  0.041556\n",
      "32\n",
      "           0         1         2\n",
      "0   0.877778  0.877778  0.877778\n",
      "1   0.764045  0.764045  0.764045\n",
      "2   0.853933  0.853933  0.853933\n",
      "3   0.820225  0.820225  0.820225\n",
      "4   0.764045  0.764045  0.764045\n",
      "5   0.853933  0.853933  0.853933\n",
      "6   0.764045  0.764045  0.764045\n",
      "7   0.853933  0.853933  0.853933\n",
      "8   0.853933  0.853933  0.853933\n",
      "9   0.820225  0.820225  0.820225\n",
      "10  0.822609  0.822609  0.822609\n",
      "11  0.041556  0.041556  0.041556\n",
      "147\n",
      "           0         1         2         3\n",
      "0   0.877778  0.877778  0.877778  0.877778\n",
      "1   0.764045  0.764045  0.764045  0.764045\n",
      "2   0.853933  0.853933  0.853933  0.853933\n",
      "3   0.820225  0.820225  0.820225  0.820225\n",
      "4   0.764045  0.764045  0.764045  0.764045\n",
      "5   0.853933  0.853933  0.853933  0.853933\n",
      "6   0.764045  0.764045  0.764045  0.764045\n",
      "7   0.853933  0.853933  0.853933  0.853933\n",
      "8   0.853933  0.853933  0.853933  0.853933\n",
      "9   0.820225  0.820225  0.820225  0.820225\n",
      "10  0.822609  0.822609  0.822609  0.822609\n",
      "11  0.041556  0.041556  0.041556  0.041556\n",
      "178\n"
     ]
    },
    {
     "ename": "KeyboardInterrupt",
     "evalue": "",
     "output_type": "error",
     "traceback": [
      "\u001b[1;31m---------------------------------------------------------------------------\u001b[0m",
      "\u001b[1;31mKeyboardInterrupt\u001b[0m                         Traceback (most recent call last)",
      "\u001b[1;32m<ipython-input-412-da046638d648>\u001b[0m in \u001b[0;36m<module>\u001b[1;34m()\u001b[0m\n\u001b[1;32m----> 1\u001b[1;33m \u001b[0mcross_validate\u001b[0m\u001b[1;33m(\u001b[0m\u001b[0mX\u001b[0m\u001b[1;33m,\u001b[0m \u001b[0mY\u001b[0m\u001b[1;33m,\u001b[0m \u001b[0mnum_fold\u001b[0m \u001b[1;33m=\u001b[0m \u001b[1;36m10\u001b[0m\u001b[1;33m,\u001b[0m \u001b[0mnum_hyper\u001b[0m \u001b[1;33m=\u001b[0m \u001b[1;36m10\u001b[0m\u001b[1;33m,\u001b[0m \u001b[0mprint_cost\u001b[0m \u001b[1;33m=\u001b[0m \u001b[1;32mFalse\u001b[0m\u001b[1;33m)\u001b[0m\u001b[1;33m\u001b[0m\u001b[0m\n\u001b[0m",
      "\u001b[1;32m<ipython-input-411-886a9c1443f6>\u001b[0m in \u001b[0;36mcross_validate\u001b[1;34m(X, Y, num_fold, num_hyper, print_cost)\u001b[0m\n\u001b[0;32m     43\u001b[0m                             \u001b[0mnum_boost_round\u001b[0m\u001b[1;33m=\u001b[0m\u001b[1;36m400\u001b[0m\u001b[1;33m,\u001b[0m\u001b[1;33m\u001b[0m\u001b[0m\n\u001b[0;32m     44\u001b[0m                             \u001b[0mvalid_sets\u001b[0m\u001b[1;33m=\u001b[0m\u001b[0mlgb_eval\u001b[0m\u001b[1;33m,\u001b[0m\u001b[1;33m\u001b[0m\u001b[0m\n\u001b[1;32m---> 45\u001b[1;33m                             verbose_eval = False)\n\u001b[0m\u001b[0;32m     46\u001b[0m \u001b[1;33m\u001b[0m\u001b[0m\n\u001b[0;32m     47\u001b[0m             \u001b[0my_pred\u001b[0m \u001b[1;33m=\u001b[0m \u001b[0mgbm\u001b[0m\u001b[1;33m.\u001b[0m\u001b[0mpredict\u001b[0m\u001b[1;33m(\u001b[0m\u001b[0mX_dev\u001b[0m\u001b[1;33m.\u001b[0m\u001b[0mT\u001b[0m\u001b[1;33m,\u001b[0m \u001b[0mnum_iteration\u001b[0m\u001b[1;33m=\u001b[0m\u001b[0mgbm\u001b[0m\u001b[1;33m.\u001b[0m\u001b[0mbest_iteration\u001b[0m\u001b[1;33m)\u001b[0m\u001b[1;33m\u001b[0m\u001b[0m\n",
      "\u001b[1;32mD:\\ProgramData\\Anaconda3\\lib\\site-packages\\lightgbm\\engine.py\u001b[0m in \u001b[0;36mtrain\u001b[1;34m(params, train_set, num_boost_round, valid_sets, valid_names, fobj, feval, init_model, feature_name, categorical_feature, early_stopping_rounds, evals_result, verbose_eval, learning_rates, keep_training_booster, callbacks)\u001b[0m\n\u001b[0;32m    223\u001b[0m         \u001b[0mbooster\u001b[0m\u001b[1;33m.\u001b[0m\u001b[0mbest_score\u001b[0m\u001b[1;33m[\u001b[0m\u001b[0mdataset_name\u001b[0m\u001b[1;33m]\u001b[0m\u001b[1;33m[\u001b[0m\u001b[0meval_name\u001b[0m\u001b[1;33m]\u001b[0m \u001b[1;33m=\u001b[0m \u001b[0mscore\u001b[0m\u001b[1;33m\u001b[0m\u001b[0m\n\u001b[0;32m    224\u001b[0m     \u001b[1;32mif\u001b[0m \u001b[1;32mnot\u001b[0m \u001b[0mkeep_training_booster\u001b[0m\u001b[1;33m:\u001b[0m\u001b[1;33m\u001b[0m\u001b[0m\n\u001b[1;32m--> 225\u001b[1;33m         \u001b[0mbooster\u001b[0m\u001b[1;33m.\u001b[0m\u001b[0m_load_model_from_string\u001b[0m\u001b[1;33m(\u001b[0m\u001b[0mbooster\u001b[0m\u001b[1;33m.\u001b[0m\u001b[0m_save_model_to_string\u001b[0m\u001b[1;33m(\u001b[0m\u001b[1;33m)\u001b[0m\u001b[1;33m)\u001b[0m\u001b[1;33m\u001b[0m\u001b[0m\n\u001b[0m\u001b[0;32m    226\u001b[0m         \u001b[0mbooster\u001b[0m\u001b[1;33m.\u001b[0m\u001b[0mfree_dataset\u001b[0m\u001b[1;33m(\u001b[0m\u001b[1;33m)\u001b[0m\u001b[1;33m\u001b[0m\u001b[0m\n\u001b[0;32m    227\u001b[0m     \u001b[1;32mreturn\u001b[0m \u001b[0mbooster\u001b[0m\u001b[1;33m\u001b[0m\u001b[0m\n",
      "\u001b[1;32mD:\\ProgramData\\Anaconda3\\lib\\site-packages\\lightgbm\\basic.py\u001b[0m in \u001b[0;36m_save_model_to_string\u001b[1;34m(self, num_iteration)\u001b[0m\n\u001b[0;32m   1582\u001b[0m             \u001b[0mctypes\u001b[0m\u001b[1;33m.\u001b[0m\u001b[0mc_int\u001b[0m\u001b[1;33m(\u001b[0m\u001b[0mbuffer_len\u001b[0m\u001b[1;33m)\u001b[0m\u001b[1;33m,\u001b[0m\u001b[1;33m\u001b[0m\u001b[0m\n\u001b[0;32m   1583\u001b[0m             \u001b[0mctypes\u001b[0m\u001b[1;33m.\u001b[0m\u001b[0mbyref\u001b[0m\u001b[1;33m(\u001b[0m\u001b[0mtmp_out_len\u001b[0m\u001b[1;33m)\u001b[0m\u001b[1;33m,\u001b[0m\u001b[1;33m\u001b[0m\u001b[0m\n\u001b[1;32m-> 1584\u001b[1;33m             ptr_string_buffer))\n\u001b[0m\u001b[0;32m   1585\u001b[0m         \u001b[0mactual_len\u001b[0m \u001b[1;33m=\u001b[0m \u001b[0mtmp_out_len\u001b[0m\u001b[1;33m.\u001b[0m\u001b[0mvalue\u001b[0m\u001b[1;33m\u001b[0m\u001b[0m\n\u001b[0;32m   1586\u001b[0m         \u001b[1;34m'''if buffer length is not long enough, re-allocate a buffer'''\u001b[0m\u001b[1;33m\u001b[0m\u001b[0m\n",
      "\u001b[1;31mKeyboardInterrupt\u001b[0m: "
     ]
    }
   ],
   "source": [
    "cross_validate(X, Y, num_fold = 10, num_hyper = 10, print_cost = False)"
   ]
  },
  {
   "cell_type": "code",
   "execution_count": null,
   "metadata": {
    "collapsed": true
   },
   "outputs": [],
   "source": []
  }
 ],
 "metadata": {
  "kernelspec": {
   "display_name": "Python 3",
   "language": "python",
   "name": "python3"
  },
  "language_info": {
   "codemirror_mode": {
    "name": "ipython",
    "version": 3
   },
   "file_extension": ".py",
   "mimetype": "text/x-python",
   "name": "python",
   "nbconvert_exporter": "python",
   "pygments_lexer": "ipython3",
   "version": "3.6.1"
  }
 },
 "nbformat": 4,
 "nbformat_minor": 2
}
