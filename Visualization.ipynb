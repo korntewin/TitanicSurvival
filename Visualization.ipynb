{
 "cells": [
  {
   "cell_type": "markdown",
   "metadata": {},
   "source": [
    "# Import Library\n",
    "import library"
   ]
  },
  {
   "cell_type": "code",
   "execution_count": 5,
   "metadata": {},
   "outputs": [
    {
     "name": "stdout",
     "output_type": "stream",
     "text": [
      "Requirement already up-to-date: tensorflow in d:\\programdata\\anaconda3\\lib\\site-packages\n",
      "Requirement already up-to-date: wheel>=0.26 in d:\\programdata\\anaconda3\\lib\\site-packages (from tensorflow)\n",
      "Requirement already up-to-date: tensorflow-tensorboard<0.2.0,>=0.1.0 in d:\\programdata\\anaconda3\\lib\\site-packages (from tensorflow)\n",
      "Requirement already up-to-date: six>=1.10.0 in d:\\programdata\\anaconda3\\lib\\site-packages (from tensorflow)\n",
      "Requirement already up-to-date: protobuf>=3.3.0 in d:\\programdata\\anaconda3\\lib\\site-packages (from tensorflow)\n",
      "Requirement already up-to-date: numpy>=1.11.0 in d:\\programdata\\anaconda3\\lib\\site-packages (from tensorflow)\n",
      "Requirement already up-to-date: bleach==1.5.0 in d:\\programdata\\anaconda3\\lib\\site-packages (from tensorflow-tensorboard<0.2.0,>=0.1.0->tensorflow)\n",
      "Requirement already up-to-date: werkzeug>=0.11.10 in d:\\programdata\\anaconda3\\lib\\site-packages (from tensorflow-tensorboard<0.2.0,>=0.1.0->tensorflow)\n",
      "Requirement already up-to-date: markdown>=2.6.8 in d:\\programdata\\anaconda3\\lib\\site-packages (from tensorflow-tensorboard<0.2.0,>=0.1.0->tensorflow)\n",
      "Requirement already up-to-date: html5lib==0.9999999 in d:\\programdata\\anaconda3\\lib\\site-packages (from tensorflow-tensorboard<0.2.0,>=0.1.0->tensorflow)\n",
      "Requirement already up-to-date: setuptools in d:\\programdata\\anaconda3\\lib\\site-packages (from protobuf>=3.3.0->tensorflow)\n"
     ]
    }
   ],
   "source": [
    "!pip install --upgrade tensorflow\n",
    "import seaborn as sns\n",
    "import numpy as np\n",
    "import pandas as pd\n",
    "import math\n",
    "import tensorflow as tf\n",
    "import csv\n",
    "import matplotlib.pyplot as plt"
   ]
  },
  {
   "cell_type": "code",
   "execution_count": 6,
   "metadata": {},
   "outputs": [
    {
     "name": "stdout",
     "output_type": "stream",
     "text": [
      "b'Hello, TensorFlow!'\n"
     ]
    }
   ],
   "source": [
    "hello = tf.constant('Hello, TensorFlow!')\n",
    "sess = tf.Session()\n",
    "print(sess.run(hello))"
   ]
  },
  {
   "cell_type": "markdown",
   "metadata": {},
   "source": [
    "# Import Training set and Test set of Titanic Survival"
   ]
  },
  {
   "cell_type": "code",
   "execution_count": 7,
   "metadata": {
    "scrolled": true
   },
   "outputs": [
    {
     "name": "stdout",
     "output_type": "stream",
     "text": [
      "shape of train set : (891, 12)\n",
      "shape of test set: (418, 11)\n",
      "Die rate : 38.38 %\n",
      " ---- Null data in train set : ----\n",
      " PassengerId      0\n",
      "Survived         0\n",
      "Pclass           0\n",
      "Name             0\n",
      "Sex              0\n",
      "Age            177\n",
      "SibSp            0\n",
      "Parch            0\n",
      "Ticket           0\n",
      "Fare             0\n",
      "Cabin          687\n",
      "Embarked         2\n",
      "dtype: int64\n",
      " ---- Null data in test set : ----\n",
      " PassengerId      0\n",
      "Pclass           0\n",
      "Name             0\n",
      "Sex              0\n",
      "Age             86\n",
      "SibSp            0\n",
      "Parch            0\n",
      "Ticket           0\n",
      "Fare             1\n",
      "Cabin          327\n",
      "Embarked         0\n",
      "dtype: int64\n",
      "    PassengerId  Survived  Pclass  \\\n",
      "0             1         0       3   \n",
      "1             2         1       1   \n",
      "2             3         1       3   \n",
      "3             4         1       1   \n",
      "4             5         0       3   \n",
      "5             6         0       3   \n",
      "6             7         0       1   \n",
      "7             8         0       3   \n",
      "8             9         1       3   \n",
      "9            10         1       2   \n",
      "10           11         1       3   \n",
      "11           12         1       1   \n",
      "12           13         0       3   \n",
      "13           14         0       3   \n",
      "14           15         0       3   \n",
      "15           16         1       2   \n",
      "16           17         0       3   \n",
      "17           18         1       2   \n",
      "18           19         0       3   \n",
      "19           20         1       3   \n",
      "\n",
      "                                                 Name     Sex   Age  SibSp  \\\n",
      "0                             Braund, Mr. Owen Harris    male  22.0      1   \n",
      "1   Cumings, Mrs. John Bradley (Florence Briggs Th...  female  38.0      1   \n",
      "2                              Heikkinen, Miss. Laina  female  26.0      0   \n",
      "3        Futrelle, Mrs. Jacques Heath (Lily May Peel)  female  35.0      1   \n",
      "4                            Allen, Mr. William Henry    male  35.0      0   \n",
      "5                                    Moran, Mr. James    male   NaN      0   \n",
      "6                             McCarthy, Mr. Timothy J    male  54.0      0   \n",
      "7                      Palsson, Master. Gosta Leonard    male   2.0      3   \n",
      "8   Johnson, Mrs. Oscar W (Elisabeth Vilhelmina Berg)  female  27.0      0   \n",
      "9                 Nasser, Mrs. Nicholas (Adele Achem)  female  14.0      1   \n",
      "10                    Sandstrom, Miss. Marguerite Rut  female   4.0      1   \n",
      "11                           Bonnell, Miss. Elizabeth  female  58.0      0   \n",
      "12                     Saundercock, Mr. William Henry    male  20.0      0   \n",
      "13                        Andersson, Mr. Anders Johan    male  39.0      1   \n",
      "14               Vestrom, Miss. Hulda Amanda Adolfina  female  14.0      0   \n",
      "15                   Hewlett, Mrs. (Mary D Kingcome)   female  55.0      0   \n",
      "16                               Rice, Master. Eugene    male   2.0      4   \n",
      "17                       Williams, Mr. Charles Eugene    male   NaN      0   \n",
      "18  Vander Planke, Mrs. Julius (Emelia Maria Vande...  female  31.0      1   \n",
      "19                            Masselmani, Mrs. Fatima  female   NaN      0   \n",
      "\n",
      "    Parch            Ticket     Fare Cabin Embarked  \n",
      "0       0         A/5 21171   7.2500   NaN        S  \n",
      "1       0          PC 17599  71.2833   C85        C  \n",
      "2       0  STON/O2. 3101282   7.9250   NaN        S  \n",
      "3       0            113803  53.1000  C123        S  \n",
      "4       0            373450   8.0500   NaN        S  \n",
      "5       0            330877   8.4583   NaN        Q  \n",
      "6       0             17463  51.8625   E46        S  \n",
      "7       1            349909  21.0750   NaN        S  \n",
      "8       2            347742  11.1333   NaN        S  \n",
      "9       0            237736  30.0708   NaN        C  \n",
      "10      1           PP 9549  16.7000    G6        S  \n",
      "11      0            113783  26.5500  C103        S  \n",
      "12      0         A/5. 2151   8.0500   NaN        S  \n",
      "13      5            347082  31.2750   NaN        S  \n",
      "14      0            350406   7.8542   NaN        S  \n",
      "15      0            248706  16.0000   NaN        S  \n",
      "16      1            382652  29.1250   NaN        Q  \n",
      "17      0            244373  13.0000   NaN        S  \n",
      "18      0            345763  18.0000   NaN        S  \n",
      "19      0              2649   7.2250   NaN        C  \n"
     ]
    }
   ],
   "source": [
    "whole_train_set = pd.read_csv('train.csv')\n",
    "whole_test_set = pd.read_csv('test.csv')\n",
    "\n",
    "print('shape of train set :',whole_train_set.shape)\n",
    "print('shape of test set:', whole_test_set.shape)\n",
    "\n",
    "print('Die rate :', round(np.mean(whole_train_set['Survived'])*100,2), '%')\n",
    "\n",
    "print(' ---- Null data in train set : ----\\n', whole_train_set.isnull().sum())\n",
    "print(' ---- Null data in test set : ----\\n', whole_test_set.isnull().sum())\n",
    "\n",
    "print(whole_train_set.loc[range(20)])"
   ]
  },
  {
   "cell_type": "markdown",
   "metadata": {},
   "source": [
    "# Cleanse Data"
   ]
  },
  {
   "cell_type": "code",
   "execution_count": 8,
   "metadata": {},
   "outputs": [
    {
     "name": "stdout",
     "output_type": "stream",
     "text": [
      "     Survived  Pclass     Sex   Age  SibSp  Parch            Ticket      Fare  \\\n",
      "0           0       3    male  22.0      1      0         A/5 21171    7.2500   \n",
      "1           1       1  female  38.0      1      0          PC 17599   71.2833   \n",
      "2           1       3  female  26.0      0      0  STON/O2. 3101282    7.9250   \n",
      "3           1       1  female  35.0      1      0            113803   53.1000   \n",
      "4           0       3    male  35.0      0      0            373450    8.0500   \n",
      "5           0       3    male   NaN      0      0            330877    8.4583   \n",
      "6           0       1    male  54.0      0      0             17463   51.8625   \n",
      "7           0       3    male   2.0      3      1            349909   21.0750   \n",
      "8           1       3  female  27.0      0      2            347742   11.1333   \n",
      "9           1       2  female  14.0      1      0            237736   30.0708   \n",
      "10          1       3  female   4.0      1      1           PP 9549   16.7000   \n",
      "11          1       1  female  58.0      0      0            113783   26.5500   \n",
      "12          0       3    male  20.0      0      0         A/5. 2151    8.0500   \n",
      "13          0       3    male  39.0      1      5            347082   31.2750   \n",
      "14          0       3  female  14.0      0      0            350406    7.8542   \n",
      "15          1       2  female  55.0      0      0            248706   16.0000   \n",
      "16          0       3    male   2.0      4      1            382652   29.1250   \n",
      "17          1       2    male   NaN      0      0            244373   13.0000   \n",
      "18          0       3  female  31.0      1      0            345763   18.0000   \n",
      "19          1       3  female   NaN      0      0              2649    7.2250   \n",
      "20          0       2    male  35.0      0      0            239865   26.0000   \n",
      "21          1       2    male  34.0      0      0            248698   13.0000   \n",
      "22          1       3  female  15.0      0      0            330923    8.0292   \n",
      "23          1       1    male  28.0      0      0            113788   35.5000   \n",
      "24          0       3  female   8.0      3      1            349909   21.0750   \n",
      "25          1       3  female  38.0      1      5            347077   31.3875   \n",
      "26          0       3    male   NaN      0      0              2631    7.2250   \n",
      "27          0       1    male  19.0      3      2             19950  263.0000   \n",
      "28          1       3  female   NaN      0      0            330959    7.8792   \n",
      "29          0       3    male   NaN      0      0            349216    7.8958   \n",
      "..        ...     ...     ...   ...    ...    ...               ...       ...   \n",
      "861         0       2    male  21.0      1      0             28134   11.5000   \n",
      "862         1       1  female  48.0      0      0             17466   25.9292   \n",
      "863         0       3  female   NaN      8      2          CA. 2343   69.5500   \n",
      "864         0       2    male  24.0      0      0            233866   13.0000   \n",
      "865         1       2  female  42.0      0      0            236852   13.0000   \n",
      "866         1       2  female  27.0      1      0     SC/PARIS 2149   13.8583   \n",
      "867         0       1    male  31.0      0      0          PC 17590   50.4958   \n",
      "868         0       3    male   NaN      0      0            345777    9.5000   \n",
      "869         1       3    male   4.0      1      1            347742   11.1333   \n",
      "870         0       3    male  26.0      0      0            349248    7.8958   \n",
      "871         1       1  female  47.0      1      1             11751   52.5542   \n",
      "872         0       1    male  33.0      0      0               695    5.0000   \n",
      "873         0       3    male  47.0      0      0            345765    9.0000   \n",
      "874         1       2  female  28.0      1      0         P/PP 3381   24.0000   \n",
      "875         1       3  female  15.0      0      0              2667    7.2250   \n",
      "876         0       3    male  20.0      0      0              7534    9.8458   \n",
      "877         0       3    male  19.0      0      0            349212    7.8958   \n",
      "878         0       3    male   NaN      0      0            349217    7.8958   \n",
      "879         1       1  female  56.0      0      1             11767   83.1583   \n",
      "880         1       2  female  25.0      0      1            230433   26.0000   \n",
      "881         0       3    male  33.0      0      0            349257    7.8958   \n",
      "882         0       3  female  22.0      0      0              7552   10.5167   \n",
      "883         0       2    male  28.0      0      0  C.A./SOTON 34068   10.5000   \n",
      "884         0       3    male  25.0      0      0   SOTON/OQ 392076    7.0500   \n",
      "885         0       3  female  39.0      0      5            382652   29.1250   \n",
      "886         0       2    male  27.0      0      0            211536   13.0000   \n",
      "887         1       1  female  19.0      0      0            112053   30.0000   \n",
      "888         0       3  female   NaN      1      2        W./C. 6607   23.4500   \n",
      "889         1       1    male  26.0      0      0            111369   30.0000   \n",
      "890         0       3    male  32.0      0      0            370376    7.7500   \n",
      "\n",
      "           Cabin Embarked  \n",
      "0            NaN        S  \n",
      "1            C85        C  \n",
      "2            NaN        S  \n",
      "3           C123        S  \n",
      "4            NaN        S  \n",
      "5            NaN        Q  \n",
      "6            E46        S  \n",
      "7            NaN        S  \n",
      "8            NaN        S  \n",
      "9            NaN        C  \n",
      "10            G6        S  \n",
      "11          C103        S  \n",
      "12           NaN        S  \n",
      "13           NaN        S  \n",
      "14           NaN        S  \n",
      "15           NaN        S  \n",
      "16           NaN        Q  \n",
      "17           NaN        S  \n",
      "18           NaN        S  \n",
      "19           NaN        C  \n",
      "20           NaN        S  \n",
      "21           D56        S  \n",
      "22           NaN        Q  \n",
      "23            A6        S  \n",
      "24           NaN        S  \n",
      "25           NaN        S  \n",
      "26           NaN        C  \n",
      "27   C23 C25 C27        S  \n",
      "28           NaN        Q  \n",
      "29           NaN        S  \n",
      "..           ...      ...  \n",
      "861          NaN        S  \n",
      "862          D17        S  \n",
      "863          NaN        S  \n",
      "864          NaN        S  \n",
      "865          NaN        S  \n",
      "866          NaN        C  \n",
      "867          A24        S  \n",
      "868          NaN        S  \n",
      "869          NaN        S  \n",
      "870          NaN        S  \n",
      "871          D35        S  \n",
      "872  B51 B53 B55        S  \n",
      "873          NaN        S  \n",
      "874          NaN        C  \n",
      "875          NaN        C  \n",
      "876          NaN        S  \n",
      "877          NaN        S  \n",
      "878          NaN        S  \n",
      "879          C50        C  \n",
      "880          NaN        S  \n",
      "881          NaN        S  \n",
      "882          NaN        S  \n",
      "883          NaN        S  \n",
      "884          NaN        S  \n",
      "885          NaN        Q  \n",
      "886          NaN        S  \n",
      "887          B42        S  \n",
      "888          NaN        S  \n",
      "889         C148        C  \n",
      "890          NaN        Q  \n",
      "\n",
      "[891 rows x 10 columns]\n"
     ]
    }
   ],
   "source": [
    "# drop name and ID (These features are unique for every person)\n",
    "drop_col = ['Name', 'PassengerId']\n",
    "train_set = whole_train_set.drop(drop_col, axis = 1)\n",
    "test_set = whole_test_set.drop(drop_col, axis = 1)\n",
    "print(train_set)"
   ]
  },
  {
   "cell_type": "markdown",
   "metadata": {},
   "source": [
    "Age features is null about 25%, so this feature should be drop or replace with some values.\n"
   ]
  },
  {
   "cell_type": "code",
   "execution_count": 9,
   "metadata": {},
   "outputs": [
    {
     "name": "stdout",
     "output_type": "stream",
     "text": [
      "-0.0772210945722\n"
     ]
    }
   ],
   "source": [
    "%matplotlib inline\n",
    "# 1 plot age drop null\n",
    "age_plot = train_set.loc[np.logical_not(train_set['Age'].isnull()), ['Age']]\n",
    "#sns.distplot(age_plot, bins = 50, axlabel = 'Age drop null', color=\"r\")\n",
    "\n",
    "# 2 correlation of age vs survival\n",
    "age_sur = train_set.loc[np.logical_not(train_set['Age'].isnull()) ,'Age'].corr(train_set.loc[np.logical_not(train_set['Age'].isnull()) ,'Survived'])\n",
    "print(age_sur)\n",
    "\n",
    "# 3 drop age\n",
    "train_set = train_set.drop(['Age'], axis = 1)"
   ]
  },
  {
   "cell_type": "code",
   "execution_count": 164,
   "metadata": {
    "scrolled": true
   },
   "outputs": [
    {
     "name": "stdout",
     "output_type": "stream",
     "text": [
      "Unique Value for Embarked : 4\n",
      "Unique of Embarked : ['S' 'C' 'Q' nan]\n",
      "Unique Value for Ticket : 681\n",
      "Unique of Ticket : ['A/5 21171' 'PC 17599' 'STON/O2. 3101282' '113803' '373450' '330877'\n",
      " '17463' '349909' '347742' '237736' 'PP 9549' '113783' 'A/5. 2151' '347082'\n",
      " '350406' '248706' '382652' '244373' '345763' '2649' '239865' '248698'\n",
      " '330923' '113788' '347077' '2631' '19950' '330959' '349216' 'PC 17601'\n",
      " 'PC 17569' '335677' 'C.A. 24579' 'PC 17604' '113789' '2677' 'A./5. 2152'\n",
      " '345764' '2651' '7546' '11668' '349253' 'SC/Paris 2123' '330958'\n",
      " 'S.C./A.4. 23567' '370371' '14311' '2662' '349237' '3101295' 'A/4. 39886'\n",
      " 'PC 17572' '2926' '113509' '19947' 'C.A. 31026' '2697' 'C.A. 34651'\n",
      " 'CA 2144' '2669' '113572' '36973' '347088' 'PC 17605' '2661' 'C.A. 29395'\n",
      " 'S.P. 3464' '3101281' '315151' 'C.A. 33111' 'S.O.C. 14879' '2680' '1601'\n",
      " '348123' '349208' '374746' '248738' '364516' '345767' '345779' '330932'\n",
      " '113059' 'SO/C 14885' '3101278' 'W./C. 6608' 'SOTON/OQ 392086' '343275'\n",
      " '343276' '347466' 'W.E.P. 5734' 'C.A. 2315' '364500' '374910' 'PC 17754'\n",
      " 'PC 17759' '231919' '244367' '349245' '349215' '35281' '7540' '3101276'\n",
      " '349207' '343120' '312991' '349249' '371110' '110465' '2665' '324669'\n",
      " '4136' '2627' 'STON/O 2. 3101294' '370369' 'PC 17558' 'A4. 54510' '27267'\n",
      " '370372' 'C 17369' '2668' '347061' '349241' 'SOTON/O.Q. 3101307'\n",
      " 'A/5. 3337' '228414' 'C.A. 29178' 'SC/PARIS 2133' '11752' '7534'\n",
      " 'PC 17593' '2678' '347081' 'STON/O2. 3101279' '365222' '231945'\n",
      " 'C.A. 33112' '350043' '230080' '244310' 'S.O.P. 1166' '113776'\n",
      " 'A.5. 11206' 'A/5. 851' 'Fa 265302' 'PC 17597' '35851' 'SOTON/OQ 392090'\n",
      " '315037' 'CA. 2343' '371362' 'C.A. 33595' '347068' '315093' '363291'\n",
      " '113505' 'PC 17318' '111240' 'STON/O 2. 3101280' '17764' '350404' '4133'\n",
      " 'PC 17595' '250653' 'LINE' 'SC/PARIS 2131' '230136' '315153' '113767'\n",
      " '370365' '111428' '364849' '349247' '234604' '28424' '350046' 'PC 17610'\n",
      " '368703' '4579' '370370' '248747' '345770' '3101264' '2628' 'A/5 3540'\n",
      " '347054' '2699' '367231' '112277' 'SOTON/O.Q. 3101311' 'F.C.C. 13528'\n",
      " 'A/5 21174' '250646' '367229' '35273' 'STON/O2. 3101283' '243847' '11813'\n",
      " 'W/C 14208' 'SOTON/OQ 392089' '220367' '21440' '349234' '19943' 'PP 4348'\n",
      " 'SW/PP 751' 'A/5 21173' '236171' '347067' '237442' 'C.A. 29566'\n",
      " 'W./C. 6609' '26707' 'C.A. 31921' '28665' 'SCO/W 1585' '367230'\n",
      " 'W./C. 14263' 'STON/O 2. 3101275' '2694' '19928' '347071' '250649' '11751'\n",
      " '244252' '362316' '113514' 'A/5. 3336' '370129' '2650' 'PC 17585' '110152'\n",
      " 'PC 17755' '230433' '384461' '110413' '112059' '382649' 'C.A. 17248'\n",
      " '347083' 'PC 17582' 'PC 17760' '113798' '250644' 'PC 17596' '370375'\n",
      " '13502' '347073' '239853' 'C.A. 2673' '336439' '347464' '345778'\n",
      " 'A/5. 10482' '113056' '349239' '345774' '349206' '237798' '370373' '19877'\n",
      " '11967' 'SC/Paris 2163' '349236' '349233' 'PC 17612' '2693' '113781'\n",
      " '19988' '9234' '367226' '226593' 'A/5 2466' '17421' 'PC 17758' 'P/PP 3381'\n",
      " 'PC 17485' '11767' 'PC 17608' '250651' '349243' 'F.C.C. 13529' '347470'\n",
      " '29011' '36928' '16966' 'A/5 21172' '349219' '234818' '345364' '28551'\n",
      " '111361' '113043' 'PC 17611' '349225' '7598' '113784' '248740' '244361'\n",
      " '229236' '248733' '31418' '386525' 'C.A. 37671' '315088' '7267' '113510'\n",
      " '2695' '2647' '345783' '237671' '330931' '330980' 'SC/PARIS 2167' '2691'\n",
      " 'SOTON/O.Q. 3101310' 'C 7076' '110813' '2626' '14313' 'PC 17477' '11765'\n",
      " '3101267' '323951' 'C 7077' '113503' '2648' '347069' 'PC 17757' '2653'\n",
      " 'STON/O 2. 3101293' '349227' '27849' '367655' 'SC 1748' '113760' '350034'\n",
      " '3101277' '350052' '350407' '28403' '244278' '240929' 'STON/O 2. 3101289'\n",
      " '341826' '4137' '315096' '28664' '347064' '29106' '312992' '349222'\n",
      " '394140' 'STON/O 2. 3101269' '343095' '28220' '250652' '28228' '345773'\n",
      " '349254' 'A/5. 13032' '315082' '347080' 'A/4. 34244' '2003' '250655'\n",
      " '364851' 'SOTON/O.Q. 392078' '110564' '376564' 'SC/AH 3085'\n",
      " 'STON/O 2. 3101274' '13507' 'C.A. 18723' '345769' '347076' '230434'\n",
      " '65306' '33638' '113794' '2666' '113786' '65303' '113051' '17453'\n",
      " 'A/5 2817' '349240' '13509' '17464' 'F.C.C. 13531' '371060' '19952'\n",
      " '364506' '111320' '234360' 'A/S 2816' 'SOTON/O.Q. 3101306' '113792'\n",
      " '36209' '323592' '315089' 'SC/AH Basle 541' '7553' '31027' '3460' '350060'\n",
      " '3101298' '239854' 'A/5 3594' '4134' '11771' 'A.5. 18509' '65304'\n",
      " 'SOTON/OQ 3101317' '113787' 'PC 17609' 'A/4 45380' '36947' 'C.A. 6212'\n",
      " '350035' '315086' '364846' '330909' '4135' '26360' '111427' 'C 4001'\n",
      " '382651' 'SOTON/OQ 3101316' 'PC 17473' 'PC 17603' '349209' '36967'\n",
      " 'C.A. 34260' '226875' '349242' '12749' '349252' '2624' '2700' '367232'\n",
      " 'W./C. 14258' 'PC 17483' '3101296' '29104' '2641' '2690' '315084' '113050'\n",
      " 'PC 17761' '364498' '13568' 'WE/P 5735' '2908' '693' 'SC/PARIS 2146'\n",
      " '244358' '330979' '2620' '347085' '113807' '11755' '345572' '372622'\n",
      " '349251' '218629' 'SOTON/OQ 392082' 'SOTON/O.Q. 392087' 'A/4 48871'\n",
      " '349205' '2686' '350417' 'S.W./PP 752' '11769' 'PC 17474' '14312'\n",
      " 'A/4. 20589' '358585' '243880' '2689' 'STON/O 2. 3101286' '237789' '13049'\n",
      " '3411' '237565' '13567' '14973' 'A./5. 3235' 'STON/O 2. 3101273'\n",
      " 'A/5 3902' '364848' 'SC/AH 29037' '248727' '2664' '349214' '113796'\n",
      " '364511' '111426' '349910' '349246' '113804' 'SOTON/O.Q. 3101305' '370377'\n",
      " '364512' '220845' '31028' '2659' '11753' '350029' '54636' '36963' '219533'\n",
      " '349224' '334912' '27042' '347743' '13214' '112052' '237668'\n",
      " 'STON/O 2. 3101292' '350050' '349231' '13213' 'S.O./P.P. 751' 'CA. 2314'\n",
      " '349221' '8475' '330919' '365226' '349223' '29751' '2623' '5727' '349210'\n",
      " 'STON/O 2. 3101285' '234686' '312993' 'A/5 3536' '19996' '29750'\n",
      " 'F.C. 12750' 'C.A. 24580' '244270' '239856' '349912' '342826' '4138'\n",
      " '330935' '6563' '349228' '350036' '24160' '17474' '349256' '2672' '113800'\n",
      " '248731' '363592' '35852' '348121' 'PC 17475' '36864' '350025' '223596'\n",
      " 'PC 17476' 'PC 17482' '113028' '7545' '250647' '348124' '34218' '36568'\n",
      " '347062' '350048' '12233' '250643' '113806' '315094' '36866' '236853'\n",
      " 'STON/O2. 3101271' '239855' '28425' '233639' '349201' '349218' '16988'\n",
      " '376566' 'STON/O 2. 3101288' '250648' '113773' '335097' '29103' '392096'\n",
      " '345780' '349204' '350042' '29108' '363294' 'SOTON/O2 3101272' '2663'\n",
      " '347074' '112379' '364850' '8471' '345781' '350047' 'S.O./P.P. 3' '2674'\n",
      " '29105' '347078' '383121' '36865' '2687' '113501' 'W./C. 6607'\n",
      " 'SOTON/O.Q. 3101312' '374887' '3101265' '12460' 'PC 17600' '349203'\n",
      " '28213' '17465' '349244' '2685' '2625' '347089' '347063' '112050' '347087'\n",
      " '248723' '3474' '28206' '364499' '112058' 'STON/O2. 3101290'\n",
      " 'S.C./PARIS 2079' 'C 7075' '315098' '19972' '368323' '367228' '2671'\n",
      " '347468' '2223' 'PC 17756' '315097' '392092' '11774' 'SOTON/O2 3101287'\n",
      " '2683' '315090' 'C.A. 5547' '349213' '347060' 'PC 17592' '392091' '113055'\n",
      " '2629' '350026' '28134' '17466' '233866' '236852' 'SC/PARIS 2149'\n",
      " 'PC 17590' '345777' '349248' '695' '345765' '2667' '349212' '349217'\n",
      " '349257' '7552' 'C.A./SOTON 34068' 'SOTON/OQ 392076' '211536' '112053'\n",
      " '111369' '370376']\n",
      "Unique Value for Cabin : 148\n",
      "Unique of Cabin : [nan 'C85' 'C123' 'E46' 'G6' 'C103' 'D56' 'A6' 'C23 C25 C27' 'B78' 'D33'\n",
      " 'B30' 'C52' 'B28' 'C83' 'F33' 'F G73' 'E31' 'A5' 'D10 D12' 'D26' 'C110'\n",
      " 'B58 B60' 'E101' 'F E69' 'D47' 'B86' 'F2' 'C2' 'E33' 'B19' 'A7' 'C49' 'F4'\n",
      " 'A32' 'B4' 'B80' 'A31' 'D36' 'D15' 'C93' 'C78' 'D35' 'C87' 'B77' 'E67'\n",
      " 'B94' 'C125' 'C99' 'C118' 'D7' 'A19' 'B49' 'D' 'C22 C26' 'C106' 'C65'\n",
      " 'E36' 'C54' 'B57 B59 B63 B66' 'C7' 'E34' 'C32' 'B18' 'C124' 'C91' 'E40'\n",
      " 'T' 'C128' 'D37' 'B35' 'E50' 'C82' 'B96 B98' 'E10' 'E44' 'A34' 'C104'\n",
      " 'C111' 'C92' 'E38' 'D21' 'E12' 'E63' 'A14' 'B37' 'C30' 'D20' 'B79' 'E25'\n",
      " 'D46' 'B73' 'C95' 'B38' 'B39' 'B22' 'C86' 'C70' 'A16' 'C101' 'C68' 'A10'\n",
      " 'E68' 'B41' 'A20' 'D19' 'D50' 'D9' 'A23' 'B50' 'A26' 'D48' 'E58' 'C126'\n",
      " 'B71' 'B51 B53 B55' 'D49' 'B5' 'B20' 'F G63' 'C62 C64' 'E24' 'C90' 'C45'\n",
      " 'E8' 'B101' 'D45' 'C46' 'D30' 'E121' 'D11' 'E77' 'F38' 'B3' 'D6' 'B82 B84'\n",
      " 'D17' 'A36' 'B102' 'B69' 'E49' 'C47' 'D28' 'E17' 'A24' 'C50' 'B42' 'C148']\n",
      "Unique Value for Parch : 7\n",
      "Unique of Parch : [0 1 2 5 3 4 6]\n"
     ]
    }
   ],
   "source": [
    "# Find distinct values for categorical features\n",
    "choose_elements = ['Embarked', 'Ticket', 'Cabin', 'Parch']\n",
    "train_set_copy = train_set.copy()\n",
    "train_set_copy = train_set_copy[choose_elements]\n",
    "# print(train_set_copy)\n",
    "\n",
    "for col in choose_elements:\n",
    "    print('Unique Value for', col,':', train_set_copy[col].unique().shape[0])\n",
    "    print('Unique of', col,':', train_set_copy[col].unique() )\n",
    "    "
   ]
  },
  {
   "cell_type": "code",
   "execution_count": 10,
   "metadata": {},
   "outputs": [
    {
     "name": "stdout",
     "output_type": "stream",
     "text": [
      "Unique Value for featured Cabin : ['N' 'C' 'E' 'G' 'D' 'A' 'B' 'F' 'T']\n",
      "     Survived  Pclass     Sex  SibSp  Parch            Ticket      Fare  \\\n",
      "0           0       3    male      1      0         A/5 21171    7.2500   \n",
      "1           1       1  female      1      0          PC 17599   71.2833   \n",
      "2           1       3  female      0      0  STON/O2. 3101282    7.9250   \n",
      "3           1       1  female      1      0            113803   53.1000   \n",
      "4           0       3    male      0      0            373450    8.0500   \n",
      "5           0       3    male      0      0            330877    8.4583   \n",
      "6           0       1    male      0      0             17463   51.8625   \n",
      "7           0       3    male      3      1            349909   21.0750   \n",
      "8           1       3  female      0      2            347742   11.1333   \n",
      "9           1       2  female      1      0            237736   30.0708   \n",
      "10          1       3  female      1      1           PP 9549   16.7000   \n",
      "11          1       1  female      0      0            113783   26.5500   \n",
      "12          0       3    male      0      0         A/5. 2151    8.0500   \n",
      "13          0       3    male      1      5            347082   31.2750   \n",
      "14          0       3  female      0      0            350406    7.8542   \n",
      "15          1       2  female      0      0            248706   16.0000   \n",
      "16          0       3    male      4      1            382652   29.1250   \n",
      "17          1       2    male      0      0            244373   13.0000   \n",
      "18          0       3  female      1      0            345763   18.0000   \n",
      "19          1       3  female      0      0              2649    7.2250   \n",
      "20          0       2    male      0      0            239865   26.0000   \n",
      "21          1       2    male      0      0            248698   13.0000   \n",
      "22          1       3  female      0      0            330923    8.0292   \n",
      "23          1       1    male      0      0            113788   35.5000   \n",
      "24          0       3  female      3      1            349909   21.0750   \n",
      "25          1       3  female      1      5            347077   31.3875   \n",
      "26          0       3    male      0      0              2631    7.2250   \n",
      "27          0       1    male      3      2             19950  263.0000   \n",
      "28          1       3  female      0      0            330959    7.8792   \n",
      "29          0       3    male      0      0            349216    7.8958   \n",
      "..        ...     ...     ...    ...    ...               ...       ...   \n",
      "861         0       2    male      1      0             28134   11.5000   \n",
      "862         1       1  female      0      0             17466   25.9292   \n",
      "863         0       3  female      8      2          CA. 2343   69.5500   \n",
      "864         0       2    male      0      0            233866   13.0000   \n",
      "865         1       2  female      0      0            236852   13.0000   \n",
      "866         1       2  female      1      0     SC/PARIS 2149   13.8583   \n",
      "867         0       1    male      0      0          PC 17590   50.4958   \n",
      "868         0       3    male      0      0            345777    9.5000   \n",
      "869         1       3    male      1      1            347742   11.1333   \n",
      "870         0       3    male      0      0            349248    7.8958   \n",
      "871         1       1  female      1      1             11751   52.5542   \n",
      "872         0       1    male      0      0               695    5.0000   \n",
      "873         0       3    male      0      0            345765    9.0000   \n",
      "874         1       2  female      1      0         P/PP 3381   24.0000   \n",
      "875         1       3  female      0      0              2667    7.2250   \n",
      "876         0       3    male      0      0              7534    9.8458   \n",
      "877         0       3    male      0      0            349212    7.8958   \n",
      "878         0       3    male      0      0            349217    7.8958   \n",
      "879         1       1  female      0      1             11767   83.1583   \n",
      "880         1       2  female      0      1            230433   26.0000   \n",
      "881         0       3    male      0      0            349257    7.8958   \n",
      "882         0       3  female      0      0              7552   10.5167   \n",
      "883         0       2    male      0      0  C.A./SOTON 34068   10.5000   \n",
      "884         0       3    male      0      0   SOTON/OQ 392076    7.0500   \n",
      "885         0       3  female      0      5            382652   29.1250   \n",
      "886         0       2    male      0      0            211536   13.0000   \n",
      "887         1       1  female      0      0            112053   30.0000   \n",
      "888         0       3  female      1      2        W./C. 6607   23.4500   \n",
      "889         1       1    male      0      0            111369   30.0000   \n",
      "890         0       3    male      0      0            370376    7.7500   \n",
      "\n",
      "    Embarked  Cabin_Numeric  \n",
      "0          S              1  \n",
      "1          C              2  \n",
      "2          S              1  \n",
      "3          S              2  \n",
      "4          S              1  \n",
      "5          Q              1  \n",
      "6          S              3  \n",
      "7          S              1  \n",
      "8          S              1  \n",
      "9          C              1  \n",
      "10         S              4  \n",
      "11         S              2  \n",
      "12         S              1  \n",
      "13         S              1  \n",
      "14         S              1  \n",
      "15         S              1  \n",
      "16         Q              1  \n",
      "17         S              1  \n",
      "18         S              1  \n",
      "19         C              1  \n",
      "20         S              1  \n",
      "21         S              5  \n",
      "22         Q              1  \n",
      "23         S              6  \n",
      "24         S              1  \n",
      "25         S              1  \n",
      "26         C              1  \n",
      "27         S              2  \n",
      "28         Q              1  \n",
      "29         S              1  \n",
      "..       ...            ...  \n",
      "861        S              1  \n",
      "862        S              5  \n",
      "863        S              1  \n",
      "864        S              1  \n",
      "865        S              1  \n",
      "866        C              1  \n",
      "867        S              6  \n",
      "868        S              1  \n",
      "869        S              1  \n",
      "870        S              1  \n",
      "871        S              5  \n",
      "872        S              7  \n",
      "873        S              1  \n",
      "874        C              1  \n",
      "875        C              1  \n",
      "876        S              1  \n",
      "877        S              1  \n",
      "878        S              1  \n",
      "879        C              2  \n",
      "880        S              1  \n",
      "881        S              1  \n",
      "882        S              1  \n",
      "883        S              1  \n",
      "884        S              1  \n",
      "885        Q              1  \n",
      "886        S              1  \n",
      "887        S              7  \n",
      "888        S              1  \n",
      "889        C              2  \n",
      "890        Q              1  \n",
      "\n",
      "[891 rows x 9 columns]\n"
     ]
    }
   ],
   "source": [
    "## Deal with Cabin features -> change string feature to numeric feature\n",
    "# step 1 change null in column to N (no cabin)\n",
    "train_set.loc[train_set['Cabin'].isnull(), 'Cabin'] = 'N'\n",
    "\n",
    "# step 2 change cabin type to abbreviate type (neglect number of cabin)\n",
    "train_set.loc[:, 'Cabin'] = train_set.loc[:, 'Cabin'].map(lambda x: str(x)[0])\n",
    "\n",
    "# step 3 identify unique value for cabin features\n",
    "print('Unique Value for featured Cabin :',train_set['Cabin'].unique())\n",
    "\n",
    "# step 4 replace categorical with features\n",
    "dic_cabin = {'N':1, 'C':2, 'E':3, 'G':4, 'D':5, 'A':6, 'B':7, 'F':8, 'T':9}\n",
    "train_set['Cabin_Numeric'] = train_set['Cabin'].map(dic_cabin)\n",
    "\n",
    "# step 5 drop cabin\n",
    "train_set = train_set.drop(['Cabin'], axis = 1)\n",
    "\n",
    "print(train_set)"
   ]
  },
  {
   "cell_type": "code",
   "execution_count": 12,
   "metadata": {},
   "outputs": [
    {
     "ename": "KeyError",
     "evalue": "'Embarked'",
     "output_type": "error",
     "traceback": [
      "\u001b[1;31m---------------------------------------------------------------------------\u001b[0m",
      "\u001b[1;31mKeyError\u001b[0m                                  Traceback (most recent call last)",
      "\u001b[1;32mD:\\ProgramData\\Anaconda3\\lib\\site-packages\\pandas\\core\\indexes\\base.py\u001b[0m in \u001b[0;36mget_loc\u001b[1;34m(self, key, method, tolerance)\u001b[0m\n\u001b[0;32m   2392\u001b[0m             \u001b[1;32mtry\u001b[0m\u001b[1;33m:\u001b[0m\u001b[1;33m\u001b[0m\u001b[0m\n\u001b[1;32m-> 2393\u001b[1;33m                 \u001b[1;32mreturn\u001b[0m \u001b[0mself\u001b[0m\u001b[1;33m.\u001b[0m\u001b[0m_engine\u001b[0m\u001b[1;33m.\u001b[0m\u001b[0mget_loc\u001b[0m\u001b[1;33m(\u001b[0m\u001b[0mkey\u001b[0m\u001b[1;33m)\u001b[0m\u001b[1;33m\u001b[0m\u001b[0m\n\u001b[0m\u001b[0;32m   2394\u001b[0m             \u001b[1;32mexcept\u001b[0m \u001b[0mKeyError\u001b[0m\u001b[1;33m:\u001b[0m\u001b[1;33m\u001b[0m\u001b[0m\n",
      "\u001b[1;32mpandas\\_libs\\index.pyx\u001b[0m in \u001b[0;36mpandas._libs.index.IndexEngine.get_loc (pandas\\_libs\\index.c:5239)\u001b[1;34m()\u001b[0m\n",
      "\u001b[1;32mpandas\\_libs\\index.pyx\u001b[0m in \u001b[0;36mpandas._libs.index.IndexEngine.get_loc (pandas\\_libs\\index.c:5085)\u001b[1;34m()\u001b[0m\n",
      "\u001b[1;32mpandas\\_libs\\hashtable_class_helper.pxi\u001b[0m in \u001b[0;36mpandas._libs.hashtable.PyObjectHashTable.get_item (pandas\\_libs\\hashtable.c:20405)\u001b[1;34m()\u001b[0m\n",
      "\u001b[1;32mpandas\\_libs\\hashtable_class_helper.pxi\u001b[0m in \u001b[0;36mpandas._libs.hashtable.PyObjectHashTable.get_item (pandas\\_libs\\hashtable.c:20359)\u001b[1;34m()\u001b[0m\n",
      "\u001b[1;31mKeyError\u001b[0m: 'Embarked'",
      "\nDuring handling of the above exception, another exception occurred:\n",
      "\u001b[1;31mKeyError\u001b[0m                                  Traceback (most recent call last)",
      "\u001b[1;32m<ipython-input-12-1d907f663507>\u001b[0m in \u001b[0;36m<module>\u001b[1;34m()\u001b[0m\n\u001b[0;32m      1\u001b[0m \u001b[1;31m## Deal with embarked features -> change embark feature to numerical\u001b[0m\u001b[1;33m\u001b[0m\u001b[1;33m\u001b[0m\u001b[0m\n\u001b[0;32m      2\u001b[0m \u001b[1;31m# step 1 convert null value to unknown\u001b[0m\u001b[1;33m\u001b[0m\u001b[1;33m\u001b[0m\u001b[0m\n\u001b[1;32m----> 3\u001b[1;33m \u001b[0mtrain_set\u001b[0m\u001b[1;33m.\u001b[0m\u001b[0mloc\u001b[0m\u001b[1;33m[\u001b[0m\u001b[0mtrain_set\u001b[0m\u001b[1;33m[\u001b[0m\u001b[1;34m'Embarked'\u001b[0m\u001b[1;33m]\u001b[0m\u001b[1;33m.\u001b[0m\u001b[0misnull\u001b[0m\u001b[1;33m(\u001b[0m\u001b[1;33m)\u001b[0m\u001b[1;33m,\u001b[0m\u001b[1;34m'Embarked'\u001b[0m\u001b[1;33m]\u001b[0m \u001b[1;33m=\u001b[0m \u001b[1;34m'unknown'\u001b[0m\u001b[1;33m\u001b[0m\u001b[0m\n\u001b[0m\u001b[0;32m      4\u001b[0m \u001b[1;33m\u001b[0m\u001b[0m\n\u001b[0;32m      5\u001b[0m \u001b[1;31m# step 2 convert string to numeric value\u001b[0m\u001b[1;33m\u001b[0m\u001b[1;33m\u001b[0m\u001b[0m\n",
      "\u001b[1;32mD:\\ProgramData\\Anaconda3\\lib\\site-packages\\pandas\\core\\frame.py\u001b[0m in \u001b[0;36m__getitem__\u001b[1;34m(self, key)\u001b[0m\n\u001b[0;32m   2060\u001b[0m             \u001b[1;32mreturn\u001b[0m \u001b[0mself\u001b[0m\u001b[1;33m.\u001b[0m\u001b[0m_getitem_multilevel\u001b[0m\u001b[1;33m(\u001b[0m\u001b[0mkey\u001b[0m\u001b[1;33m)\u001b[0m\u001b[1;33m\u001b[0m\u001b[0m\n\u001b[0;32m   2061\u001b[0m         \u001b[1;32melse\u001b[0m\u001b[1;33m:\u001b[0m\u001b[1;33m\u001b[0m\u001b[0m\n\u001b[1;32m-> 2062\u001b[1;33m             \u001b[1;32mreturn\u001b[0m \u001b[0mself\u001b[0m\u001b[1;33m.\u001b[0m\u001b[0m_getitem_column\u001b[0m\u001b[1;33m(\u001b[0m\u001b[0mkey\u001b[0m\u001b[1;33m)\u001b[0m\u001b[1;33m\u001b[0m\u001b[0m\n\u001b[0m\u001b[0;32m   2063\u001b[0m \u001b[1;33m\u001b[0m\u001b[0m\n\u001b[0;32m   2064\u001b[0m     \u001b[1;32mdef\u001b[0m \u001b[0m_getitem_column\u001b[0m\u001b[1;33m(\u001b[0m\u001b[0mself\u001b[0m\u001b[1;33m,\u001b[0m \u001b[0mkey\u001b[0m\u001b[1;33m)\u001b[0m\u001b[1;33m:\u001b[0m\u001b[1;33m\u001b[0m\u001b[0m\n",
      "\u001b[1;32mD:\\ProgramData\\Anaconda3\\lib\\site-packages\\pandas\\core\\frame.py\u001b[0m in \u001b[0;36m_getitem_column\u001b[1;34m(self, key)\u001b[0m\n\u001b[0;32m   2067\u001b[0m         \u001b[1;31m# get column\u001b[0m\u001b[1;33m\u001b[0m\u001b[1;33m\u001b[0m\u001b[0m\n\u001b[0;32m   2068\u001b[0m         \u001b[1;32mif\u001b[0m \u001b[0mself\u001b[0m\u001b[1;33m.\u001b[0m\u001b[0mcolumns\u001b[0m\u001b[1;33m.\u001b[0m\u001b[0mis_unique\u001b[0m\u001b[1;33m:\u001b[0m\u001b[1;33m\u001b[0m\u001b[0m\n\u001b[1;32m-> 2069\u001b[1;33m             \u001b[1;32mreturn\u001b[0m \u001b[0mself\u001b[0m\u001b[1;33m.\u001b[0m\u001b[0m_get_item_cache\u001b[0m\u001b[1;33m(\u001b[0m\u001b[0mkey\u001b[0m\u001b[1;33m)\u001b[0m\u001b[1;33m\u001b[0m\u001b[0m\n\u001b[0m\u001b[0;32m   2070\u001b[0m \u001b[1;33m\u001b[0m\u001b[0m\n\u001b[0;32m   2071\u001b[0m         \u001b[1;31m# duplicate columns & possible reduce dimensionality\u001b[0m\u001b[1;33m\u001b[0m\u001b[1;33m\u001b[0m\u001b[0m\n",
      "\u001b[1;32mD:\\ProgramData\\Anaconda3\\lib\\site-packages\\pandas\\core\\generic.py\u001b[0m in \u001b[0;36m_get_item_cache\u001b[1;34m(self, item)\u001b[0m\n\u001b[0;32m   1532\u001b[0m         \u001b[0mres\u001b[0m \u001b[1;33m=\u001b[0m \u001b[0mcache\u001b[0m\u001b[1;33m.\u001b[0m\u001b[0mget\u001b[0m\u001b[1;33m(\u001b[0m\u001b[0mitem\u001b[0m\u001b[1;33m)\u001b[0m\u001b[1;33m\u001b[0m\u001b[0m\n\u001b[0;32m   1533\u001b[0m         \u001b[1;32mif\u001b[0m \u001b[0mres\u001b[0m \u001b[1;32mis\u001b[0m \u001b[1;32mNone\u001b[0m\u001b[1;33m:\u001b[0m\u001b[1;33m\u001b[0m\u001b[0m\n\u001b[1;32m-> 1534\u001b[1;33m             \u001b[0mvalues\u001b[0m \u001b[1;33m=\u001b[0m \u001b[0mself\u001b[0m\u001b[1;33m.\u001b[0m\u001b[0m_data\u001b[0m\u001b[1;33m.\u001b[0m\u001b[0mget\u001b[0m\u001b[1;33m(\u001b[0m\u001b[0mitem\u001b[0m\u001b[1;33m)\u001b[0m\u001b[1;33m\u001b[0m\u001b[0m\n\u001b[0m\u001b[0;32m   1535\u001b[0m             \u001b[0mres\u001b[0m \u001b[1;33m=\u001b[0m \u001b[0mself\u001b[0m\u001b[1;33m.\u001b[0m\u001b[0m_box_item_values\u001b[0m\u001b[1;33m(\u001b[0m\u001b[0mitem\u001b[0m\u001b[1;33m,\u001b[0m \u001b[0mvalues\u001b[0m\u001b[1;33m)\u001b[0m\u001b[1;33m\u001b[0m\u001b[0m\n\u001b[0;32m   1536\u001b[0m             \u001b[0mcache\u001b[0m\u001b[1;33m[\u001b[0m\u001b[0mitem\u001b[0m\u001b[1;33m]\u001b[0m \u001b[1;33m=\u001b[0m \u001b[0mres\u001b[0m\u001b[1;33m\u001b[0m\u001b[0m\n",
      "\u001b[1;32mD:\\ProgramData\\Anaconda3\\lib\\site-packages\\pandas\\core\\internals.py\u001b[0m in \u001b[0;36mget\u001b[1;34m(self, item, fastpath)\u001b[0m\n\u001b[0;32m   3588\u001b[0m \u001b[1;33m\u001b[0m\u001b[0m\n\u001b[0;32m   3589\u001b[0m             \u001b[1;32mif\u001b[0m \u001b[1;32mnot\u001b[0m \u001b[0misnull\u001b[0m\u001b[1;33m(\u001b[0m\u001b[0mitem\u001b[0m\u001b[1;33m)\u001b[0m\u001b[1;33m:\u001b[0m\u001b[1;33m\u001b[0m\u001b[0m\n\u001b[1;32m-> 3590\u001b[1;33m                 \u001b[0mloc\u001b[0m \u001b[1;33m=\u001b[0m \u001b[0mself\u001b[0m\u001b[1;33m.\u001b[0m\u001b[0mitems\u001b[0m\u001b[1;33m.\u001b[0m\u001b[0mget_loc\u001b[0m\u001b[1;33m(\u001b[0m\u001b[0mitem\u001b[0m\u001b[1;33m)\u001b[0m\u001b[1;33m\u001b[0m\u001b[0m\n\u001b[0m\u001b[0;32m   3591\u001b[0m             \u001b[1;32melse\u001b[0m\u001b[1;33m:\u001b[0m\u001b[1;33m\u001b[0m\u001b[0m\n\u001b[0;32m   3592\u001b[0m                 \u001b[0mindexer\u001b[0m \u001b[1;33m=\u001b[0m \u001b[0mnp\u001b[0m\u001b[1;33m.\u001b[0m\u001b[0marange\u001b[0m\u001b[1;33m(\u001b[0m\u001b[0mlen\u001b[0m\u001b[1;33m(\u001b[0m\u001b[0mself\u001b[0m\u001b[1;33m.\u001b[0m\u001b[0mitems\u001b[0m\u001b[1;33m)\u001b[0m\u001b[1;33m)\u001b[0m\u001b[1;33m[\u001b[0m\u001b[0misnull\u001b[0m\u001b[1;33m(\u001b[0m\u001b[0mself\u001b[0m\u001b[1;33m.\u001b[0m\u001b[0mitems\u001b[0m\u001b[1;33m)\u001b[0m\u001b[1;33m]\u001b[0m\u001b[1;33m\u001b[0m\u001b[0m\n",
      "\u001b[1;32mD:\\ProgramData\\Anaconda3\\lib\\site-packages\\pandas\\core\\indexes\\base.py\u001b[0m in \u001b[0;36mget_loc\u001b[1;34m(self, key, method, tolerance)\u001b[0m\n\u001b[0;32m   2393\u001b[0m                 \u001b[1;32mreturn\u001b[0m \u001b[0mself\u001b[0m\u001b[1;33m.\u001b[0m\u001b[0m_engine\u001b[0m\u001b[1;33m.\u001b[0m\u001b[0mget_loc\u001b[0m\u001b[1;33m(\u001b[0m\u001b[0mkey\u001b[0m\u001b[1;33m)\u001b[0m\u001b[1;33m\u001b[0m\u001b[0m\n\u001b[0;32m   2394\u001b[0m             \u001b[1;32mexcept\u001b[0m \u001b[0mKeyError\u001b[0m\u001b[1;33m:\u001b[0m\u001b[1;33m\u001b[0m\u001b[0m\n\u001b[1;32m-> 2395\u001b[1;33m                 \u001b[1;32mreturn\u001b[0m \u001b[0mself\u001b[0m\u001b[1;33m.\u001b[0m\u001b[0m_engine\u001b[0m\u001b[1;33m.\u001b[0m\u001b[0mget_loc\u001b[0m\u001b[1;33m(\u001b[0m\u001b[0mself\u001b[0m\u001b[1;33m.\u001b[0m\u001b[0m_maybe_cast_indexer\u001b[0m\u001b[1;33m(\u001b[0m\u001b[0mkey\u001b[0m\u001b[1;33m)\u001b[0m\u001b[1;33m)\u001b[0m\u001b[1;33m\u001b[0m\u001b[0m\n\u001b[0m\u001b[0;32m   2396\u001b[0m \u001b[1;33m\u001b[0m\u001b[0m\n\u001b[0;32m   2397\u001b[0m         \u001b[0mindexer\u001b[0m \u001b[1;33m=\u001b[0m \u001b[0mself\u001b[0m\u001b[1;33m.\u001b[0m\u001b[0mget_indexer\u001b[0m\u001b[1;33m(\u001b[0m\u001b[1;33m[\u001b[0m\u001b[0mkey\u001b[0m\u001b[1;33m]\u001b[0m\u001b[1;33m,\u001b[0m \u001b[0mmethod\u001b[0m\u001b[1;33m=\u001b[0m\u001b[0mmethod\u001b[0m\u001b[1;33m,\u001b[0m \u001b[0mtolerance\u001b[0m\u001b[1;33m=\u001b[0m\u001b[0mtolerance\u001b[0m\u001b[1;33m)\u001b[0m\u001b[1;33m\u001b[0m\u001b[0m\n",
      "\u001b[1;32mpandas\\_libs\\index.pyx\u001b[0m in \u001b[0;36mpandas._libs.index.IndexEngine.get_loc (pandas\\_libs\\index.c:5239)\u001b[1;34m()\u001b[0m\n",
      "\u001b[1;32mpandas\\_libs\\index.pyx\u001b[0m in \u001b[0;36mpandas._libs.index.IndexEngine.get_loc (pandas\\_libs\\index.c:5085)\u001b[1;34m()\u001b[0m\n",
      "\u001b[1;32mpandas\\_libs\\hashtable_class_helper.pxi\u001b[0m in \u001b[0;36mpandas._libs.hashtable.PyObjectHashTable.get_item (pandas\\_libs\\hashtable.c:20405)\u001b[1;34m()\u001b[0m\n",
      "\u001b[1;32mpandas\\_libs\\hashtable_class_helper.pxi\u001b[0m in \u001b[0;36mpandas._libs.hashtable.PyObjectHashTable.get_item (pandas\\_libs\\hashtable.c:20359)\u001b[1;34m()\u001b[0m\n",
      "\u001b[1;31mKeyError\u001b[0m: 'Embarked'"
     ]
    }
   ],
   "source": [
    "## Deal with embarked features -> change embark feature to numerical\n",
    "# step 1 convert null value to unknown\n",
    "train_set.loc[train_set['Embarked'].isnull(),'Embarked'] = 'unknown'\n",
    "\n",
    "# step 2 convert string to numeric value\n",
    "dic_embarked = {'S':1, 'C':2, 'Q':3, 'unknown':4}\n",
    "train_set['Embarked_Numeric'] = train_set['Embarked'].map(dic_embarked)\n",
    "\n",
    "# step 3 drop embarked feature\n",
    "train_set = train_set.drop(['Embarked'], axis = 1)\n",
    "\n",
    "print(train_set)\n"
   ]
  },
  {
   "cell_type": "code",
   "execution_count": 13,
   "metadata": {},
   "outputs": [
    {
     "name": "stdout",
     "output_type": "stream",
     "text": [
      "     Survived  Pclass  SibSp  Parch            Ticket      Fare  \\\n",
      "0           0       3      1      0         A/5 21171    7.2500   \n",
      "1           1       1      1      0          PC 17599   71.2833   \n",
      "2           1       3      0      0  STON/O2. 3101282    7.9250   \n",
      "3           1       1      1      0            113803   53.1000   \n",
      "4           0       3      0      0            373450    8.0500   \n",
      "5           0       3      0      0            330877    8.4583   \n",
      "6           0       1      0      0             17463   51.8625   \n",
      "7           0       3      3      1            349909   21.0750   \n",
      "8           1       3      0      2            347742   11.1333   \n",
      "9           1       2      1      0            237736   30.0708   \n",
      "10          1       3      1      1           PP 9549   16.7000   \n",
      "11          1       1      0      0            113783   26.5500   \n",
      "12          0       3      0      0         A/5. 2151    8.0500   \n",
      "13          0       3      1      5            347082   31.2750   \n",
      "14          0       3      0      0            350406    7.8542   \n",
      "15          1       2      0      0            248706   16.0000   \n",
      "16          0       3      4      1            382652   29.1250   \n",
      "17          1       2      0      0            244373   13.0000   \n",
      "18          0       3      1      0            345763   18.0000   \n",
      "19          1       3      0      0              2649    7.2250   \n",
      "20          0       2      0      0            239865   26.0000   \n",
      "21          1       2      0      0            248698   13.0000   \n",
      "22          1       3      0      0            330923    8.0292   \n",
      "23          1       1      0      0            113788   35.5000   \n",
      "24          0       3      3      1            349909   21.0750   \n",
      "25          1       3      1      5            347077   31.3875   \n",
      "26          0       3      0      0              2631    7.2250   \n",
      "27          0       1      3      2             19950  263.0000   \n",
      "28          1       3      0      0            330959    7.8792   \n",
      "29          0       3      0      0            349216    7.8958   \n",
      "..        ...     ...    ...    ...               ...       ...   \n",
      "861         0       2      1      0             28134   11.5000   \n",
      "862         1       1      0      0             17466   25.9292   \n",
      "863         0       3      8      2          CA. 2343   69.5500   \n",
      "864         0       2      0      0            233866   13.0000   \n",
      "865         1       2      0      0            236852   13.0000   \n",
      "866         1       2      1      0     SC/PARIS 2149   13.8583   \n",
      "867         0       1      0      0          PC 17590   50.4958   \n",
      "868         0       3      0      0            345777    9.5000   \n",
      "869         1       3      1      1            347742   11.1333   \n",
      "870         0       3      0      0            349248    7.8958   \n",
      "871         1       1      1      1             11751   52.5542   \n",
      "872         0       1      0      0               695    5.0000   \n",
      "873         0       3      0      0            345765    9.0000   \n",
      "874         1       2      1      0         P/PP 3381   24.0000   \n",
      "875         1       3      0      0              2667    7.2250   \n",
      "876         0       3      0      0              7534    9.8458   \n",
      "877         0       3      0      0            349212    7.8958   \n",
      "878         0       3      0      0            349217    7.8958   \n",
      "879         1       1      0      1             11767   83.1583   \n",
      "880         1       2      0      1            230433   26.0000   \n",
      "881         0       3      0      0            349257    7.8958   \n",
      "882         0       3      0      0              7552   10.5167   \n",
      "883         0       2      0      0  C.A./SOTON 34068   10.5000   \n",
      "884         0       3      0      0   SOTON/OQ 392076    7.0500   \n",
      "885         0       3      0      5            382652   29.1250   \n",
      "886         0       2      0      0            211536   13.0000   \n",
      "887         1       1      0      0            112053   30.0000   \n",
      "888         0       3      1      2        W./C. 6607   23.4500   \n",
      "889         1       1      0      0            111369   30.0000   \n",
      "890         0       3      0      0            370376    7.7500   \n",
      "\n",
      "     Cabin_Numeric  Embarked_Numeric  Sex_Numeric  \n",
      "0                1                 1            1  \n",
      "1                2                 2            2  \n",
      "2                1                 1            2  \n",
      "3                2                 1            2  \n",
      "4                1                 1            1  \n",
      "5                1                 3            1  \n",
      "6                3                 1            1  \n",
      "7                1                 1            1  \n",
      "8                1                 1            2  \n",
      "9                1                 2            2  \n",
      "10               4                 1            2  \n",
      "11               2                 1            2  \n",
      "12               1                 1            1  \n",
      "13               1                 1            1  \n",
      "14               1                 1            2  \n",
      "15               1                 1            2  \n",
      "16               1                 3            1  \n",
      "17               1                 1            1  \n",
      "18               1                 1            2  \n",
      "19               1                 2            2  \n",
      "20               1                 1            1  \n",
      "21               5                 1            1  \n",
      "22               1                 3            2  \n",
      "23               6                 1            1  \n",
      "24               1                 1            2  \n",
      "25               1                 1            2  \n",
      "26               1                 2            1  \n",
      "27               2                 1            1  \n",
      "28               1                 3            2  \n",
      "29               1                 1            1  \n",
      "..             ...               ...          ...  \n",
      "861              1                 1            1  \n",
      "862              5                 1            2  \n",
      "863              1                 1            2  \n",
      "864              1                 1            1  \n",
      "865              1                 1            2  \n",
      "866              1                 2            2  \n",
      "867              6                 1            1  \n",
      "868              1                 1            1  \n",
      "869              1                 1            1  \n",
      "870              1                 1            1  \n",
      "871              5                 1            2  \n",
      "872              7                 1            1  \n",
      "873              1                 1            1  \n",
      "874              1                 2            2  \n",
      "875              1                 2            2  \n",
      "876              1                 1            1  \n",
      "877              1                 1            1  \n",
      "878              1                 1            1  \n",
      "879              2                 2            2  \n",
      "880              1                 1            2  \n",
      "881              1                 1            1  \n",
      "882              1                 1            2  \n",
      "883              1                 1            1  \n",
      "884              1                 1            1  \n",
      "885              1                 3            2  \n",
      "886              1                 1            1  \n",
      "887              7                 1            2  \n",
      "888              1                 1            2  \n",
      "889              2                 2            1  \n",
      "890              1                 3            1  \n",
      "\n",
      "[891 rows x 9 columns]\n"
     ]
    }
   ],
   "source": [
    "## Deal with sex features\n",
    "# convert string to numeric value\n",
    "dic_sex = {'male':1, 'female':2}\n",
    "train_set['Sex_Numeric'] = train_set['Sex'].map(dic_sex)\n",
    "\n",
    "# drop sex features\n",
    "train_set = train_set.drop(['Sex'], axis = 1)\n",
    "print(train_set)"
   ]
  },
  {
   "cell_type": "code",
   "execution_count": 14,
   "metadata": {},
   "outputs": [
    {
     "name": "stdout",
     "output_type": "stream",
     "text": [
      "     Survived  Pclass  SibSp  Parch      Fare  Cabin_Numeric  \\\n",
      "0           0       3      1      0    7.2500              1   \n",
      "1           1       1      1      0   71.2833              2   \n",
      "2           1       3      0      0    7.9250              1   \n",
      "3           1       1      1      0   53.1000              2   \n",
      "4           0       3      0      0    8.0500              1   \n",
      "5           0       3      0      0    8.4583              1   \n",
      "6           0       1      0      0   51.8625              3   \n",
      "7           0       3      3      1   21.0750              1   \n",
      "8           1       3      0      2   11.1333              1   \n",
      "9           1       2      1      0   30.0708              1   \n",
      "10          1       3      1      1   16.7000              4   \n",
      "11          1       1      0      0   26.5500              2   \n",
      "12          0       3      0      0    8.0500              1   \n",
      "13          0       3      1      5   31.2750              1   \n",
      "14          0       3      0      0    7.8542              1   \n",
      "15          1       2      0      0   16.0000              1   \n",
      "16          0       3      4      1   29.1250              1   \n",
      "17          1       2      0      0   13.0000              1   \n",
      "18          0       3      1      0   18.0000              1   \n",
      "19          1       3      0      0    7.2250              1   \n",
      "20          0       2      0      0   26.0000              1   \n",
      "21          1       2      0      0   13.0000              5   \n",
      "22          1       3      0      0    8.0292              1   \n",
      "23          1       1      0      0   35.5000              6   \n",
      "24          0       3      3      1   21.0750              1   \n",
      "25          1       3      1      5   31.3875              1   \n",
      "26          0       3      0      0    7.2250              1   \n",
      "27          0       1      3      2  263.0000              2   \n",
      "28          1       3      0      0    7.8792              1   \n",
      "29          0       3      0      0    7.8958              1   \n",
      "..        ...     ...    ...    ...       ...            ...   \n",
      "861         0       2      1      0   11.5000              1   \n",
      "862         1       1      0      0   25.9292              5   \n",
      "863         0       3      8      2   69.5500              1   \n",
      "864         0       2      0      0   13.0000              1   \n",
      "865         1       2      0      0   13.0000              1   \n",
      "866         1       2      1      0   13.8583              1   \n",
      "867         0       1      0      0   50.4958              6   \n",
      "868         0       3      0      0    9.5000              1   \n",
      "869         1       3      1      1   11.1333              1   \n",
      "870         0       3      0      0    7.8958              1   \n",
      "871         1       1      1      1   52.5542              5   \n",
      "872         0       1      0      0    5.0000              7   \n",
      "873         0       3      0      0    9.0000              1   \n",
      "874         1       2      1      0   24.0000              1   \n",
      "875         1       3      0      0    7.2250              1   \n",
      "876         0       3      0      0    9.8458              1   \n",
      "877         0       3      0      0    7.8958              1   \n",
      "878         0       3      0      0    7.8958              1   \n",
      "879         1       1      0      1   83.1583              2   \n",
      "880         1       2      0      1   26.0000              1   \n",
      "881         0       3      0      0    7.8958              1   \n",
      "882         0       3      0      0   10.5167              1   \n",
      "883         0       2      0      0   10.5000              1   \n",
      "884         0       3      0      0    7.0500              1   \n",
      "885         0       3      0      5   29.1250              1   \n",
      "886         0       2      0      0   13.0000              1   \n",
      "887         1       1      0      0   30.0000              7   \n",
      "888         0       3      1      2   23.4500              1   \n",
      "889         1       1      0      0   30.0000              2   \n",
      "890         0       3      0      0    7.7500              1   \n",
      "\n",
      "     Embarked_Numeric  Sex_Numeric  \n",
      "0                   1            1  \n",
      "1                   2            2  \n",
      "2                   1            2  \n",
      "3                   1            2  \n",
      "4                   1            1  \n",
      "5                   3            1  \n",
      "6                   1            1  \n",
      "7                   1            1  \n",
      "8                   1            2  \n",
      "9                   2            2  \n",
      "10                  1            2  \n",
      "11                  1            2  \n",
      "12                  1            1  \n",
      "13                  1            1  \n",
      "14                  1            2  \n",
      "15                  1            2  \n",
      "16                  3            1  \n",
      "17                  1            1  \n",
      "18                  1            2  \n",
      "19                  2            2  \n",
      "20                  1            1  \n",
      "21                  1            1  \n",
      "22                  3            2  \n",
      "23                  1            1  \n",
      "24                  1            2  \n",
      "25                  1            2  \n",
      "26                  2            1  \n",
      "27                  1            1  \n",
      "28                  3            2  \n",
      "29                  1            1  \n",
      "..                ...          ...  \n",
      "861                 1            1  \n",
      "862                 1            2  \n",
      "863                 1            2  \n",
      "864                 1            1  \n",
      "865                 1            2  \n",
      "866                 2            2  \n",
      "867                 1            1  \n",
      "868                 1            1  \n",
      "869                 1            1  \n",
      "870                 1            1  \n",
      "871                 1            2  \n",
      "872                 1            1  \n",
      "873                 1            1  \n",
      "874                 2            2  \n",
      "875                 2            2  \n",
      "876                 1            1  \n",
      "877                 1            1  \n",
      "878                 1            1  \n",
      "879                 2            2  \n",
      "880                 1            2  \n",
      "881                 1            1  \n",
      "882                 1            2  \n",
      "883                 1            1  \n",
      "884                 1            1  \n",
      "885                 3            2  \n",
      "886                 1            1  \n",
      "887                 1            2  \n",
      "888                 1            2  \n",
      "889                 2            1  \n",
      "890                 3            1  \n",
      "\n",
      "[891 rows x 8 columns]\n"
     ]
    }
   ],
   "source": [
    "## Deal with Ticket features\n",
    "# drop Ticket feature\n",
    "train_set = train_set.drop(['Ticket'], axis = 1)\n",
    "\n",
    "print(train_set)"
   ]
  },
  {
   "cell_type": "markdown",
   "metadata": {},
   "source": [
    "# Visualize features"
   ]
  },
  {
   "cell_type": "code",
   "execution_count": 16,
   "metadata": {},
   "outputs": [
    {
     "data": {
      "text/plain": [
       "<matplotlib.axes._subplots.AxesSubplot at 0x182251d2cc0>"
      ]
     },
     "execution_count": 16,
     "metadata": {},
     "output_type": "execute_result"
    },
    {
     "data": {
      "image/png": "[encoded data removed]",
      "text/plain": [
       "<matplotlib.figure.Figure at 0x182251d2518>"
      ]
     },
     "metadata": {},
     "output_type": "display_data"
    }
   ],
   "source": [
    "# Visualize correlation of each features\n",
    "plt.figure(figsize=(12,12))\n",
    "plt.title('Pearson Correlation of Features')\n",
    "sns.heatmap(train_set.astype(float).corr(),linewidths=0.1,vmax=1.0, square=True, linecolor='white', annot=True)"
   ]
  },
  {
   "cell_type": "code",
   "execution_count": 17,
   "metadata": {
    "scrolled": true
   },
   "outputs": [
    {
     "name": "stdout",
     "output_type": "stream",
     "text": [
      "Survived Min val : 0 Max val : 1 Mean val : 0.38 Median val : 0.0 Std val : 0.49\n",
      "Pclass Min val : 1 Max val : 3 Mean val : 2.31 Median val : 3.0 Std val : 0.84\n",
      "SibSp Min val : 0 Max val : 8 Mean val : 0.52 Median val : 0.0 Std val : 1.1\n",
      "Parch Min val : 0 Max val : 6 Mean val : 0.38 Median val : 0.0 Std val : 0.81\n",
      "Fare Min val : 0.0 Max val : 512.33 Mean val : 32.2 Median val : 14.45 Std val : 49.67\n",
      "Cabin_Numeric Min val : 1 Max val : 9 Mean val : 1.81 Median val : 1.0 Std val : 1.81\n",
      "Embarked_Numeric Min val : 1 Max val : 4 Mean val : 1.37 Median val : 1.0 Std val : 0.65\n",
      "Sex_Numeric Min val : 1 Max val : 2 Mean val : 1.35 Median val : 1.0 Std val : 0.48\n"
     ]
    },
    {
     "data": {
      "image/png": "[encoded data removed]",
      "text/plain": [
       "<matplotlib.figure.Figure at 0x1822527c080>"
      ]
     },
     "metadata": {},
     "output_type": "display_data"
    },
    {
     "data": {
      "image/png": "[encoded data removed]",
      "text/plain": [
       "<matplotlib.figure.Figure at 0x18225008ba8>"
      ]
     },
     "metadata": {},
     "output_type": "display_data"
    },
    {
     "data": {
      "image/png": "[encoded data removed]",
      "text/plain": [
       "<matplotlib.figure.Figure at 0x182250a3320>"
      ]
     },
     "metadata": {},
     "output_type": "display_data"
    },
    {
     "data": {
      "image/png": "[encoded data removed]",
      "text/plain": [
       "<matplotlib.figure.Figure at 0x182255176a0>"
      ]
     },
     "metadata": {},
     "output_type": "display_data"
    },
    {
     "data": {
      "image/png": "[encoded data removed]",
      "text/plain": [
       "<matplotlib.figure.Figure at 0x182255b50b8>"
      ]
     },
     "metadata": {},
     "output_type": "display_data"
    },
    {
     "data": {
      "image/png": "[encoded data removed]",
      "text/plain": [
       "<matplotlib.figure.Figure at 0x1822565a2b0>"
      ]
     },
     "metadata": {},
     "output_type": "display_data"
    },
    {
     "data": {
      "image/png": "[encoded data removed]",
      "text/plain": [
       "<matplotlib.figure.Figure at 0x182256f0a58>"
      ]
     },
     "metadata": {},
     "output_type": "display_data"
    },
    {
     "data": {
      "image/png": "[encoded data removed]",
      "text/plain": [
       "<matplotlib.figure.Figure at 0x182259a99b0>"
      ]
     },
     "metadata": {},
     "output_type": "display_data"
    }
   ],
   "source": [
    "## visualize distribution of each features\n",
    "\n",
    "col_interest = ['Fare', 'SibSp', 'Parch']\n",
    "\n",
    "def r2(x): return round(x,2)\n",
    "\n",
    "for col in list(train_set):\n",
    "    fig = plt.figure()\n",
    "    ax1 = fig.gca()\n",
    "    \n",
    "    plt.hist(train_set[col])\n",
    "    print(col, 'Min val :',np.min(train_set[col]),'Max val :', r2(np.max(train_set[col])), \n",
    "          'Mean val :', r2(np.mean(train_set[col])), 'Median val :', r2(np.median(train_set[col]))\n",
    "          , 'Std val :', r2(np.std(train_set[col])))\n",
    "    plt.title('Distribution of :' + col)"
   ]
  },
  {
   "cell_type": "code",
   "execution_count": 18,
   "metadata": {
    "scrolled": false
   },
   "outputs": [
    {
     "data": {
      "text/plain": [
       "<matplotlib.figure.Figure at 0x18224e59710>"
      ]
     },
     "metadata": {},
     "output_type": "display_data"
    },
    {
     "data": {
      "image/png": "[encoded data removed]",
      "text/plain": [
       "<matplotlib.figure.Figure at 0x18224dd1f28>"
      ]
     },
     "metadata": {},
     "output_type": "display_data"
    }
   ],
   "source": [
    "## visualize box plot\n",
    "\n",
    "col_interest = ['Fare']\n",
    "for col in col_interest:\n",
    "    fig = plt.figure()\n",
    "    train_set.boxplot(column = col, by = ['Survived'], figsize = (10,10))\n",
    "    plt.xlabel('Survived')\n",
    "    plt.ylabel(col)"
   ]
  },
  {
   "cell_type": "code",
   "execution_count": 48,
   "metadata": {
    "scrolled": false
   },
   "outputs": [
    {
     "name": "stdout",
     "output_type": "stream",
     "text": [
      "0    549\n",
      "Name: Survived, dtype: int64\n"
     ]
    },
    {
     "data": {
      "image/png": "[encoded data removed]",
      "text/plain": [
       "<matplotlib.figure.Figure at 0x1823592c710>"
      ]
     },
     "metadata": {},
     "output_type": "display_data"
    },
    {
     "data": {
      "image/png": "[encoded data removed]",
      "text/plain": [
       "<matplotlib.figure.Figure at 0x1823a439f60>"
      ]
     },
     "metadata": {},
     "output_type": "display_data"
    },
    {
     "data": {
      "image/png": "[encoded data removed]",
      "text/plain": [
       "<matplotlib.figure.Figure at 0x1823bc4c6a0>"
      ]
     },
     "metadata": {},
     "output_type": "display_data"
    },
    {
     "data": {
      "image/png": "[encoded data removed]",
      "text/plain": [
       "<matplotlib.figure.Figure at 0x1823cea3550>"
      ]
     },
     "metadata": {},
     "output_type": "display_data"
    },
    {
     "data": {
      "image/png": "[encoded data removed]",
      "text/plain": [
       "<matplotlib.figure.Figure at 0x18235a63dd8>"
      ]
     },
     "metadata": {},
     "output_type": "display_data"
    },
    {
     "data": {
      "image/png": "[encoded data removed]",
      "text/plain": [
       "<matplotlib.figure.Figure at 0x18232a7b080>"
      ]
     },
     "metadata": {},
     "output_type": "display_data"
    },
    {
     "data": {
      "image/png": "[encoded data removed]",
      "text/plain": [
       "<matplotlib.figure.Figure at 0x18233a670b8>"
      ]
     },
     "metadata": {},
     "output_type": "display_data"
    }
   ],
   "source": [
    "## Visualize barplot group by survived\n",
    "    \n",
    "for col in set(list(train_set)) - set(['Fare']):\n",
    "    \n",
    "    fig, (ax1, ax2) = plt.subplots(1, 2, figsize=(10,5), sharex = True, sharey = True)\n",
    "    train_set.loc[train_set['Survived'] == 0, col].value_counts().plot(kind = 'bar', ax = ax1)\n",
    "    ax1.set_title('Dead')\n",
    "    train_set.loc[train_set['Survived'] == 1, col].value_counts().plot(kind = 'bar', ax = ax2)\n",
    "    ax2.set_title('Survived')\n",
    "    ax1.set_ylabel(col)\n",
    "    \n",
    "print(train_set.loc[train_set['Survived'] == 0, 'Survived'].value_counts())\n"
   ]
  },
  {
   "cell_type": "code",
   "execution_count": null,
   "metadata": {
    "collapsed": true
   },
   "outputs": [],
   "source": []
  }
 ],
 "metadata": {
  "kernelspec": {
   "display_name": "Python 3",
   "language": "python",
   "name": "python3"
  },
  "language_info": {
   "codemirror_mode": {
    "name": "ipython",
    "version": 3
   },
   "file_extension": ".py",
   "mimetype": "text/x-python",
   "name": "python",
   "nbconvert_exporter": "python",
   "pygments_lexer": "ipython3",
   "version": "3.6.1"
  }
 },
 "nbformat": 4,
 "nbformat_minor": 2
}
