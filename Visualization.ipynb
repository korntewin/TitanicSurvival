{
 "cells": [
  {
   "cell_type": "markdown",
   "metadata": {},
   "source": [
    "# Import Library\n",
    "import library"
   ]
  },
  {
   "cell_type": "code",
   "execution_count": 67,
   "metadata": {},
   "outputs": [
    {
     "name": "stdout",
     "output_type": "stream",
     "text": [
      "Requirement already up-to-date: tensorflow in d:\\programdata\\anaconda3\\lib\\site-packages\n",
      "Requirement already up-to-date: wheel>=0.26 in d:\\programdata\\anaconda3\\lib\\site-packages (from tensorflow)\n",
      "Requirement already up-to-date: protobuf>=3.3.0 in d:\\programdata\\anaconda3\\lib\\site-packages (from tensorflow)\n",
      "Collecting numpy>=1.11.0 (from tensorflow)\n",
      "  Using cached numpy-1.13.1-cp36-none-win_amd64.whl\n",
      "Requirement already up-to-date: tensorflow-tensorboard<0.2.0,>=0.1.0 in d:\\programdata\\anaconda3\\lib\\site-packages (from tensorflow)\n",
      "Requirement already up-to-date: six>=1.10.0 in d:\\programdata\\anaconda3\\lib\\site-packages (from tensorflow)\n",
      "Collecting setuptools (from protobuf>=3.3.0->tensorflow)\n",
      "  Using cached setuptools-36.5.0-py2.py3-none-any.whl\n",
      "Requirement already up-to-date: markdown>=2.6.8 in d:\\programdata\\anaconda3\\lib\\site-packages (from tensorflow-tensorboard<0.2.0,>=0.1.0->tensorflow)\n",
      "Requirement already up-to-date: bleach==1.5.0 in d:\\programdata\\anaconda3\\lib\\site-packages (from tensorflow-tensorboard<0.2.0,>=0.1.0->tensorflow)\n",
      "Requirement already up-to-date: werkzeug>=0.11.10 in d:\\programdata\\anaconda3\\lib\\site-packages (from tensorflow-tensorboard<0.2.0,>=0.1.0->tensorflow)\n",
      "Requirement already up-to-date: html5lib==0.9999999 in d:\\programdata\\anaconda3\\lib\\site-packages (from tensorflow-tensorboard<0.2.0,>=0.1.0->tensorflow)\n",
      "Installing collected packages: numpy, setuptools\n",
      "  Found existing installation: numpy 1.12.1\n",
      "    Uninstalling numpy-1.12.1:\n"
     ]
    },
    {
     "name": "stderr",
     "output_type": "stream",
     "text": [
      "Exception:\n",
      "Traceback (most recent call last):\n",
      "  File \"D:\\ProgramData\\Anaconda3\\lib\\shutil.py\", line 544, in move\n",
      "    os.rename(src, real_dst)\n",
      "OSError: [WinError 17] The system cannot move the file to a different disk drive: 'd:\\\\programdata\\\\anaconda3\\\\lib\\\\site-packages\\\\numpy' -> 'C:\\\\Users\\\\Snowlaw\\\\AppData\\\\Local\\\\Temp\\\\pip-wlyrldt1-uninstall\\\\programdata\\\\anaconda3\\\\lib\\\\site-packages\\\\numpy'\n",
      "\n",
      "During handling of the above exception, another exception occurred:\n",
      "\n",
      "Traceback (most recent call last):\n",
      "  File \"D:\\ProgramData\\Anaconda3\\lib\\site-packages\\pip\\basecommand.py\", line 215, in main\n",
      "    status = self.run(options, args)\n",
      "  File \"D:\\ProgramData\\Anaconda3\\lib\\site-packages\\pip\\commands\\install.py\", line 342, in run\n",
      "    prefix=options.prefix_path,\n",
      "  File \"D:\\ProgramData\\Anaconda3\\lib\\site-packages\\pip\\req\\req_set.py\", line 778, in install\n",
      "    requirement.uninstall(auto_confirm=True)\n",
      "  File \"D:\\ProgramData\\Anaconda3\\lib\\site-packages\\pip\\req\\req_install.py\", line 754, in uninstall\n",
      "    paths_to_remove.remove(auto_confirm)\n",
      "  File \"D:\\ProgramData\\Anaconda3\\lib\\site-packages\\pip\\req\\req_uninstall.py\", line 115, in remove\n",
      "    renames(path, new_path)\n",
      "  File \"D:\\ProgramData\\Anaconda3\\lib\\site-packages\\pip\\utils\\__init__.py\", line 267, in renames\n",
      "    shutil.move(old, new)\n",
      "  File \"D:\\ProgramData\\Anaconda3\\lib\\shutil.py\", line 556, in move\n",
      "    rmtree(src)\n",
      "  File \"D:\\ProgramData\\Anaconda3\\lib\\shutil.py\", line 494, in rmtree\n",
      "    return _rmtree_unsafe(path, onerror)\n",
      "  File \"D:\\ProgramData\\Anaconda3\\lib\\shutil.py\", line 384, in _rmtree_unsafe\n",
      "    _rmtree_unsafe(fullname, onerror)\n",
      "  File \"D:\\ProgramData\\Anaconda3\\lib\\shutil.py\", line 389, in _rmtree_unsafe\n",
      "    onerror(os.unlink, fullname, sys.exc_info())\n",
      "  File \"D:\\ProgramData\\Anaconda3\\lib\\shutil.py\", line 387, in _rmtree_unsafe\n",
      "    os.unlink(fullname)\n",
      "PermissionError: [WinError 5] Access is denied: 'd:\\\\programdata\\\\anaconda3\\\\lib\\\\site-packages\\\\numpy\\\\core\\\\multiarray.cp36-win_amd64.pyd'\n"
     ]
    }
   ],
   "source": [
    "!pip install --upgrade tensorflow\n",
    "import seaborn as sns\n",
    "import numpy as np\n",
    "import pandas as pd\n",
    "import math\n",
    "import tensorflow as tf\n",
    "import csv\n",
    "import matplotlib.pyplot as plt"
   ]
  },
  {
   "cell_type": "code",
   "execution_count": 68,
   "metadata": {},
   "outputs": [
    {
     "name": "stdout",
     "output_type": "stream",
     "text": [
      "b'Hello, TensorFlow!'\n"
     ]
    }
   ],
   "source": [
    "hello = tf.constant('Hello, TensorFlow!')\n",
    "sess = tf.Session()\n",
    "print(sess.run(hello))"
   ]
  },
  {
   "cell_type": "markdown",
   "metadata": {},
   "source": [
    "# Import Training set and Test set of Titanic Survival"
   ]
  },
  {
   "cell_type": "code",
   "execution_count": 69,
   "metadata": {
    "scrolled": true
   },
   "outputs": [
    {
     "name": "stdout",
     "output_type": "stream",
     "text": [
      "shape of train set : (891, 12)\n",
      "shape of test set: (418, 11)\n",
      " ---- Null data in train set : ----\n",
      " PassengerId      0\n",
      "Survived         0\n",
      "Pclass           0\n",
      "Name             0\n",
      "Sex              0\n",
      "Age            177\n",
      "SibSp            0\n",
      "Parch            0\n",
      "Ticket           0\n",
      "Fare             0\n",
      "Cabin          687\n",
      "Embarked         2\n",
      "dtype: int64\n",
      " ---- Null data in test set : ----\n",
      " PassengerId      0\n",
      "Pclass           0\n",
      "Name             0\n",
      "Sex              0\n",
      "Age             86\n",
      "SibSp            0\n",
      "Parch            0\n",
      "Ticket           0\n",
      "Fare             1\n",
      "Cabin          327\n",
      "Embarked         0\n",
      "dtype: int64\n",
      "    PassengerId  Survived  Pclass  \\\n",
      "0             1         0       3   \n",
      "1             2         1       1   \n",
      "2             3         1       3   \n",
      "3             4         1       1   \n",
      "4             5         0       3   \n",
      "5             6         0       3   \n",
      "6             7         0       1   \n",
      "7             8         0       3   \n",
      "8             9         1       3   \n",
      "9            10         1       2   \n",
      "10           11         1       3   \n",
      "11           12         1       1   \n",
      "12           13         0       3   \n",
      "13           14         0       3   \n",
      "14           15         0       3   \n",
      "15           16         1       2   \n",
      "16           17         0       3   \n",
      "17           18         1       2   \n",
      "18           19         0       3   \n",
      "19           20         1       3   \n",
      "\n",
      "                                                 Name     Sex   Age  SibSp  \\\n",
      "0                             Braund, Mr. Owen Harris    male  22.0      1   \n",
      "1   Cumings, Mrs. John Bradley (Florence Briggs Th...  female  38.0      1   \n",
      "2                              Heikkinen, Miss. Laina  female  26.0      0   \n",
      "3        Futrelle, Mrs. Jacques Heath (Lily May Peel)  female  35.0      1   \n",
      "4                            Allen, Mr. William Henry    male  35.0      0   \n",
      "5                                    Moran, Mr. James    male   NaN      0   \n",
      "6                             McCarthy, Mr. Timothy J    male  54.0      0   \n",
      "7                      Palsson, Master. Gosta Leonard    male   2.0      3   \n",
      "8   Johnson, Mrs. Oscar W (Elisabeth Vilhelmina Berg)  female  27.0      0   \n",
      "9                 Nasser, Mrs. Nicholas (Adele Achem)  female  14.0      1   \n",
      "10                    Sandstrom, Miss. Marguerite Rut  female   4.0      1   \n",
      "11                           Bonnell, Miss. Elizabeth  female  58.0      0   \n",
      "12                     Saundercock, Mr. William Henry    male  20.0      0   \n",
      "13                        Andersson, Mr. Anders Johan    male  39.0      1   \n",
      "14               Vestrom, Miss. Hulda Amanda Adolfina  female  14.0      0   \n",
      "15                   Hewlett, Mrs. (Mary D Kingcome)   female  55.0      0   \n",
      "16                               Rice, Master. Eugene    male   2.0      4   \n",
      "17                       Williams, Mr. Charles Eugene    male   NaN      0   \n",
      "18  Vander Planke, Mrs. Julius (Emelia Maria Vande...  female  31.0      1   \n",
      "19                            Masselmani, Mrs. Fatima  female   NaN      0   \n",
      "\n",
      "    Parch            Ticket     Fare Cabin Embarked  \n",
      "0       0         A/5 21171   7.2500   NaN        S  \n",
      "1       0          PC 17599  71.2833   C85        C  \n",
      "2       0  STON/O2. 3101282   7.9250   NaN        S  \n",
      "3       0            113803  53.1000  C123        S  \n",
      "4       0            373450   8.0500   NaN        S  \n",
      "5       0            330877   8.4583   NaN        Q  \n",
      "6       0             17463  51.8625   E46        S  \n",
      "7       1            349909  21.0750   NaN        S  \n",
      "8       2            347742  11.1333   NaN        S  \n",
      "9       0            237736  30.0708   NaN        C  \n",
      "10      1           PP 9549  16.7000    G6        S  \n",
      "11      0            113783  26.5500  C103        S  \n",
      "12      0         A/5. 2151   8.0500   NaN        S  \n",
      "13      5            347082  31.2750   NaN        S  \n",
      "14      0            350406   7.8542   NaN        S  \n",
      "15      0            248706  16.0000   NaN        S  \n",
      "16      1            382652  29.1250   NaN        Q  \n",
      "17      0            244373  13.0000   NaN        S  \n",
      "18      0            345763  18.0000   NaN        S  \n",
      "19      0              2649   7.2250   NaN        C  \n"
     ]
    }
   ],
   "source": [
    "train_set = pd.read_csv('train.csv')\n",
    "test_set = pd.read_csv('test.csv')\n",
    "\n",
    "print('shape of train set :',train_set.shape)\n",
    "print('shape of test set:', test_set.shape)\n",
    "\n",
    "print(' ---- Null data in train set : ----\\n', train_set.isnull().sum())\n",
    "print(' ---- Null data in test set : ----\\n', test_set.isnull().sum())\n",
    "\n",
    "print(train_set.loc[range(20)])"
   ]
  },
  {
   "cell_type": "markdown",
   "metadata": {},
   "source": [
    "# Cleanse Data"
   ]
  },
  {
   "cell_type": "code",
   "execution_count": 70,
   "metadata": {},
   "outputs": [
    {
     "data": {
      "text/plain": [
       "<matplotlib.axes._subplots.AxesSubplot at 0x2331ebeeda0>"
      ]
     },
     "execution_count": 70,
     "metadata": {},
     "output_type": "execute_result"
    },
    {
     "data": {
      "image/png": "[encoded data removed]",
      "text/plain": [
       "<matplotlib.figure.Figure at 0x2331e9f0828>"
      ]
     },
     "metadata": {},
     "output_type": "display_data"
    }
   ],
   "source": [
    "%matplotlib inline\n",
    "age_plot = train_set.loc[np.logical_not(train_set['Age'].isnull()), ['Age']]\n",
    "sns.distplot(age_plot, bins = 50, axlabel = 'Age', color=\"r\")"
   ]
  },
  {
   "cell_type": "code",
   "execution_count": 72,
   "metadata": {
    "scrolled": true
   },
   "outputs": [
    {
     "name": "stdout",
     "output_type": "stream",
     "text": [
      "     Survived  Pclass     Sex   Age  Parch      Fare Embarked\n",
      "700         1       1  female  18.0      0  227.5250        C\n",
      "701         1       1    male  35.0      0   26.2875        S\n",
      "702         0       3  female  18.0      1   14.4542        C\n",
      "703         0       3    male  25.0      0    7.7417        Q\n",
      "704         0       3    male  26.0      0    7.8542        S\n",
      "705         0       2    male  39.0      0   26.0000        S\n",
      "706         1       2  female  45.0      0   13.5000        S\n",
      "707         1       1    male  42.0      0   26.2875        S\n",
      "708         1       1  female  22.0      0  151.5500        S\n",
      "709         1       3    male   NaN      1   15.2458        C\n",
      "710         1       1  female  24.0      0   49.5042        C\n",
      "711         0       1    male   NaN      0   26.5500        S\n",
      "712         1       1    male  48.0      0   52.0000        S\n",
      "713         0       3    male  29.0      0    9.4833        S\n",
      "714         0       2    male  52.0      0   13.0000        S\n",
      "715         0       3    male  19.0      0    7.6500        S\n",
      "716         1       1  female  38.0      0  227.5250        C\n",
      "717         1       2  female  27.0      0   10.5000        S\n",
      "718         0       3    male   NaN      0   15.5000        Q\n",
      "719         0       3    male  33.0      0    7.7750        S\n",
      "720         1       2  female   6.0      1   33.0000        S\n",
      "721         0       3    male  17.0      0    7.0542        S\n",
      "722         0       2    male  34.0      0   13.0000        S\n",
      "723         0       2    male  50.0      0   13.0000        S\n",
      "724         1       1    male  27.0      0   53.1000        S\n",
      "725         0       3    male  20.0      0    8.6625        S\n",
      "726         1       2  female  30.0      0   21.0000        S\n",
      "727         1       3  female   NaN      0    7.7375        Q\n",
      "728         0       2    male  25.0      0   26.0000        S\n",
      "729         0       3  female  25.0      0    7.9250        S\n",
      "..        ...     ...     ...   ...    ...       ...      ...\n",
      "861         0       2    male  21.0      0   11.5000        S\n",
      "862         1       1  female  48.0      0   25.9292        S\n",
      "863         0       3  female   NaN      2   69.5500        S\n",
      "864         0       2    male  24.0      0   13.0000        S\n",
      "865         1       2  female  42.0      0   13.0000        S\n",
      "866         1       2  female  27.0      0   13.8583        C\n",
      "867         0       1    male  31.0      0   50.4958        S\n",
      "868         0       3    male   NaN      0    9.5000        S\n",
      "869         1       3    male   4.0      1   11.1333        S\n",
      "870         0       3    male  26.0      0    7.8958        S\n",
      "871         1       1  female  47.0      1   52.5542        S\n",
      "872         0       1    male  33.0      0    5.0000        S\n",
      "873         0       3    male  47.0      0    9.0000        S\n",
      "874         1       2  female  28.0      0   24.0000        C\n",
      "875         1       3  female  15.0      0    7.2250        C\n",
      "876         0       3    male  20.0      0    9.8458        S\n",
      "877         0       3    male  19.0      0    7.8958        S\n",
      "878         0       3    male   NaN      0    7.8958        S\n",
      "879         1       1  female  56.0      1   83.1583        C\n",
      "880         1       2  female  25.0      1   26.0000        S\n",
      "881         0       3    male  33.0      0    7.8958        S\n",
      "882         0       3  female  22.0      0   10.5167        S\n",
      "883         0       2    male  28.0      0   10.5000        S\n",
      "884         0       3    male  25.0      0    7.0500        S\n",
      "885         0       3  female  39.0      5   29.1250        Q\n",
      "886         0       2    male  27.0      0   13.0000        S\n",
      "887         1       1  female  19.0      0   30.0000        S\n",
      "888         0       3  female   NaN      2   23.4500        S\n",
      "889         1       1    male  26.0      0   30.0000        C\n",
      "890         0       3    male  32.0      0    7.7500        Q\n",
      "\n",
      "[191 rows x 7 columns]\n"
     ]
    }
   ],
   "source": [
    "drop_elements = ['PassengerId', 'Name', 'Ticket', 'Cabin', 'SibSp']\n",
    "train_set_copy = train_set.copy()\n",
    "train_set_copy = train_set_copy.drop(drop_elements, axis = 1)\n",
    "train_set_copy = train_set_copy.drop(range(700), axis = 0)\n",
    "print(train_set_copy)"
   ]
  },
  {
   "cell_type": "code",
   "execution_count": 85,
   "metadata": {},
   "outputs": [
    {
     "name": "stdout",
     "output_type": "stream",
     "text": [
      "0      1\n",
      "1      0\n",
      "2      0\n",
      "3      0\n",
      "4      1\n",
      "5      1\n",
      "6      1\n",
      "7      1\n",
      "8      0\n",
      "9      0\n",
      "10     0\n",
      "11     0\n",
      "12     1\n",
      "13     1\n",
      "14     0\n",
      "15     0\n",
      "16     1\n",
      "17     1\n",
      "18     0\n",
      "19     0\n",
      "20     1\n",
      "21     1\n",
      "22     0\n",
      "23     1\n",
      "24     0\n",
      "25     0\n",
      "26     1\n",
      "27     1\n",
      "28     0\n",
      "29     1\n",
      "      ..\n",
      "861    1\n",
      "862    0\n",
      "863    0\n",
      "864    1\n",
      "865    0\n",
      "866    0\n",
      "867    1\n",
      "868    1\n",
      "869    1\n",
      "870    1\n",
      "871    0\n",
      "872    1\n",
      "873    1\n",
      "874    0\n",
      "875    0\n",
      "876    1\n",
      "877    1\n",
      "878    1\n",
      "879    0\n",
      "880    0\n",
      "881    1\n",
      "882    0\n",
      "883    1\n",
      "884    1\n",
      "885    0\n",
      "886    1\n",
      "887    0\n",
      "888    0\n",
      "889    1\n",
      "890    1\n",
      "Name: Sex, Length: 891, dtype: int64\n"
     ]
    }
   ],
   "source": [
    "print(train_set.Sex.map(lambda x: 0 if x == 'female' else 1))"
   ]
  },
  {
   "cell_type": "code",
   "execution_count": null,
   "metadata": {
    "collapsed": true
   },
   "outputs": [],
   "source": []
  }
 ],
 "metadata": {
  "kernelspec": {
   "display_name": "Python 3",
   "language": "python",
   "name": "python3"
  },
  "language_info": {
   "codemirror_mode": {
    "name": "ipython",
    "version": 3
   },
   "file_extension": ".py",
   "mimetype": "text/x-python",
   "name": "python",
   "nbconvert_exporter": "python",
   "pygments_lexer": "ipython3",
   "version": "3.6.1"
  }
 },
 "nbformat": 4,
 "nbformat_minor": 2
}
