{
 "cells": [
  {
   "cell_type": "markdown",
   "metadata": {},
   "source": [
    "# Import Library\n",
    "import library"
   ]
  },
  {
   "cell_type": "code",
   "execution_count": 1,
   "metadata": {},
   "outputs": [
    {
     "name": "stdout",
     "output_type": "stream",
     "text": [
      "Requirement already satisfied: tensorflow in d:\\programdata\\anaconda3\\lib\\site-packages\n",
      "Requirement already satisfied: tensorflow-tensorboard<0.2.0,>=0.1.0 in d:\\programdata\\anaconda3\\lib\\site-packages (from tensorflow)\n",
      "Requirement already satisfied: wheel>=0.26 in d:\\programdata\\anaconda3\\lib\\site-packages (from tensorflow)\n",
      "Requirement already satisfied: protobuf>=3.3.0 in d:\\programdata\\anaconda3\\lib\\site-packages (from tensorflow)\n",
      "Requirement already satisfied: numpy>=1.11.0 in d:\\programdata\\anaconda3\\lib\\site-packages (from tensorflow)\n",
      "Requirement already satisfied: six>=1.10.0 in d:\\programdata\\anaconda3\\lib\\site-packages (from tensorflow)\n",
      "Requirement already satisfied: markdown>=2.6.8 in d:\\programdata\\anaconda3\\lib\\site-packages (from tensorflow-tensorboard<0.2.0,>=0.1.0->tensorflow)\n",
      "Requirement already satisfied: werkzeug>=0.11.10 in d:\\programdata\\anaconda3\\lib\\site-packages (from tensorflow-tensorboard<0.2.0,>=0.1.0->tensorflow)\n",
      "Requirement already satisfied: bleach==1.5.0 in d:\\programdata\\anaconda3\\lib\\site-packages (from tensorflow-tensorboard<0.2.0,>=0.1.0->tensorflow)\n",
      "Requirement already satisfied: html5lib==0.9999999 in d:\\programdata\\anaconda3\\lib\\site-packages (from tensorflow-tensorboard<0.2.0,>=0.1.0->tensorflow)\n",
      "Requirement already satisfied: setuptools in d:\\programdata\\anaconda3\\lib\\site-packages (from protobuf>=3.3.0->tensorflow)\n"
     ]
    }
   ],
   "source": [
    "!pip install tensorflow\n",
    "import seaborn as sns\n",
    "import numpy as np\n",
    "import pandas as pd\n",
    "import math\n",
    "import tensorflow as tf\n",
    "import csv\n",
    "import matplotlib.pyplot as plt"
   ]
  },
  {
   "cell_type": "code",
   "execution_count": 2,
   "metadata": {},
   "outputs": [
    {
     "name": "stdout",
     "output_type": "stream",
     "text": [
      "b'Hello, TensorFlow!'\n"
     ]
    }
   ],
   "source": [
    "hello = tf.constant('Hello, TensorFlow!')\n",
    "sess = tf.Session()\n",
    "print(sess.run(hello))"
   ]
  },
  {
   "cell_type": "markdown",
   "metadata": {},
   "source": [
    "# Import Training set and Test set of Titanic Survival"
   ]
  },
  {
   "cell_type": "code",
   "execution_count": 3,
   "metadata": {
    "scrolled": true
   },
   "outputs": [
    {
     "name": "stdout",
     "output_type": "stream",
     "text": [
      "shape of train set : (891, 12)\n",
      "shape of test set: (418, 11)\n",
      "Die rate : 38.38 %\n",
      " ---- Null data in train set : ----\n",
      " PassengerId      0\n",
      "Survived         0\n",
      "Pclass           0\n",
      "Name             0\n",
      "Sex              0\n",
      "Age            177\n",
      "SibSp            0\n",
      "Parch            0\n",
      "Ticket           0\n",
      "Fare             0\n",
      "Cabin          687\n",
      "Embarked         2\n",
      "dtype: int64\n",
      " ---- Null data in test set : ----\n",
      " PassengerId      0\n",
      "Pclass           0\n",
      "Name             0\n",
      "Sex              0\n",
      "Age             86\n",
      "SibSp            0\n",
      "Parch            0\n",
      "Ticket           0\n",
      "Fare             1\n",
      "Cabin          327\n",
      "Embarked         0\n",
      "dtype: int64\n",
      "    PassengerId  Survived  Pclass  \\\n",
      "0             1         0       3   \n",
      "1             2         1       1   \n",
      "2             3         1       3   \n",
      "3             4         1       1   \n",
      "4             5         0       3   \n",
      "5             6         0       3   \n",
      "6             7         0       1   \n",
      "7             8         0       3   \n",
      "8             9         1       3   \n",
      "9            10         1       2   \n",
      "10           11         1       3   \n",
      "11           12         1       1   \n",
      "12           13         0       3   \n",
      "13           14         0       3   \n",
      "14           15         0       3   \n",
      "15           16         1       2   \n",
      "16           17         0       3   \n",
      "17           18         1       2   \n",
      "18           19         0       3   \n",
      "19           20         1       3   \n",
      "\n",
      "                                                 Name     Sex   Age  SibSp  \\\n",
      "0                             Braund, Mr. Owen Harris    male  22.0      1   \n",
      "1   Cumings, Mrs. John Bradley (Florence Briggs Th...  female  38.0      1   \n",
      "2                              Heikkinen, Miss. Laina  female  26.0      0   \n",
      "3        Futrelle, Mrs. Jacques Heath (Lily May Peel)  female  35.0      1   \n",
      "4                            Allen, Mr. William Henry    male  35.0      0   \n",
      "5                                    Moran, Mr. James    male   NaN      0   \n",
      "6                             McCarthy, Mr. Timothy J    male  54.0      0   \n",
      "7                      Palsson, Master. Gosta Leonard    male   2.0      3   \n",
      "8   Johnson, Mrs. Oscar W (Elisabeth Vilhelmina Berg)  female  27.0      0   \n",
      "9                 Nasser, Mrs. Nicholas (Adele Achem)  female  14.0      1   \n",
      "10                    Sandstrom, Miss. Marguerite Rut  female   4.0      1   \n",
      "11                           Bonnell, Miss. Elizabeth  female  58.0      0   \n",
      "12                     Saundercock, Mr. William Henry    male  20.0      0   \n",
      "13                        Andersson, Mr. Anders Johan    male  39.0      1   \n",
      "14               Vestrom, Miss. Hulda Amanda Adolfina  female  14.0      0   \n",
      "15                   Hewlett, Mrs. (Mary D Kingcome)   female  55.0      0   \n",
      "16                               Rice, Master. Eugene    male   2.0      4   \n",
      "17                       Williams, Mr. Charles Eugene    male   NaN      0   \n",
      "18  Vander Planke, Mrs. Julius (Emelia Maria Vande...  female  31.0      1   \n",
      "19                            Masselmani, Mrs. Fatima  female   NaN      0   \n",
      "\n",
      "    Parch            Ticket     Fare Cabin Embarked  \n",
      "0       0         A/5 21171   7.2500   NaN        S  \n",
      "1       0          PC 17599  71.2833   C85        C  \n",
      "2       0  STON/O2. 3101282   7.9250   NaN        S  \n",
      "3       0            113803  53.1000  C123        S  \n",
      "4       0            373450   8.0500   NaN        S  \n",
      "5       0            330877   8.4583   NaN        Q  \n",
      "6       0             17463  51.8625   E46        S  \n",
      "7       1            349909  21.0750   NaN        S  \n",
      "8       2            347742  11.1333   NaN        S  \n",
      "9       0            237736  30.0708   NaN        C  \n",
      "10      1           PP 9549  16.7000    G6        S  \n",
      "11      0            113783  26.5500  C103        S  \n",
      "12      0         A/5. 2151   8.0500   NaN        S  \n",
      "13      5            347082  31.2750   NaN        S  \n",
      "14      0            350406   7.8542   NaN        S  \n",
      "15      0            248706  16.0000   NaN        S  \n",
      "16      1            382652  29.1250   NaN        Q  \n",
      "17      0            244373  13.0000   NaN        S  \n",
      "18      0            345763  18.0000   NaN        S  \n",
      "19      0              2649   7.2250   NaN        C  \n"
     ]
    }
   ],
   "source": [
    "whole_train_set = pd.read_csv('train.csv')\n",
    "whole_test_set = pd.read_csv('test.csv')\n",
    "\n",
    "print('shape of train set :',whole_train_set.shape)\n",
    "print('shape of test set:', whole_test_set.shape)\n",
    "\n",
    "print('Die rate :', round(np.mean(whole_train_set['Survived'])*100,2), '%')\n",
    "\n",
    "print(' ---- Null data in train set : ----\\n', whole_train_set.isnull().sum())\n",
    "print(' ---- Null data in test set : ----\\n', whole_test_set.isnull().sum())\n",
    "\n",
    "print(whole_train_set.loc[range(20)])"
   ]
  },
  {
   "cell_type": "markdown",
   "metadata": {},
   "source": [
    "# Cleanse Data"
   ]
  },
  {
   "cell_type": "code",
   "execution_count": 4,
   "metadata": {},
   "outputs": [
    {
     "name": "stdout",
     "output_type": "stream",
     "text": [
      "     Survived  Pclass     Sex   Age  SibSp  Parch            Ticket      Fare  \\\n",
      "0           0       3    male  22.0      1      0         A/5 21171    7.2500   \n",
      "1           1       1  female  38.0      1      0          PC 17599   71.2833   \n",
      "2           1       3  female  26.0      0      0  STON/O2. 3101282    7.9250   \n",
      "3           1       1  female  35.0      1      0            113803   53.1000   \n",
      "4           0       3    male  35.0      0      0            373450    8.0500   \n",
      "5           0       3    male   NaN      0      0            330877    8.4583   \n",
      "6           0       1    male  54.0      0      0             17463   51.8625   \n",
      "7           0       3    male   2.0      3      1            349909   21.0750   \n",
      "8           1       3  female  27.0      0      2            347742   11.1333   \n",
      "9           1       2  female  14.0      1      0            237736   30.0708   \n",
      "10          1       3  female   4.0      1      1           PP 9549   16.7000   \n",
      "11          1       1  female  58.0      0      0            113783   26.5500   \n",
      "12          0       3    male  20.0      0      0         A/5. 2151    8.0500   \n",
      "13          0       3    male  39.0      1      5            347082   31.2750   \n",
      "14          0       3  female  14.0      0      0            350406    7.8542   \n",
      "15          1       2  female  55.0      0      0            248706   16.0000   \n",
      "16          0       3    male   2.0      4      1            382652   29.1250   \n",
      "17          1       2    male   NaN      0      0            244373   13.0000   \n",
      "18          0       3  female  31.0      1      0            345763   18.0000   \n",
      "19          1       3  female   NaN      0      0              2649    7.2250   \n",
      "20          0       2    male  35.0      0      0            239865   26.0000   \n",
      "21          1       2    male  34.0      0      0            248698   13.0000   \n",
      "22          1       3  female  15.0      0      0            330923    8.0292   \n",
      "23          1       1    male  28.0      0      0            113788   35.5000   \n",
      "24          0       3  female   8.0      3      1            349909   21.0750   \n",
      "25          1       3  female  38.0      1      5            347077   31.3875   \n",
      "26          0       3    male   NaN      0      0              2631    7.2250   \n",
      "27          0       1    male  19.0      3      2             19950  263.0000   \n",
      "28          1       3  female   NaN      0      0            330959    7.8792   \n",
      "29          0       3    male   NaN      0      0            349216    7.8958   \n",
      "..        ...     ...     ...   ...    ...    ...               ...       ...   \n",
      "861         0       2    male  21.0      1      0             28134   11.5000   \n",
      "862         1       1  female  48.0      0      0             17466   25.9292   \n",
      "863         0       3  female   NaN      8      2          CA. 2343   69.5500   \n",
      "864         0       2    male  24.0      0      0            233866   13.0000   \n",
      "865         1       2  female  42.0      0      0            236852   13.0000   \n",
      "866         1       2  female  27.0      1      0     SC/PARIS 2149   13.8583   \n",
      "867         0       1    male  31.0      0      0          PC 17590   50.4958   \n",
      "868         0       3    male   NaN      0      0            345777    9.5000   \n",
      "869         1       3    male   4.0      1      1            347742   11.1333   \n",
      "870         0       3    male  26.0      0      0            349248    7.8958   \n",
      "871         1       1  female  47.0      1      1             11751   52.5542   \n",
      "872         0       1    male  33.0      0      0               695    5.0000   \n",
      "873         0       3    male  47.0      0      0            345765    9.0000   \n",
      "874         1       2  female  28.0      1      0         P/PP 3381   24.0000   \n",
      "875         1       3  female  15.0      0      0              2667    7.2250   \n",
      "876         0       3    male  20.0      0      0              7534    9.8458   \n",
      "877         0       3    male  19.0      0      0            349212    7.8958   \n",
      "878         0       3    male   NaN      0      0            349217    7.8958   \n",
      "879         1       1  female  56.0      0      1             11767   83.1583   \n",
      "880         1       2  female  25.0      0      1            230433   26.0000   \n",
      "881         0       3    male  33.0      0      0            349257    7.8958   \n",
      "882         0       3  female  22.0      0      0              7552   10.5167   \n",
      "883         0       2    male  28.0      0      0  C.A./SOTON 34068   10.5000   \n",
      "884         0       3    male  25.0      0      0   SOTON/OQ 392076    7.0500   \n",
      "885         0       3  female  39.0      0      5            382652   29.1250   \n",
      "886         0       2    male  27.0      0      0            211536   13.0000   \n",
      "887         1       1  female  19.0      0      0            112053   30.0000   \n",
      "888         0       3  female   NaN      1      2        W./C. 6607   23.4500   \n",
      "889         1       1    male  26.0      0      0            111369   30.0000   \n",
      "890         0       3    male  32.0      0      0            370376    7.7500   \n",
      "\n",
      "           Cabin Embarked  \n",
      "0            NaN        S  \n",
      "1            C85        C  \n",
      "2            NaN        S  \n",
      "3           C123        S  \n",
      "4            NaN        S  \n",
      "5            NaN        Q  \n",
      "6            E46        S  \n",
      "7            NaN        S  \n",
      "8            NaN        S  \n",
      "9            NaN        C  \n",
      "10            G6        S  \n",
      "11          C103        S  \n",
      "12           NaN        S  \n",
      "13           NaN        S  \n",
      "14           NaN        S  \n",
      "15           NaN        S  \n",
      "16           NaN        Q  \n",
      "17           NaN        S  \n",
      "18           NaN        S  \n",
      "19           NaN        C  \n",
      "20           NaN        S  \n",
      "21           D56        S  \n",
      "22           NaN        Q  \n",
      "23            A6        S  \n",
      "24           NaN        S  \n",
      "25           NaN        S  \n",
      "26           NaN        C  \n",
      "27   C23 C25 C27        S  \n",
      "28           NaN        Q  \n",
      "29           NaN        S  \n",
      "..           ...      ...  \n",
      "861          NaN        S  \n",
      "862          D17        S  \n",
      "863          NaN        S  \n",
      "864          NaN        S  \n",
      "865          NaN        S  \n",
      "866          NaN        C  \n",
      "867          A24        S  \n",
      "868          NaN        S  \n",
      "869          NaN        S  \n",
      "870          NaN        S  \n",
      "871          D35        S  \n",
      "872  B51 B53 B55        S  \n",
      "873          NaN        S  \n",
      "874          NaN        C  \n",
      "875          NaN        C  \n",
      "876          NaN        S  \n",
      "877          NaN        S  \n",
      "878          NaN        S  \n",
      "879          C50        C  \n",
      "880          NaN        S  \n",
      "881          NaN        S  \n",
      "882          NaN        S  \n",
      "883          NaN        S  \n",
      "884          NaN        S  \n",
      "885          NaN        Q  \n",
      "886          NaN        S  \n",
      "887          B42        S  \n",
      "888          NaN        S  \n",
      "889         C148        C  \n",
      "890          NaN        Q  \n",
      "\n",
      "[891 rows x 10 columns]\n"
     ]
    }
   ],
   "source": [
    "# drop name and ID (These features are unique for every person)\n",
    "drop_col = ['Name', 'PassengerId']\n",
    "train_set = whole_train_set.drop(drop_col, axis = 1)\n",
    "test_set = whole_test_set.drop(drop_col, axis = 1)\n",
    "print(train_set)"
   ]
  },
  {
   "cell_type": "markdown",
   "metadata": {},
   "source": [
    "Age features is null about 25%, so this feature should be drop or replace with some values.\n"
   ]
  },
  {
   "cell_type": "code",
   "execution_count": 5,
   "metadata": {},
   "outputs": [
    {
     "name": "stdout",
     "output_type": "stream",
     "text": [
      "-0.0772210945722\n"
     ]
    }
   ],
   "source": [
    "%matplotlib inline\n",
    "# 1 plot age drop null\n",
    "age_plot = train_set.loc[np.logical_not(train_set['Age'].isnull()), ['Age']]\n",
    "#sns.distplot(age_plot, bins = 50, axlabel = 'Age drop null', color=\"r\")\n",
    "\n",
    "# 2 correlation of age vs survival\n",
    "age_sur = train_set.loc[np.logical_not(train_set['Age'].isnull()) ,'Age'].corr(train_set.loc[np.logical_not(train_set['Age'].isnull()) ,'Survived'])\n",
    "print(age_sur)\n",
    "\n",
    "# 3 drop age\n",
    "train_set = train_set.drop(['Age'], axis = 1)\n",
    "test_set = test_set.drop(['Age'], axis = 1)"
   ]
  },
  {
   "cell_type": "code",
   "execution_count": 6,
   "metadata": {
    "collapsed": true,
    "scrolled": true
   },
   "outputs": [],
   "source": [
    "# Find distinct values for categorical features\n",
    "choose_elements = ['Embarked', 'Ticket', 'Cabin', 'Parch']\n",
    "train_set_copy = train_set.copy()\n",
    "train_set_copy = train_set_copy[choose_elements]"
   ]
  },
  {
   "cell_type": "code",
   "execution_count": 7,
   "metadata": {},
   "outputs": [
    {
     "name": "stdout",
     "output_type": "stream",
     "text": [
      "Unique Value for featured Cabin : ['N' 'C' 'E' 'G' 'D' 'A' 'B' 'F' 'T']\n",
      "     Survived  Pclass     Sex  SibSp  Parch            Ticket      Fare  \\\n",
      "0           0       3    male      1      0         A/5 21171    7.2500   \n",
      "1           1       1  female      1      0          PC 17599   71.2833   \n",
      "2           1       3  female      0      0  STON/O2. 3101282    7.9250   \n",
      "3           1       1  female      1      0            113803   53.1000   \n",
      "4           0       3    male      0      0            373450    8.0500   \n",
      "5           0       3    male      0      0            330877    8.4583   \n",
      "6           0       1    male      0      0             17463   51.8625   \n",
      "7           0       3    male      3      1            349909   21.0750   \n",
      "8           1       3  female      0      2            347742   11.1333   \n",
      "9           1       2  female      1      0            237736   30.0708   \n",
      "10          1       3  female      1      1           PP 9549   16.7000   \n",
      "11          1       1  female      0      0            113783   26.5500   \n",
      "12          0       3    male      0      0         A/5. 2151    8.0500   \n",
      "13          0       3    male      1      5            347082   31.2750   \n",
      "14          0       3  female      0      0            350406    7.8542   \n",
      "15          1       2  female      0      0            248706   16.0000   \n",
      "16          0       3    male      4      1            382652   29.1250   \n",
      "17          1       2    male      0      0            244373   13.0000   \n",
      "18          0       3  female      1      0            345763   18.0000   \n",
      "19          1       3  female      0      0              2649    7.2250   \n",
      "20          0       2    male      0      0            239865   26.0000   \n",
      "21          1       2    male      0      0            248698   13.0000   \n",
      "22          1       3  female      0      0            330923    8.0292   \n",
      "23          1       1    male      0      0            113788   35.5000   \n",
      "24          0       3  female      3      1            349909   21.0750   \n",
      "25          1       3  female      1      5            347077   31.3875   \n",
      "26          0       3    male      0      0              2631    7.2250   \n",
      "27          0       1    male      3      2             19950  263.0000   \n",
      "28          1       3  female      0      0            330959    7.8792   \n",
      "29          0       3    male      0      0            349216    7.8958   \n",
      "..        ...     ...     ...    ...    ...               ...       ...   \n",
      "861         0       2    male      1      0             28134   11.5000   \n",
      "862         1       1  female      0      0             17466   25.9292   \n",
      "863         0       3  female      8      2          CA. 2343   69.5500   \n",
      "864         0       2    male      0      0            233866   13.0000   \n",
      "865         1       2  female      0      0            236852   13.0000   \n",
      "866         1       2  female      1      0     SC/PARIS 2149   13.8583   \n",
      "867         0       1    male      0      0          PC 17590   50.4958   \n",
      "868         0       3    male      0      0            345777    9.5000   \n",
      "869         1       3    male      1      1            347742   11.1333   \n",
      "870         0       3    male      0      0            349248    7.8958   \n",
      "871         1       1  female      1      1             11751   52.5542   \n",
      "872         0       1    male      0      0               695    5.0000   \n",
      "873         0       3    male      0      0            345765    9.0000   \n",
      "874         1       2  female      1      0         P/PP 3381   24.0000   \n",
      "875         1       3  female      0      0              2667    7.2250   \n",
      "876         0       3    male      0      0              7534    9.8458   \n",
      "877         0       3    male      0      0            349212    7.8958   \n",
      "878         0       3    male      0      0            349217    7.8958   \n",
      "879         1       1  female      0      1             11767   83.1583   \n",
      "880         1       2  female      0      1            230433   26.0000   \n",
      "881         0       3    male      0      0            349257    7.8958   \n",
      "882         0       3  female      0      0              7552   10.5167   \n",
      "883         0       2    male      0      0  C.A./SOTON 34068   10.5000   \n",
      "884         0       3    male      0      0   SOTON/OQ 392076    7.0500   \n",
      "885         0       3  female      0      5            382652   29.1250   \n",
      "886         0       2    male      0      0            211536   13.0000   \n",
      "887         1       1  female      0      0            112053   30.0000   \n",
      "888         0       3  female      1      2        W./C. 6607   23.4500   \n",
      "889         1       1    male      0      0            111369   30.0000   \n",
      "890         0       3    male      0      0            370376    7.7500   \n",
      "\n",
      "    Embarked  Cabin_Numeric  \n",
      "0          S              0  \n",
      "1          C              1  \n",
      "2          S              0  \n",
      "3          S              1  \n",
      "4          S              0  \n",
      "5          Q              0  \n",
      "6          S              2  \n",
      "7          S              0  \n",
      "8          S              0  \n",
      "9          C              0  \n",
      "10         S              3  \n",
      "11         S              1  \n",
      "12         S              0  \n",
      "13         S              0  \n",
      "14         S              0  \n",
      "15         S              0  \n",
      "16         Q              0  \n",
      "17         S              0  \n",
      "18         S              0  \n",
      "19         C              0  \n",
      "20         S              0  \n",
      "21         S              4  \n",
      "22         Q              0  \n",
      "23         S              5  \n",
      "24         S              0  \n",
      "25         S              0  \n",
      "26         C              0  \n",
      "27         S              1  \n",
      "28         Q              0  \n",
      "29         S              0  \n",
      "..       ...            ...  \n",
      "861        S              0  \n",
      "862        S              4  \n",
      "863        S              0  \n",
      "864        S              0  \n",
      "865        S              0  \n",
      "866        C              0  \n",
      "867        S              5  \n",
      "868        S              0  \n",
      "869        S              0  \n",
      "870        S              0  \n",
      "871        S              4  \n",
      "872        S              6  \n",
      "873        S              0  \n",
      "874        C              0  \n",
      "875        C              0  \n",
      "876        S              0  \n",
      "877        S              0  \n",
      "878        S              0  \n",
      "879        C              1  \n",
      "880        S              0  \n",
      "881        S              0  \n",
      "882        S              0  \n",
      "883        S              0  \n",
      "884        S              0  \n",
      "885        Q              0  \n",
      "886        S              0  \n",
      "887        S              6  \n",
      "888        S              0  \n",
      "889        C              1  \n",
      "890        Q              0  \n",
      "\n",
      "[891 rows x 9 columns]\n"
     ]
    }
   ],
   "source": [
    "## Deal with Cabin features -> change string feature to numeric feature\n",
    "# step 1 change null in column to N (no cabin)\n",
    "train_set.loc[train_set['Cabin'].isnull(), 'Cabin'] = 'N'\n",
    "\n",
    "# step 2 change cabin type to abbreviate type (neglect number of cabin)\n",
    "train_set.loc[:, 'Cabin'] = train_set.loc[:, 'Cabin'].map(lambda x: str(x)[0])\n",
    "\n",
    "# step 3 identify unique value for cabin features\n",
    "print('Unique Value for featured Cabin :',train_set['Cabin'].unique())\n",
    "\n",
    "# step 4 replace categorical with features\n",
    "dic_cabin = {'N':0, 'C':1, 'E':2, 'G':3, 'D':4, 'A':5, 'B':6, 'F':7, 'T':8}\n",
    "train_set['Cabin_Numeric'] = train_set['Cabin'].map(dic_cabin)\n",
    "\n",
    "# step 5 drop cabin\n",
    "train_set = train_set.drop(['Cabin'], axis = 1)\n",
    "\n",
    "print(train_set)"
   ]
  },
  {
   "cell_type": "code",
   "execution_count": 8,
   "metadata": {},
   "outputs": [
    {
     "name": "stdout",
     "output_type": "stream",
     "text": [
      "     Survived  Pclass     Sex  SibSp  Parch            Ticket      Fare  \\\n",
      "0           0       3    male      1      0         A/5 21171    7.2500   \n",
      "1           1       1  female      1      0          PC 17599   71.2833   \n",
      "2           1       3  female      0      0  STON/O2. 3101282    7.9250   \n",
      "3           1       1  female      1      0            113803   53.1000   \n",
      "4           0       3    male      0      0            373450    8.0500   \n",
      "5           0       3    male      0      0            330877    8.4583   \n",
      "6           0       1    male      0      0             17463   51.8625   \n",
      "7           0       3    male      3      1            349909   21.0750   \n",
      "8           1       3  female      0      2            347742   11.1333   \n",
      "9           1       2  female      1      0            237736   30.0708   \n",
      "10          1       3  female      1      1           PP 9549   16.7000   \n",
      "11          1       1  female      0      0            113783   26.5500   \n",
      "12          0       3    male      0      0         A/5. 2151    8.0500   \n",
      "13          0       3    male      1      5            347082   31.2750   \n",
      "14          0       3  female      0      0            350406    7.8542   \n",
      "15          1       2  female      0      0            248706   16.0000   \n",
      "16          0       3    male      4      1            382652   29.1250   \n",
      "17          1       2    male      0      0            244373   13.0000   \n",
      "18          0       3  female      1      0            345763   18.0000   \n",
      "19          1       3  female      0      0              2649    7.2250   \n",
      "20          0       2    male      0      0            239865   26.0000   \n",
      "21          1       2    male      0      0            248698   13.0000   \n",
      "22          1       3  female      0      0            330923    8.0292   \n",
      "23          1       1    male      0      0            113788   35.5000   \n",
      "24          0       3  female      3      1            349909   21.0750   \n",
      "25          1       3  female      1      5            347077   31.3875   \n",
      "26          0       3    male      0      0              2631    7.2250   \n",
      "27          0       1    male      3      2             19950  263.0000   \n",
      "28          1       3  female      0      0            330959    7.8792   \n",
      "29          0       3    male      0      0            349216    7.8958   \n",
      "..        ...     ...     ...    ...    ...               ...       ...   \n",
      "861         0       2    male      1      0             28134   11.5000   \n",
      "862         1       1  female      0      0             17466   25.9292   \n",
      "863         0       3  female      8      2          CA. 2343   69.5500   \n",
      "864         0       2    male      0      0            233866   13.0000   \n",
      "865         1       2  female      0      0            236852   13.0000   \n",
      "866         1       2  female      1      0     SC/PARIS 2149   13.8583   \n",
      "867         0       1    male      0      0          PC 17590   50.4958   \n",
      "868         0       3    male      0      0            345777    9.5000   \n",
      "869         1       3    male      1      1            347742   11.1333   \n",
      "870         0       3    male      0      0            349248    7.8958   \n",
      "871         1       1  female      1      1             11751   52.5542   \n",
      "872         0       1    male      0      0               695    5.0000   \n",
      "873         0       3    male      0      0            345765    9.0000   \n",
      "874         1       2  female      1      0         P/PP 3381   24.0000   \n",
      "875         1       3  female      0      0              2667    7.2250   \n",
      "876         0       3    male      0      0              7534    9.8458   \n",
      "877         0       3    male      0      0            349212    7.8958   \n",
      "878         0       3    male      0      0            349217    7.8958   \n",
      "879         1       1  female      0      1             11767   83.1583   \n",
      "880         1       2  female      0      1            230433   26.0000   \n",
      "881         0       3    male      0      0            349257    7.8958   \n",
      "882         0       3  female      0      0              7552   10.5167   \n",
      "883         0       2    male      0      0  C.A./SOTON 34068   10.5000   \n",
      "884         0       3    male      0      0   SOTON/OQ 392076    7.0500   \n",
      "885         0       3  female      0      5            382652   29.1250   \n",
      "886         0       2    male      0      0            211536   13.0000   \n",
      "887         1       1  female      0      0            112053   30.0000   \n",
      "888         0       3  female      1      2        W./C. 6607   23.4500   \n",
      "889         1       1    male      0      0            111369   30.0000   \n",
      "890         0       3    male      0      0            370376    7.7500   \n",
      "\n",
      "     Cabin_Numeric  Embarked_Numeric  \n",
      "0                0                 0  \n",
      "1                1                 1  \n",
      "2                0                 0  \n",
      "3                1                 0  \n",
      "4                0                 0  \n",
      "5                0                 2  \n",
      "6                2                 0  \n",
      "7                0                 0  \n",
      "8                0                 0  \n",
      "9                0                 1  \n",
      "10               3                 0  \n",
      "11               1                 0  \n",
      "12               0                 0  \n",
      "13               0                 0  \n",
      "14               0                 0  \n",
      "15               0                 0  \n",
      "16               0                 2  \n",
      "17               0                 0  \n",
      "18               0                 0  \n",
      "19               0                 1  \n",
      "20               0                 0  \n",
      "21               4                 0  \n",
      "22               0                 2  \n",
      "23               5                 0  \n",
      "24               0                 0  \n",
      "25               0                 0  \n",
      "26               0                 1  \n",
      "27               1                 0  \n",
      "28               0                 2  \n",
      "29               0                 0  \n",
      "..             ...               ...  \n",
      "861              0                 0  \n",
      "862              4                 0  \n",
      "863              0                 0  \n",
      "864              0                 0  \n",
      "865              0                 0  \n",
      "866              0                 1  \n",
      "867              5                 0  \n",
      "868              0                 0  \n",
      "869              0                 0  \n",
      "870              0                 0  \n",
      "871              4                 0  \n",
      "872              6                 0  \n",
      "873              0                 0  \n",
      "874              0                 1  \n",
      "875              0                 1  \n",
      "876              0                 0  \n",
      "877              0                 0  \n",
      "878              0                 0  \n",
      "879              1                 1  \n",
      "880              0                 0  \n",
      "881              0                 0  \n",
      "882              0                 0  \n",
      "883              0                 0  \n",
      "884              0                 0  \n",
      "885              0                 2  \n",
      "886              0                 0  \n",
      "887              6                 0  \n",
      "888              0                 0  \n",
      "889              1                 1  \n",
      "890              0                 2  \n",
      "\n",
      "[891 rows x 9 columns]\n"
     ]
    }
   ],
   "source": [
    "## Deal with embarked features -> change embark feature to numerical\n",
    "# step 1 convert null value to unknown\n",
    "train_set.loc[train_set['Embarked'].isnull(),'Embarked'] = 'unknown'\n",
    "test_set.loc[test_set['Embarked'].isnull(),'Embarked'] = 'unknown'\n",
    "\n",
    "# step 2 convert string to numeric value\n",
    "dic_embarked = {'S':0, 'C':1, 'Q':2, 'unknown':3}\n",
    "train_set['Embarked_Numeric'] = train_set['Embarked'].map(dic_embarked)\n",
    "test_set['Embarked_Numeric'] = test_set['Embarked'].map(dic_embarked)\n",
    "\n",
    "# step 3 drop embarked feature\n",
    "train_set = train_set.drop(['Embarked'], axis = 1)\n",
    "test_set = test_set.drop(['Embarked'], axis = 1)\n",
    "\n",
    "print(train_set)\n"
   ]
  },
  {
   "cell_type": "code",
   "execution_count": 9,
   "metadata": {},
   "outputs": [
    {
     "name": "stdout",
     "output_type": "stream",
     "text": [
      "     Survived  Pclass  SibSp  Parch            Ticket      Fare  \\\n",
      "0           0       3      1      0         A/5 21171    7.2500   \n",
      "1           1       1      1      0          PC 17599   71.2833   \n",
      "2           1       3      0      0  STON/O2. 3101282    7.9250   \n",
      "3           1       1      1      0            113803   53.1000   \n",
      "4           0       3      0      0            373450    8.0500   \n",
      "5           0       3      0      0            330877    8.4583   \n",
      "6           0       1      0      0             17463   51.8625   \n",
      "7           0       3      3      1            349909   21.0750   \n",
      "8           1       3      0      2            347742   11.1333   \n",
      "9           1       2      1      0            237736   30.0708   \n",
      "10          1       3      1      1           PP 9549   16.7000   \n",
      "11          1       1      0      0            113783   26.5500   \n",
      "12          0       3      0      0         A/5. 2151    8.0500   \n",
      "13          0       3      1      5            347082   31.2750   \n",
      "14          0       3      0      0            350406    7.8542   \n",
      "15          1       2      0      0            248706   16.0000   \n",
      "16          0       3      4      1            382652   29.1250   \n",
      "17          1       2      0      0            244373   13.0000   \n",
      "18          0       3      1      0            345763   18.0000   \n",
      "19          1       3      0      0              2649    7.2250   \n",
      "20          0       2      0      0            239865   26.0000   \n",
      "21          1       2      0      0            248698   13.0000   \n",
      "22          1       3      0      0            330923    8.0292   \n",
      "23          1       1      0      0            113788   35.5000   \n",
      "24          0       3      3      1            349909   21.0750   \n",
      "25          1       3      1      5            347077   31.3875   \n",
      "26          0       3      0      0              2631    7.2250   \n",
      "27          0       1      3      2             19950  263.0000   \n",
      "28          1       3      0      0            330959    7.8792   \n",
      "29          0       3      0      0            349216    7.8958   \n",
      "..        ...     ...    ...    ...               ...       ...   \n",
      "861         0       2      1      0             28134   11.5000   \n",
      "862         1       1      0      0             17466   25.9292   \n",
      "863         0       3      8      2          CA. 2343   69.5500   \n",
      "864         0       2      0      0            233866   13.0000   \n",
      "865         1       2      0      0            236852   13.0000   \n",
      "866         1       2      1      0     SC/PARIS 2149   13.8583   \n",
      "867         0       1      0      0          PC 17590   50.4958   \n",
      "868         0       3      0      0            345777    9.5000   \n",
      "869         1       3      1      1            347742   11.1333   \n",
      "870         0       3      0      0            349248    7.8958   \n",
      "871         1       1      1      1             11751   52.5542   \n",
      "872         0       1      0      0               695    5.0000   \n",
      "873         0       3      0      0            345765    9.0000   \n",
      "874         1       2      1      0         P/PP 3381   24.0000   \n",
      "875         1       3      0      0              2667    7.2250   \n",
      "876         0       3      0      0              7534    9.8458   \n",
      "877         0       3      0      0            349212    7.8958   \n",
      "878         0       3      0      0            349217    7.8958   \n",
      "879         1       1      0      1             11767   83.1583   \n",
      "880         1       2      0      1            230433   26.0000   \n",
      "881         0       3      0      0            349257    7.8958   \n",
      "882         0       3      0      0              7552   10.5167   \n",
      "883         0       2      0      0  C.A./SOTON 34068   10.5000   \n",
      "884         0       3      0      0   SOTON/OQ 392076    7.0500   \n",
      "885         0       3      0      5            382652   29.1250   \n",
      "886         0       2      0      0            211536   13.0000   \n",
      "887         1       1      0      0            112053   30.0000   \n",
      "888         0       3      1      2        W./C. 6607   23.4500   \n",
      "889         1       1      0      0            111369   30.0000   \n",
      "890         0       3      0      0            370376    7.7500   \n",
      "\n",
      "     Cabin_Numeric  Embarked_Numeric  Sex_Numeric  \n",
      "0                0                 0            0  \n",
      "1                1                 1            1  \n",
      "2                0                 0            1  \n",
      "3                1                 0            1  \n",
      "4                0                 0            0  \n",
      "5                0                 2            0  \n",
      "6                2                 0            0  \n",
      "7                0                 0            0  \n",
      "8                0                 0            1  \n",
      "9                0                 1            1  \n",
      "10               3                 0            1  \n",
      "11               1                 0            1  \n",
      "12               0                 0            0  \n",
      "13               0                 0            0  \n",
      "14               0                 0            1  \n",
      "15               0                 0            1  \n",
      "16               0                 2            0  \n",
      "17               0                 0            0  \n",
      "18               0                 0            1  \n",
      "19               0                 1            1  \n",
      "20               0                 0            0  \n",
      "21               4                 0            0  \n",
      "22               0                 2            1  \n",
      "23               5                 0            0  \n",
      "24               0                 0            1  \n",
      "25               0                 0            1  \n",
      "26               0                 1            0  \n",
      "27               1                 0            0  \n",
      "28               0                 2            1  \n",
      "29               0                 0            0  \n",
      "..             ...               ...          ...  \n",
      "861              0                 0            0  \n",
      "862              4                 0            1  \n",
      "863              0                 0            1  \n",
      "864              0                 0            0  \n",
      "865              0                 0            1  \n",
      "866              0                 1            1  \n",
      "867              5                 0            0  \n",
      "868              0                 0            0  \n",
      "869              0                 0            0  \n",
      "870              0                 0            0  \n",
      "871              4                 0            1  \n",
      "872              6                 0            0  \n",
      "873              0                 0            0  \n",
      "874              0                 1            1  \n",
      "875              0                 1            1  \n",
      "876              0                 0            0  \n",
      "877              0                 0            0  \n",
      "878              0                 0            0  \n",
      "879              1                 1            1  \n",
      "880              0                 0            1  \n",
      "881              0                 0            0  \n",
      "882              0                 0            1  \n",
      "883              0                 0            0  \n",
      "884              0                 0            0  \n",
      "885              0                 2            1  \n",
      "886              0                 0            0  \n",
      "887              6                 0            1  \n",
      "888              0                 0            1  \n",
      "889              1                 1            0  \n",
      "890              0                 2            0  \n",
      "\n",
      "[891 rows x 9 columns]\n"
     ]
    }
   ],
   "source": [
    "## Deal with sex features\n",
    "# convert string to numeric value\n",
    "dic_sex = {'male':0, 'female':1}\n",
    "train_set['Sex_Numeric'] = train_set['Sex'].map(dic_sex)\n",
    "test_set['Sex_Numeric'] = train_set['Sex'].map(dic_sex)\n",
    "\n",
    "# drop sex features\n",
    "train_set = train_set.drop(['Sex'], axis = 1)\n",
    "test_set = test_set.drop(['Sex'], axis = 1)\n",
    "print(train_set)"
   ]
  },
  {
   "cell_type": "code",
   "execution_count": 10,
   "metadata": {},
   "outputs": [
    {
     "name": "stdout",
     "output_type": "stream",
     "text": [
      "     Survived  Pclass  SibSp  Parch      Fare  Cabin_Numeric  \\\n",
      "0           0       3      1      0    7.2500              0   \n",
      "1           1       1      1      0   71.2833              1   \n",
      "2           1       3      0      0    7.9250              0   \n",
      "3           1       1      1      0   53.1000              1   \n",
      "4           0       3      0      0    8.0500              0   \n",
      "5           0       3      0      0    8.4583              0   \n",
      "6           0       1      0      0   51.8625              2   \n",
      "7           0       3      3      1   21.0750              0   \n",
      "8           1       3      0      2   11.1333              0   \n",
      "9           1       2      1      0   30.0708              0   \n",
      "10          1       3      1      1   16.7000              3   \n",
      "11          1       1      0      0   26.5500              1   \n",
      "12          0       3      0      0    8.0500              0   \n",
      "13          0       3      1      5   31.2750              0   \n",
      "14          0       3      0      0    7.8542              0   \n",
      "15          1       2      0      0   16.0000              0   \n",
      "16          0       3      4      1   29.1250              0   \n",
      "17          1       2      0      0   13.0000              0   \n",
      "18          0       3      1      0   18.0000              0   \n",
      "19          1       3      0      0    7.2250              0   \n",
      "20          0       2      0      0   26.0000              0   \n",
      "21          1       2      0      0   13.0000              4   \n",
      "22          1       3      0      0    8.0292              0   \n",
      "23          1       1      0      0   35.5000              5   \n",
      "24          0       3      3      1   21.0750              0   \n",
      "25          1       3      1      5   31.3875              0   \n",
      "26          0       3      0      0    7.2250              0   \n",
      "27          0       1      3      2  263.0000              1   \n",
      "28          1       3      0      0    7.8792              0   \n",
      "29          0       3      0      0    7.8958              0   \n",
      "..        ...     ...    ...    ...       ...            ...   \n",
      "861         0       2      1      0   11.5000              0   \n",
      "862         1       1      0      0   25.9292              4   \n",
      "863         0       3      8      2   69.5500              0   \n",
      "864         0       2      0      0   13.0000              0   \n",
      "865         1       2      0      0   13.0000              0   \n",
      "866         1       2      1      0   13.8583              0   \n",
      "867         0       1      0      0   50.4958              5   \n",
      "868         0       3      0      0    9.5000              0   \n",
      "869         1       3      1      1   11.1333              0   \n",
      "870         0       3      0      0    7.8958              0   \n",
      "871         1       1      1      1   52.5542              4   \n",
      "872         0       1      0      0    5.0000              6   \n",
      "873         0       3      0      0    9.0000              0   \n",
      "874         1       2      1      0   24.0000              0   \n",
      "875         1       3      0      0    7.2250              0   \n",
      "876         0       3      0      0    9.8458              0   \n",
      "877         0       3      0      0    7.8958              0   \n",
      "878         0       3      0      0    7.8958              0   \n",
      "879         1       1      0      1   83.1583              1   \n",
      "880         1       2      0      1   26.0000              0   \n",
      "881         0       3      0      0    7.8958              0   \n",
      "882         0       3      0      0   10.5167              0   \n",
      "883         0       2      0      0   10.5000              0   \n",
      "884         0       3      0      0    7.0500              0   \n",
      "885         0       3      0      5   29.1250              0   \n",
      "886         0       2      0      0   13.0000              0   \n",
      "887         1       1      0      0   30.0000              6   \n",
      "888         0       3      1      2   23.4500              0   \n",
      "889         1       1      0      0   30.0000              1   \n",
      "890         0       3      0      0    7.7500              0   \n",
      "\n",
      "     Embarked_Numeric  Sex_Numeric  \n",
      "0                   0            0  \n",
      "1                   1            1  \n",
      "2                   0            1  \n",
      "3                   0            1  \n",
      "4                   0            0  \n",
      "5                   2            0  \n",
      "6                   0            0  \n",
      "7                   0            0  \n",
      "8                   0            1  \n",
      "9                   1            1  \n",
      "10                  0            1  \n",
      "11                  0            1  \n",
      "12                  0            0  \n",
      "13                  0            0  \n",
      "14                  0            1  \n",
      "15                  0            1  \n",
      "16                  2            0  \n",
      "17                  0            0  \n",
      "18                  0            1  \n",
      "19                  1            1  \n",
      "20                  0            0  \n",
      "21                  0            0  \n",
      "22                  2            1  \n",
      "23                  0            0  \n",
      "24                  0            1  \n",
      "25                  0            1  \n",
      "26                  1            0  \n",
      "27                  0            0  \n",
      "28                  2            1  \n",
      "29                  0            0  \n",
      "..                ...          ...  \n",
      "861                 0            0  \n",
      "862                 0            1  \n",
      "863                 0            1  \n",
      "864                 0            0  \n",
      "865                 0            1  \n",
      "866                 1            1  \n",
      "867                 0            0  \n",
      "868                 0            0  \n",
      "869                 0            0  \n",
      "870                 0            0  \n",
      "871                 0            1  \n",
      "872                 0            0  \n",
      "873                 0            0  \n",
      "874                 1            1  \n",
      "875                 1            1  \n",
      "876                 0            0  \n",
      "877                 0            0  \n",
      "878                 0            0  \n",
      "879                 1            1  \n",
      "880                 0            1  \n",
      "881                 0            0  \n",
      "882                 0            1  \n",
      "883                 0            0  \n",
      "884                 0            0  \n",
      "885                 2            1  \n",
      "886                 0            0  \n",
      "887                 0            1  \n",
      "888                 0            1  \n",
      "889                 1            0  \n",
      "890                 2            0  \n",
      "\n",
      "[891 rows x 8 columns]\n"
     ]
    }
   ],
   "source": [
    "## Deal with Ticket features\n",
    "# drop Ticket feature\n",
    "train_set = train_set.drop(['Ticket'], axis = 1)\n",
    "test_set = test_set.drop(['Ticket'], axis = 1)\n",
    "\n",
    "print(train_set)"
   ]
  },
  {
   "cell_type": "markdown",
   "metadata": {},
   "source": [
    "# Visualize features"
   ]
  },
  {
   "cell_type": "code",
   "execution_count": 11,
   "metadata": {},
   "outputs": [
    {
     "data": {
      "text/plain": [
       "<matplotlib.axes._subplots.AxesSubplot at 0x22c2b8fafd0>"
      ]
     },
     "execution_count": 11,
     "metadata": {},
     "output_type": "execute_result"
    },
    {
     "data": {
      "image/png": "[encoded data removed]",
      "text/plain": [
       "<matplotlib.figure.Figure at 0x22c2b8faf98>"
      ]
     },
     "metadata": {},
     "output_type": "display_data"
    }
   ],
   "source": [
    "# Visualize correlation of each features\n",
    "plt.figure(figsize=(12,12))\n",
    "plt.title('Pearson Correlation of Features')\n",
    "sns.heatmap(train_set.astype(float).corr(),linewidths=0.1,vmax=1.0, square=True, linecolor='white', annot=True)"
   ]
  },
  {
   "cell_type": "code",
   "execution_count": 12,
   "metadata": {
    "scrolled": true
   },
   "outputs": [
    {
     "name": "stdout",
     "output_type": "stream",
     "text": [
      "Survived Min : 0.00, Max : 1.00, Mean : 0.38, Median : 0.00, Std : 0.49\n",
      "Pclass Min : 1.00, Max : 3.00, Mean : 2.31, Median : 3.00, Std : 0.84\n",
      "SibSp Min : 0.00, Max : 8.00, Mean : 0.52, Median : 0.00, Std : 1.10\n",
      "Parch Min : 0.00, Max : 6.00, Mean : 0.38, Median : 0.00, Std : 0.81\n",
      "Fare Min : 0.00, Max : 512.33, Mean : 32.20, Median : 14.45, Std : 49.67\n",
      "Cabin_Numeric Min : 0.00, Max : 8.00, Mean : 0.81, Median : 0.00, Std : 1.81\n",
      "Embarked_Numeric Min : 0.00, Max : 3.00, Mean : 0.37, Median : 0.00, Std : 0.65\n",
      "Sex_Numeric Min : 0.00, Max : 1.00, Mean : 0.35, Median : 0.00, Std : 0.48\n"
     ]
    },
    {
     "data": {
      "image/png": "[encoded data removed]",
      "text/plain": [
       "<matplotlib.figure.Figure at 0x22c2be126d8>"
      ]
     },
     "metadata": {},
     "output_type": "display_data"
    },
    {
     "data": {
      "image/png": "[encoded data removed]",
      "text/plain": [
       "<matplotlib.figure.Figure at 0x22c2ba2d940>"
      ]
     },
     "metadata": {},
     "output_type": "display_data"
    },
    {
     "data": {
      "image/png": "[encoded data removed]",
      "text/plain": [
       "<matplotlib.figure.Figure at 0x22c2bace390>"
      ]
     },
     "metadata": {},
     "output_type": "display_data"
    },
    {
     "data": {
      "image/png": "[encoded data removed]",
      "text/plain": [
       "<matplotlib.figure.Figure at 0x22c2ba827b8>"
      ]
     },
     "metadata": {},
     "output_type": "display_data"
    },
    {
     "data": {
      "image/png": "[encoded data removed]",
      "text/plain": [
       "<matplotlib.figure.Figure at 0x22c2bbedeb8>"
      ]
     },
     "metadata": {},
     "output_type": "display_data"
    },
    {
     "data": {
      "image/png": "[encoded data removed]",
      "text/plain": [
       "<matplotlib.figure.Figure at 0x22c2bc8a940>"
      ]
     },
     "metadata": {},
     "output_type": "display_data"
    },
    {
     "data": {
      "image/png": "[encoded data removed]",
      "text/plain": [
       "<matplotlib.figure.Figure at 0x22c2c0b1e48>"
      ]
     },
     "metadata": {},
     "output_type": "display_data"
    },
    {
     "data": {
      "image/png": "[encoded data removed]",
      "text/plain": [
       "<matplotlib.figure.Figure at 0x22c2c145ef0>"
      ]
     },
     "metadata": {},
     "output_type": "display_data"
    }
   ],
   "source": [
    "## visualize distribution of each features\n",
    "\n",
    "col_interest = ['Fare', 'SibSp', 'Parch']\n",
    "\n",
    "def r2(x): return round(x,2)\n",
    "\n",
    "for col in list(train_set):\n",
    "    fig = plt.figure()\n",
    "    ax1 = fig.gca()\n",
    "    \n",
    "    plt.hist(train_set[col])\n",
    "    print('{:s} Min : {:.2f}, Max : {:.2f}, Mean : {:.2f}, Median : {:.2f}, Std : {:.2f}'.format\n",
    "          (col, np.min(train_set[col]), np.max(train_set[col]), np.mean(train_set[col])\n",
    "          , np.median(train_set[col]), np.std(train_set[col])))\n",
    "    plt.title('Distribution of :' + col)"
   ]
  },
  {
   "cell_type": "code",
   "execution_count": 13,
   "metadata": {
    "scrolled": true
   },
   "outputs": [
    {
     "data": {
      "text/plain": [
       "<matplotlib.figure.Figure at 0x22c2b8fae48>"
      ]
     },
     "metadata": {},
     "output_type": "display_data"
    },
    {
     "data": {
      "image/png": "[encoded data removed]",
      "text/plain": [
       "<matplotlib.figure.Figure at 0x22c2d3771d0>"
      ]
     },
     "metadata": {},
     "output_type": "display_data"
    }
   ],
   "source": [
    "## visualize box plot\n",
    "\n",
    "col_interest = ['Fare']\n",
    "for col in col_interest:\n",
    "    fig = plt.figure()\n",
    "    train_set.boxplot(column = col, by = ['Survived'], figsize = (10,10))\n",
    "    plt.xlabel('Survived')\n",
    "    plt.ylabel(col)"
   ]
  },
  {
   "cell_type": "code",
   "execution_count": 14,
   "metadata": {
    "scrolled": true
   },
   "outputs": [
    {
     "name": "stdout",
     "output_type": "stream",
     "text": [
      "dead\n",
      " 0    468\n",
      "1     81\n",
      "Name: Sex_Numeric, dtype: int64\n",
      "survived\n",
      " 0    109\n",
      "1    233\n",
      "Name: Sex_Numeric, dtype: int64\n",
      "0    549\n",
      "Name: Survived, dtype: int64\n"
     ]
    },
    {
     "data": {
      "image/png": "[encoded data removed]",
      "text/plain": [
       "<matplotlib.figure.Figure at 0x22c2d36b668>"
      ]
     },
     "metadata": {},
     "output_type": "display_data"
    },
    {
     "data": {
      "image/png": "[encoded data removed]",
      "text/plain": [
       "<matplotlib.figure.Figure at 0x22c2d4f77f0>"
      ]
     },
     "metadata": {},
     "output_type": "display_data"
    },
    {
     "data": {
      "image/png": "[encoded data removed]",
      "text/plain": [
       "<matplotlib.figure.Figure at 0x22c2c1d1710>"
      ]
     },
     "metadata": {},
     "output_type": "display_data"
    },
    {
     "data": {
      "image/png": "[encoded data removed]",
      "text/plain": [
       "<matplotlib.figure.Figure at 0x22c2c0b1da0>"
      ]
     },
     "metadata": {},
     "output_type": "display_data"
    },
    {
     "data": {
      "image/png": "[encoded data removed]",
      "text/plain": [
       "<matplotlib.figure.Figure at 0x22c2d2d7cf8>"
      ]
     },
     "metadata": {},
     "output_type": "display_data"
    },
    {
     "data": {
      "image/png": "[encoded data removed]",
      "text/plain": [
       "<matplotlib.figure.Figure at 0x22c2c08e978>"
      ]
     },
     "metadata": {},
     "output_type": "display_data"
    },
    {
     "data": {
      "image/png": "[encoded data removed]",
      "text/plain": [
       "<matplotlib.figure.Figure at 0x22c2bb59ba8>"
      ]
     },
     "metadata": {},
     "output_type": "display_data"
    }
   ],
   "source": [
    "## Visualize barplot group by survived\n",
    "\n",
    "print('dead\\n', train_set.loc[train_set['Survived'] == 0, 'Sex_Numeric'].value_counts(sort = False))\n",
    "print('survived\\n', train_set.loc[train_set['Survived'] == 1, 'Sex_Numeric'].value_counts(sort = False))\n",
    "\n",
    "for col in set(list(train_set)) - set(['Fare']):\n",
    "    \n",
    "    fig, (ax1, ax2) = plt.subplots(1, 2, figsize=(10,5), sharex = True, sharey = True)\n",
    "    train_set.loc[train_set['Survived'] == 0, col].value_counts(sort = False).plot(kind = 'bar', ax = ax1)\n",
    "    ax1.set_title('Dead')\n",
    "    train_set.loc[train_set['Survived'] == 1, col].value_counts(sort = False).plot(kind = 'bar', ax = ax2)\n",
    "    ax2.set_title('Survived')\n",
    "    ax1.set_ylabel(col)\n",
    "    \n",
    "print(train_set.loc[train_set['Survived'] == 0, 'Survived'].value_counts())\n"
   ]
  },
  {
   "cell_type": "code",
   "execution_count": 15,
   "metadata": {
    "scrolled": false
   },
   "outputs": [
    {
     "name": "stdout",
     "output_type": "stream",
     "text": [
      "0    549\n",
      "Name: Survived, dtype: int64\n"
     ]
    },
    {
     "data": {
      "image/png": "[encoded data removed]",
      "text/plain": [
       "<matplotlib.figure.Figure at 0x22c2bac0f60>"
      ]
     },
     "metadata": {},
     "output_type": "display_data"
    },
    {
     "data": {
      "image/png": "[encoded data removed]",
      "text/plain": [
       "<matplotlib.figure.Figure at 0x22c2d7941d0>"
      ]
     },
     "metadata": {},
     "output_type": "display_data"
    },
    {
     "data": {
      "image/png": "[encoded data removed]",
      "text/plain": [
       "<matplotlib.figure.Figure at 0x22c2d8a7cf8>"
      ]
     },
     "metadata": {},
     "output_type": "display_data"
    },
    {
     "data": {
      "image/png": "[encoded data removed]",
      "text/plain": [
       "<matplotlib.figure.Figure at 0x22c2d9f4c18>"
      ]
     },
     "metadata": {},
     "output_type": "display_data"
    },
    {
     "data": {
      "image/png": "[encoded data removed]",
      "text/plain": [
       "<matplotlib.figure.Figure at 0x22c2dafc898>"
      ]
     },
     "metadata": {},
     "output_type": "display_data"
    },
    {
     "data": {
      "image/png": "[encoded data removed]",
      "text/plain": [
       "<matplotlib.figure.Figure at 0x22c2dc98f98>"
      ]
     },
     "metadata": {},
     "output_type": "display_data"
    },
    {
     "data": {
      "image/png": "[encoded data removed]",
      "text/plain": [
       "<matplotlib.figure.Figure at 0x22c2ddd9780>"
      ]
     },
     "metadata": {},
     "output_type": "display_data"
    }
   ],
   "source": [
    "## Visualize barplot group by survived and divide by number of survival \n",
    "# to observe each category in normalize way\n",
    "\n",
    "num_survive = len(train_set.loc[train_set['Survived'] == 1, 'Survived'])\n",
    "num_notsurvive = len(train_set.loc[train_set['Survived'] == 0, 'Survived'])\n",
    "for col in set(list(train_set)) - set(['Fare']):\n",
    "    \n",
    "    fig, (ax1, ax2) = plt.subplots(1, 2, figsize=(10,5), sharex = True, sharey = True)\n",
    "    (train_set.loc[train_set['Survived'] == 0, col].value_counts(sort = False)/num_notsurvive).plot(kind = 'bar', ax = ax1)\n",
    "    ax1.set_title('Dead')\n",
    "    (train_set.loc[train_set['Survived'] == 1, col].value_counts(sort = False)/num_survive).plot(kind = 'bar', ax = ax2)\n",
    "    ax2.set_title('Survived')\n",
    "    ax1.set_ylabel(col + ' Ratio')\n",
    "    \n",
    "print(train_set.loc[train_set['Survived'] == 0, 'Survived'].value_counts())\n"
   ]
  },
  {
   "cell_type": "markdown",
   "metadata": {
    "collapsed": true
   },
   "source": [
    "# Deep Learning NN\n",
    "N-layer NN are used to learn survival of passenger."
   ]
  },
  {
   "cell_type": "code",
   "execution_count": 18,
   "metadata": {},
   "outputs": [
    {
     "name": "stdout",
     "output_type": "stream",
     "text": [
      "Shape of X for train (7, 891)\n",
      "Shape of Y for train (1, 891)\n",
      "Shape of X for test (7, 418)\n"
     ]
    }
   ],
   "source": [
    "## create x_train, x_test and y_train\n",
    "train_set_feature = train_set.drop(['Survived'], axis = 1) # drop label output\n",
    "train_set_feature['Fare'] = (train_set_feature['Fare'] - np.mean(train_set_feature['Fare']))/np.std(train_set_feature['Fare'])\n",
    "\n",
    "x_train = train_set_feature.as_matrix().T\n",
    "x_test = test_set.as_matrix().T\n",
    "\n",
    "y_train = train_set['Survived'].as_matrix().T\n",
    "y_train = y_train.reshape(1, len(y_train))\n",
    "\n",
    "print('Shape of X for train', x_train.shape)\n",
    "print('Shape of Y for train', y_train.shape)\n",
    "print('Shape of X for test', x_test.shape)"
   ]
  },
  {
   "cell_type": "markdown",
   "metadata": {},
   "source": [
    "# Create Place Holders (Input, Output)\n",
    "Create method for crate place holder"
   ]
  },
  {
   "cell_type": "code",
   "execution_count": 19,
   "metadata": {
    "collapsed": true
   },
   "outputs": [],
   "source": [
    "# place holders\n",
    "\n",
    "def create_placeholders(n_x, n_y):\n",
    "    '''\n",
    "    Creates place holders for TensorFlow session (Place holders is a variable that can be update during sessions)\n",
    "    \n",
    "    Arguments:\n",
    "    n_x = Number of input features\n",
    "    n_y = Number of label outputs\n",
    "    \n",
    "    Return:\n",
    "    X = placeholders for input\n",
    "    Y = labels for output\n",
    "    '''\n",
    "    \n",
    "    X = tf.placeholder(tf.float32, shape = (n_x, None), name = 'X')\n",
    "    Y = tf.placeholder(tf.float32, shape = (n_y, None), name = 'Y')\n",
    "    \n",
    "    return X, Y"
   ]
  },
  {
   "cell_type": "code",
   "execution_count": 20,
   "metadata": {},
   "outputs": [
    {
     "name": "stdout",
     "output_type": "stream",
     "text": [
      "X = Tensor(\"X:0\", shape=(7, ?), dtype=float32)\n",
      "Y = Tensor(\"Y:0\", shape=(1, ?), dtype=float32)\n"
     ]
    }
   ],
   "source": [
    "# Unit test\n",
    "X, Y = create_placeholders(7, 1)\n",
    "print('X =', X)\n",
    "print('Y =', Y)"
   ]
  },
  {
   "cell_type": "markdown",
   "metadata": {},
   "source": [
    "# Create Initializing parameters method"
   ]
  },
  {
   "cell_type": "code",
   "execution_count": 21,
   "metadata": {
    "collapsed": true
   },
   "outputs": [],
   "source": [
    "# create initializing parameters \n",
    "\n",
    "def initialize_parameters_deep(layers_dim):\n",
    "    '''\n",
    "    Create and initialize parameters according to number of hidden neuron in each layers.\n",
    "    \n",
    "    Arguments:\n",
    "    layer_dim = vector of number of hidden neuron in each layer, eg. [n_x, 5, 3, n_y] \n",
    "    \n",
    "    Return:\n",
    "    parameters = dictionary of tensor variables w and b\n",
    "    '''\n",
    "    \n",
    "    parameters = {}\n",
    "        \n",
    "    tf.set_random_seed(1)\n",
    "    num_all_layers = len(layers_dim)\n",
    "\n",
    "    for i in range(num_all_layers-1):\n",
    "        parameters['W'+str(i+1)] = tf.get_variable('W' + str(i+1), [layers_dim[i+1], layers_dim[i]], initializer = tf.contrib.layers.xavier_initializer(seed = i))\n",
    "        parameters['b'+str(i+1)] = tf.get_variable('b' + str(i+1), [layers_dim[i+1], 1], initializer = tf.zeros_initializer())    \n",
    "    \n",
    "    return parameters\n"
   ]
  },
  {
   "cell_type": "code",
   "execution_count": 22,
   "metadata": {},
   "outputs": [
    {
     "name": "stdout",
     "output_type": "stream",
     "text": [
      "W1 <tf.Variable 'W1:0' shape=(4, 5) dtype=float32_ref>\n",
      "b1 <tf.Variable 'b1:0' shape=(4, 1) dtype=float32_ref>\n",
      "W2 <tf.Variable 'W2:0' shape=(3, 4) dtype=float32_ref>\n",
      "b2 <tf.Variable 'b2:0' shape=(3, 1) dtype=float32_ref>\n"
     ]
    }
   ],
   "source": [
    "graph = tf.Graph()\n",
    "with graph.as_default(): # reset to default graph every times\n",
    "\n",
    "    parameters = initialize_parameters_deep([5, 4, 3])\n",
    "    print('W1', parameters['W1'])\n",
    "    print('b1', parameters['b1'])\n",
    "    print('W2', parameters['W2'])\n",
    "    print('b2', parameters['b2'])"
   ]
  },
  {
   "cell_type": "markdown",
   "metadata": {
    "collapsed": true
   },
   "source": [
    "# Forward Propagation Method"
   ]
  },
  {
   "cell_type": "code",
   "execution_count": 23,
   "metadata": {
    "collapsed": true
   },
   "outputs": [],
   "source": [
    "def forward_propagation(X, parameters):\n",
    "    '''\n",
    "    Feed input forward to get estimated output\n",
    "    \n",
    "    Arguments:\n",
    "    X : input\n",
    "    \n",
    "    Return:\n",
    "    ZL : logits output of last layer (not activation output !)\n",
    "    '''\n",
    "    \n",
    "    L = len(parameters)//2 # Number of layers\n",
    "    Atemp = X              # input layer\n",
    "    \n",
    "    for i in range(L):\n",
    "        Wn = parameters['W' + str(i+1)]\n",
    "        bn = parameters['b' + str(i+1)]\n",
    "        Ztemp = tf.matmul(Wn, Atemp) + bn\n",
    "        Atemp = tf.nn.relu(Ztemp)\n",
    "      \n",
    "    Atemp = tf.sigmoid(Ztemp)\n",
    "    # return Ztemp because the last process in next method will use this value instead of AL\n",
    "    \n",
    "    return Ztemp, Atemp\n",
    "    "
   ]
  },
  {
   "cell_type": "code",
   "execution_count": 24,
   "metadata": {},
   "outputs": [
    {
     "name": "stdout",
     "output_type": "stream",
     "text": [
      "Tensor(\"add_1:0\", shape=(2, ?), dtype=float32)\n"
     ]
    }
   ],
   "source": [
    "graph = tf.Graph()\n",
    "with graph.as_default():\n",
    "    layers_dim = [5, 4, 2]\n",
    "    X,Y = create_placeholders(layers_dim[0], layers_dim[2])\n",
    "    parameters = initialize_parameters_deep(layers_dim)\n",
    "    Ztemp, Atemp = forward_propagation(X, parameters)\n",
    "    \n",
    "    print(Ztemp)\n",
    "    "
   ]
  },
  {
   "cell_type": "markdown",
   "metadata": {},
   "source": [
    "# Compute Cost Method"
   ]
  },
  {
   "cell_type": "code",
   "execution_count": 25,
   "metadata": {
    "collapsed": true
   },
   "outputs": [],
   "source": [
    "def compute_cost(ZL, Y):\n",
    "    '''\n",
    "    Compute cost using sigmoid_cross_entropy\n",
    "    \n",
    "    Arguments : \n",
    "    ZL, Y\n",
    "    \n",
    "    Return :\n",
    "    cost\n",
    "    '''\n",
    "    \n",
    "    logits = tf.transpose(ZL)\n",
    "    labels = tf.transpose(Y)\n",
    "    \n",
    "    cost = tf.reduce_mean(tf.nn.sigmoid_cross_entropy_with_logits(logits = logits, labels = labels))\n",
    "    \n",
    "    return cost"
   ]
  },
  {
   "cell_type": "code",
   "execution_count": 26,
   "metadata": {},
   "outputs": [
    {
     "name": "stdout",
     "output_type": "stream",
     "text": [
      "Tensor(\"Mean:0\", shape=(), dtype=float32)\n"
     ]
    }
   ],
   "source": [
    "graph = tf.Graph()\n",
    "\n",
    "with graph.as_default():\n",
    "    with tf.Session() as sess:\n",
    "        layers_dim = [5, 4, 2]\n",
    "        X, Y = create_placeholders(layers_dim[0], layers_dim[2])\n",
    "        parameters = initialize_parameters_deep(layers_dim)\n",
    "        ZL, AL = forward_propagation(X, parameters)\n",
    "        cost = compute_cost(ZL, Y)\n",
    "\n",
    "print(cost)"
   ]
  },
  {
   "cell_type": "markdown",
   "metadata": {},
   "source": [
    "# Random Split Train, Dev and Test set"
   ]
  },
  {
   "cell_type": "code",
   "execution_count": 90,
   "metadata": {},
   "outputs": [],
   "source": [
    "def random_data(X, Y, ratio):\n",
    "    '''\n",
    "    Random and split train, dev, test set with ratio of given value\n",
    "    \n",
    "    Arguments:\n",
    "    X : input of data\n",
    "    Y : output of data\n",
    "    Ratio : ratio of train, dev and test set\n",
    "    \n",
    "    Return:\n",
    "    Xs : (X_train, X_dev, X_test)\n",
    "    Ys : (Y_train, Y_dev, Y_test)\n",
    "    '''\n",
    "    \n",
    "    m = X.shape[1]\n",
    "    print(m)\n",
    "    randIndex = np.random.permutation(m)\n",
    "    \n",
    "    train_index = randIndex[0:int(ratio[0]*m)]\n",
    "    dev_index = randIndex[int(ratio[0]*m)+1:int((ratio[1]+ratio[0])*m)]\n",
    "    test_index = randIndex[int((ratio[1]+ratio[0])*m)+1:]\n",
    "    \n",
    "    Xs = (X[:, train_index], X[:, dev_index], X[:, test_index])\n",
    "    Ys = (Y[:, train_index], Y[:, dev_index], Y[:, test_index])\n",
    "    \n",
    "    return Xs, Ys"
   ]
  },
  {
   "cell_type": "code",
   "execution_count": 91,
   "metadata": {},
   "outputs": [
    {
     "name": "stdout",
     "output_type": "stream",
     "text": [
      "891\n",
      "train_index [348 100 319 454 126 834 325 627 767 879  56 133 686 306 158  96 457   8\n",
      " 191 499 299 876 796 218 233   9 468 631 859 320 510  75 589 804 664 860\n",
      " 313 597 640  65  81 410 340 407 447 681 704 864 522 643 653 866 546  24\n",
      " 697 637 376 666 837 561 593 514 826 682 225 806 448 472 391 195 187 641\n",
      " 494 833 776 534  64 311  69 487 519 415 621 354 577 281 419 212 872   4\n",
      " 398 131 469 501 331 580 134 600 706 680 865 603 172 880 110 512 840 310\n",
      " 244 849 667 683  46 544 579 304 350  28 770 669 688 598 153  66 347 232\n",
      " 673 240 511 150 537 307 432 805 757 456 552 702 869 489 850 445 492 483\n",
      " 210 657 392 778 309 127 375 438 545 720 471 125 852 497 462 699 286 246\n",
      " 538 194 269 645 397  19 563 725 302 259 727 193 736 495 184 389 845 427\n",
      "  13 353 207 822  10  79  80 780 548 684 338 803  76 464 453 183 774   0\n",
      " 490 605 408  85 750 890 571 257 815 871 573 663 421 301 553 728 724 434\n",
      " 201  32 660 336 717 506  23 615  15  68 569 227 507 235 182 558 256 516\n",
      " 821 509 620 578 703 152 715 321 722 241  50 303 114  17 162 503 607 485\n",
      " 373 521 689 395 602 785 802 129 588 513 870 200 839  94 779 797 190 343\n",
      " 835  25 867 411 790 831 458 151 337 268 160 737  61 618 772 646 484 284\n",
      " 357 449  35 206 416 596  29 123  21 550 526 769 814 229 795  84 841 170\n",
      " 788  27 424 856 326 862 825 649 243 782 810 582 282 285 844 156 324 633\n",
      " 189 690 877 433 423 260 762 753 567 466 694 555 801 855 793 198 288 549\n",
      " 287 132 504  83 676 465 180 566 431 378 652 614  18 163 672 196 742 608\n",
      " 266 502 889 636 606 695 455  70 628 248 478 755 366 656  55 873 109 713\n",
      " 739 381 128 729 137 581 364 644 409 661 787 842 247  44 493 312 403 650\n",
      " 122 401 741 157 733 237 721 223 613 135 648 479 425 698  52 846 188 255\n",
      " 279  38 777 707 609 249  45 168 139  41  97 443 508 886 692 213 477  43\n",
      " 379 718  34 836 883 252  22 679 616 632 220  58 726 121 807 587 863 446\n",
      "   6 488 390 238 323 178 524 574 853 359 536 276 116 430 192 851 199 224\n",
      " 601 747 763 610 327 221 568 748 570 296 467 460 214  63 329 440 744 630\n",
      " 532 525 175 647 429 176 612 428 275 149 385 843  74 775 141 687 333 215\n",
      " 386 370 678 551  49 535 735 261 226 486 356 520  53 557  59 481 677 882\n",
      " 388  42  71 783 693 380 317 145 719 418 784 254]\n",
      "dev_index [346 461 760 349 745 576 179 635 166 208 766 685 393 848 714 554 103 144\n",
      " 369 322 216  11 480 592 242 173 382 204 148 584 523 372 102 830 654 668\n",
      " 808 115 564 420 800 543 203  92  78 560 112 540 475 147 527 315 177 211\n",
      " 794 293 829 659 547 518 622 854 442 394 452 236 556 473 858 740 280 444\n",
      " 583 374 700 316  33 377 459 154 277 658 874 202 705 491 271 263 107 817\n",
      " 885  93  99 273 111 530 708 786 341 789 651 711 298 335 572 754 383 404\n",
      " 113 638 792 482 169   3  14 674 328   1 710 155 368  37 639 387 239 264\n",
      " 531 832 384 417  90 743   7 318 629  82 542 314  36 816 500 159  16 124\n",
      " 541  12 823 294   2 352 819 228 791 143 363  95 230 441 272 624 812 585\n",
      " 586 847  20 604 749 274 234 165 367  30 771 734 824 413  40]\n",
      "test_index [765 101 861 426 164 773 539 171 875 130 696 161 496 405 422 813 300 756\n",
      " 117  88 625 435 219 142   5 759 878  87  62 732 258 799 292 436 781 197\n",
      " 665 818 167 730 265 365 691 470 642  31 709 186 590 371 828 400 838 884\n",
      " 289 474 146  72 611 136 106 809 505 437  98 675 278 104 358 746 344 768\n",
      " 599 185 528 515  57 764 671 345 174 820 498 575 231 222 412 305 738 562\n",
      " 476 295 119 360 868 450 881 565 361 105 342 205 108  86 330 811 827 731\n",
      " 761  54  60 888 138  47 758  77 451 463 120 251  48 414 798 887  91  67\n",
      " 270 334 262 723 439  26 752 402 140 857 267  73 396 634 626 291 619 339\n",
      " 655 181 623 559 712 533 217 670 529 751 591 701 362 662 283  89 332 290\n",
      " 617  39 253 209 245  51 594 517 355 297 399 250 716 406 351 595]\n",
      "[[ 1.  3.  2. ...,  3.  1.  3.]\n",
      " [ 1.  0.  1. ...,  0.  0.  1.]\n",
      " [ 0.  0.  0. ...,  0.  0.  1.]\n",
      " ..., \n",
      " [ 4.  0.  0. ...,  0.  1.  0.]\n",
      " [ 0.  0.  0. ...,  0.  0.  0.]\n",
      " [ 1.  0.  0. ...,  0.  0.  0.]]\n"
     ]
    }
   ],
   "source": [
    "Xs, Ys = random_data(x_train, y_train, [0.6, 0.2, 0.2])\n",
    "print(Xs[2])"
   ]
  },
  {
   "cell_type": "markdown",
   "metadata": {},
   "source": [
    "# Build N-layer NN !\n",
    "Backpropagation and parameters update are using just 1 line of code, so there is no need to create a method."
   ]
  },
  {
   "cell_type": "code",
   "execution_count": 63,
   "metadata": {
    "collapsed": true
   },
   "outputs": [],
   "source": [
    "def n_layer_nn(X_train, Y_train, X_dev, Y_dev, layers_dim_between_n_x_and_n_y, learning_rate = 10**-3, num_epochs = 10000\n",
    "               ,print_cost = True):\n",
    "    \n",
    "    n_x = X_train.shape[0]\n",
    "    n_y = Y_train.shape[0]\n",
    "    \n",
    "    m = Y_train.shape[1]\n",
    "    layers_dim = layers_dim_between_n_x_and_n_y\n",
    "    layers_dim.insert(0, n_x)\n",
    "    layers_dim.append(n_y)\n",
    "    print('layers_dim', layers_dim)\n",
    "    \n",
    "    ## initialize parameters\n",
    "    graph = tf.Graph()\n",
    "    with graph.as_default(): # set graph as default so this method can be rerun !\n",
    "        X, Y = create_placeholders(n_x, n_y)\n",
    "        parameters = initialize_parameters_deep(layers_dim)\n",
    "        \n",
    "        ZL, AL = forward_propagation(X, parameters)\n",
    "        cost = compute_cost(ZL, Y)\n",
    "        \n",
    "        # create optimizer \n",
    "        optimizer = tf.train.AdamOptimizer(learning_rate = learning_rate).minimize(cost)\n",
    "        # initialize all variables \n",
    "        init = tf.global_variables_initializer()\n",
    "    \n",
    "        with tf.Session() as sess:\n",
    "            sess.run(init) # run initialize\n",
    "\n",
    "            for i in range(num_epochs):\n",
    "                _, cost_val = sess.run([optimizer, cost], feed_dict={X:X_train, Y:Y_train})\n",
    "\n",
    "                if i % 1000 == 0 and print_cost == True:\n",
    "                    print('Cost :', cost_val)\n",
    "\n",
    "            # plot the cost\n",
    "            '''\n",
    "            fig = plt.figure()\n",
    "            plt.plot(np.squeeze(cost_val))\n",
    "            plt.ylabel('cost')\n",
    "            plt.xlabel('iterations')\n",
    "            plt.title(\"Learning rate =\" + str(learning_rate))\n",
    "            plt.show()\n",
    "            '''\n",
    "\n",
    "            # collect parameters\n",
    "            parameters = sess.run(parameters)\n",
    "            AL_train_val = sess.run(AL, feed_dict={X:X_train})\n",
    "            AL_dev_val = sess.run(AL, feed_dict={X:X_dev})\n",
    "            \n",
    "            f = lambda x: 0 if x < 0.5 else 1\n",
    "            AL_val_logit = [f(x) for x in np.squeeze(AL_train_val)]\n",
    "            AL_dev_logit = [f(x) for x in np.squeeze(AL_dev_val)]\n",
    "\n",
    "            # calculate train accuracy\n",
    "\n",
    "            print (\"Train Accuracy:\", np.mean(AL_val_logit == Y_train))\n",
    "            print (\"Dev Accuracy:\", np.mean(AL_dev_logit == Y_dev))\n",
    "\n",
    "            return parameters, np.mean(AL_val_logit == Y_train)\n",
    "        "
   ]
  },
  {
   "cell_type": "code",
   "execution_count": 77,
   "metadata": {
    "scrolled": false
   },
   "outputs": [
    {
     "name": "stdout",
     "output_type": "stream",
     "text": [
      "layers_dim [7, 9, 1]\n",
      "Cost : 0.904615\n",
      "Cost : 0.435093\n",
      "Cost : 0.423962\n",
      "Cost : 0.421646\n",
      "Cost : 0.419074\n",
      "Cost : 0.416521\n",
      "Cost : 0.412172\n",
      "Cost : 0.410868\n",
      "Cost : 0.41008\n",
      "Cost : 0.409557\n",
      "Train Accuracy: 0.812734082397\n",
      "Dev Accuracy: nan\n"
     ]
    },
    {
     "name": "stderr",
     "output_type": "stream",
     "text": [
      "D:\\ProgramData\\Anaconda3\\lib\\site-packages\\numpy\\core\\fromnumeric.py:2909: RuntimeWarning: Mean of empty slice.\n",
      "  out=out, **kwargs)\n",
      "D:\\ProgramData\\Anaconda3\\lib\\site-packages\\numpy\\core\\_methods.py:80: RuntimeWarning: invalid value encountered in double_scalars\n",
      "  ret = ret.dtype.type(ret / rcount)\n"
     ]
    },
    {
     "data": {
      "text/plain": [
       "({'W1': array([[ 0.46287844, -0.33487031,  0.42764318,  1.6555239 , -0.07743302,\n",
       "           0.53358126, -1.05275011],\n",
       "         [ 0.18648939,  0.66673017,  0.1567788 , -0.61807626,  0.8972795 ,\n",
       "          -0.15941849,  2.79598665],\n",
       "         [-0.12990528,  0.42142615,  1.47525263,  0.43121767,  0.15969332,\n",
       "           0.42250183, -0.91092288],\n",
       "         [ 0.15650629, -0.03729705, -1.1573149 , -0.96415907, -0.29360247,\n",
       "          -1.15520668, -0.99054712],\n",
       "         [-0.95326596,  0.33584246,  0.89018649,  0.51350409,  0.73301572,\n",
       "           1.2409867 ,  1.75946057],\n",
       "         [ 0.49866059,  0.10987641, -0.21590051,  0.02185162,  0.52617049,\n",
       "           0.16517644,  0.67799813],\n",
       "         [ 1.28204298,  0.39143962,  0.49378043,  1.04246163,  0.37576726,\n",
       "          -0.76930237,  1.67833412],\n",
       "         [-0.59123242, -0.33228609, -0.60795575,  0.09683955, -0.30411607,\n",
       "          -0.07968352, -0.38118923],\n",
       "         [ 0.74774259,  0.53942782, -0.01091162,  0.55042672, -0.04460122,\n",
       "          -4.41916704,  0.83073682]], dtype=float32),\n",
       "  'W2': array([[-1.89897466, -2.25887752, -1.04470277, -2.26785278,  1.59996462,\n",
       "           0.37617743,  2.08729625, -0.08874108, -2.37330532]], dtype=float32),\n",
       "  'b1': array([[ 1.3939867 ],\n",
       "         [-0.25695735],\n",
       "         [ 0.17946838],\n",
       "         [ 0.31579244],\n",
       "         [ 1.88952732],\n",
       "         [-0.28775945],\n",
       "         [-0.61291927],\n",
       "         [-0.0263995 ],\n",
       "         [-2.51243615]], dtype=float32),\n",
       "  'b2': array([[-0.17801212]], dtype=float32)},\n",
       " 0.81273408239700373)"
      ]
     },
     "execution_count": 77,
     "metadata": {},
     "output_type": "execute_result"
    }
   ],
   "source": [
    "m = x_train.shape[1]\n",
    "n_layer_nn(Xs[0], Ys[0], Xs[1], Xs[1], [9])"
   ]
  },
  {
   "cell_type": "markdown",
   "metadata": {},
   "source": [
    "# Random Search for Alpha"
   ]
  },
  {
   "cell_type": "code",
   "execution_count": 32,
   "metadata": {
    "collapsed": true
   },
   "outputs": [],
   "source": [
    "def random_search(X_train, Y_train, iteration = 20, num_epochs = 10000, print_cost = True):\n",
    "    \n",
    "    alpha = 10**(np.random.rand(iteration)*-3 - 1)\n",
    "    num_layer = np.round(np.random.rand(iteration)*3 + 1)\n",
    "    \n",
    "    mem = {}\n",
    "    \n",
    "    for i in range(iteration):\n",
    "        \n",
    "        layers_dim = sorted(list(np.round(np.random.rand(int(num_layer[i]))*20 + 1)), reverse = True)\n",
    "        \n",
    "        print('iter',i)\n",
    "        print('Alpha :', alpha[i])\n",
    "        print('Layer Dim :', layers_dim)\n",
    "        \n",
    "        parameters, cost = n_layer_nn(X_train, Y_train, layers_dim, learning_rate = alpha[i], num_epochs = 10000\n",
    "               ,print_cost = False)\n",
    "        \n",
    "        mem['parameters' + str(i)] = parameters\n",
    "        mem['cost'+str(i)] = cost\n",
    "    \n",
    "    return mem\n",
    "        \n",
    "    "
   ]
  },
  {
   "cell_type": "code",
   "execution_count": 33,
   "metadata": {
    "scrolled": false
   },
   "outputs": [
    {
     "name": "stdout",
     "output_type": "stream",
     "text": [
      "iter 0\n",
      "Alpha : 0.00108752547706\n",
      "Layer Dim : [19.0, 7.0, 7.0]\n",
      "layers_dim [7, 19.0, 7.0, 7.0, 1]\n",
      "Train Accuracy: 0.882154882155\n",
      "iter 1\n",
      "Alpha : 0.00060043958488\n",
      "Layer Dim : [15.0, 15.0, 6.0]\n",
      "layers_dim [7, 15.0, 15.0, 6.0, 1]\n",
      "Train Accuracy: 0.893378226712\n",
      "iter 2\n",
      "Alpha : 0.000117858342112\n",
      "Layer Dim : [16.0, 13.0, 8.0]\n",
      "layers_dim [7, 16.0, 13.0, 8.0, 1]\n",
      "Train Accuracy: 0.854096520763\n",
      "iter 3\n",
      "Alpha : 0.00522689766748\n",
      "Layer Dim : [19.0, 5.0]\n",
      "layers_dim [7, 19.0, 5.0, 1]\n",
      "Train Accuracy: 0.866442199776\n",
      "iter 4\n",
      "Alpha : 0.000853838428949\n",
      "Layer Dim : [20.0, 18.0, 7.0]\n",
      "layers_dim [7, 20.0, 18.0, 7.0, 1]\n",
      "Train Accuracy: 0.892255892256\n",
      "iter 5\n",
      "Alpha : 0.0950606409924\n",
      "Layer Dim : [19.0, 8.0]\n",
      "layers_dim [7, 19.0, 8.0, 1]\n",
      "Train Accuracy: 0.864197530864\n",
      "iter 6\n",
      "Alpha : 0.000235634983053\n",
      "Layer Dim : [20.0, 17.0, 12.0, 7.0]\n",
      "layers_dim [7, 20.0, 17.0, 12.0, 7.0, 1]\n",
      "Train Accuracy: 0.901234567901\n",
      "iter 7\n",
      "Alpha : 0.00257379867662\n",
      "Layer Dim : [15.0]\n",
      "layers_dim [7, 15.0, 1]\n",
      "Train Accuracy: 0.856341189675\n",
      "iter 8\n",
      "Alpha : 0.000348148786423\n",
      "Layer Dim : [15.0, 15.0, 4.0]\n",
      "layers_dim [7, 15.0, 15.0, 4.0, 1]\n",
      "Train Accuracy: 0.883277216611\n",
      "iter 9\n",
      "Alpha : 9.47468425066e-05\n",
      "Layer Dim : [11.0]\n",
      "layers_dim [7, 11.0, 1]\n",
      "Train Accuracy: 0.819304152637\n",
      "iter 10\n",
      "Alpha : 0.00208084955771\n",
      "Layer Dim : [20.0, 11.0]\n",
      "layers_dim [7, 20.0, 11.0, 1]\n",
      "Train Accuracy: 0.885521885522\n",
      "iter 11\n",
      "Alpha : 4.68895402931e-05\n",
      "Layer Dim : [8.0, 8.0]\n",
      "layers_dim [7, 8.0, 8.0, 1]\n",
      "Train Accuracy: 0.820426487093\n",
      "iter 12\n",
      "Alpha : 1.08944997339e-05\n",
      "Layer Dim : [12.0, 5.0]\n",
      "layers_dim [7, 12.0, 5.0, 1]\n",
      "Train Accuracy: 0.702581369248\n",
      "iter 13\n",
      "Alpha : 0.000162636543954\n",
      "Layer Dim : [17.0, 2.0]\n",
      "layers_dim [7, 17.0, 2.0, 1]\n",
      "Train Accuracy: 0.840628507295\n",
      "iter 14\n",
      "Alpha : 0.00132785551216\n",
      "Layer Dim : [8.0, 7.0, 6.0]\n",
      "layers_dim [7, 8.0, 7.0, 6.0, 1]\n",
      "Train Accuracy: 0.867564534231\n",
      "iter 15\n",
      "Alpha : 0.00178896301876\n",
      "Layer Dim : [15.0, 10.0]\n",
      "layers_dim [7, 15.0, 10.0, 1]\n",
      "Train Accuracy: 0.881032547699\n",
      "iter 16\n",
      "Alpha : 4.1771076942e-05\n",
      "Layer Dim : [17.0, 15.0, 14.0]\n",
      "layers_dim [7, 17.0, 15.0, 14.0, 1]\n",
      "Train Accuracy: 0.837261503928\n",
      "iter 17\n",
      "Alpha : 7.66296309218e-05\n",
      "Layer Dim : [8.0, 6.0, 1.0]\n",
      "layers_dim [7, 8.0, 6.0, 1.0, 1]\n",
      "Train Accuracy: 0.826038159371\n",
      "iter 18\n",
      "Alpha : 1.86361923232e-05\n",
      "Layer Dim : [19.0, 19.0, 16.0, 12.0]\n",
      "layers_dim [7, 19.0, 19.0, 16.0, 12.0, 1]\n",
      "Train Accuracy: 0.82379349046\n",
      "iter 19\n",
      "Alpha : 0.0858699326289\n",
      "Layer Dim : [15.0, 11.0]\n",
      "layers_dim [7, 15.0, 11.0, 1]\n",
      "Train Accuracy: 0.802469135802\n"
     ]
    }
   ],
   "source": [
    "mem = random_search(x_train, y_train, iteration = 20, num_epochs = 10000, print_cost = True)"
   ]
  },
  {
   "cell_type": "code",
   "execution_count": null,
   "metadata": {
    "collapsed": true
   },
   "outputs": [],
   "source": []
  }
 ],
 "metadata": {
  "kernelspec": {
   "display_name": "Python 3",
   "language": "python",
   "name": "python3"
  },
  "language_info": {
   "codemirror_mode": {
    "name": "ipython",
    "version": 3
   },
   "file_extension": ".py",
   "mimetype": "text/x-python",
   "name": "python",
   "nbconvert_exporter": "python",
   "pygments_lexer": "ipython3",
   "version": "3.6.1"
  }
 },
 "nbformat": 4,
 "nbformat_minor": 2
}
